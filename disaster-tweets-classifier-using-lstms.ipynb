{
 "cells": [
  {
   "cell_type": "code",
   "execution_count": 1,
   "id": "804bf20d",
   "metadata": {
    "execution": {
     "iopub.execute_input": "2023-07-25T19:24:38.343957Z",
     "iopub.status.busy": "2023-07-25T19:24:38.343576Z",
     "iopub.status.idle": "2023-07-25T19:24:50.539418Z",
     "shell.execute_reply": "2023-07-25T19:24:50.538191Z"
    },
    "papermill": {
     "duration": 12.20754,
     "end_time": "2023-07-25T19:24:50.541814",
     "exception": false,
     "start_time": "2023-07-25T19:24:38.334274",
     "status": "completed"
    },
    "tags": []
   },
   "outputs": [],
   "source": [
    "!pip install tensorflow --quiet"
   ]
  },
  {
   "cell_type": "code",
   "execution_count": 2,
   "id": "ff4e4c07",
   "metadata": {
    "_cell_guid": "b1076dfc-b9ad-4769-8c92-a6c4dae69d19",
    "_uuid": "8f2839f25d086af736a60e9eeb907d3b93b6e0e5",
    "execution": {
     "iopub.execute_input": "2023-07-25T19:24:50.558978Z",
     "iopub.status.busy": "2023-07-25T19:24:50.558667Z",
     "iopub.status.idle": "2023-07-25T19:24:59.450169Z",
     "shell.execute_reply": "2023-07-25T19:24:59.449204Z"
    },
    "papermill": {
     "duration": 8.902539,
     "end_time": "2023-07-25T19:24:59.452582",
     "exception": false,
     "start_time": "2023-07-25T19:24:50.550043",
     "status": "completed"
    },
    "tags": []
   },
   "outputs": [
    {
     "name": "stderr",
     "output_type": "stream",
     "text": [
      "/opt/conda/lib/python3.10/site-packages/scipy/__init__.py:146: UserWarning: A NumPy version >=1.16.5 and <1.23.0 is required for this version of SciPy (detected version 1.23.5\n",
      "  warnings.warn(f\"A NumPy version >={np_minversion} and <{np_maxversion}\"\n",
      "/opt/conda/lib/python3.10/site-packages/tensorflow_io/python/ops/__init__.py:98: UserWarning: unable to load libtensorflow_io_plugins.so: unable to open file: libtensorflow_io_plugins.so, from paths: ['/opt/conda/lib/python3.10/site-packages/tensorflow_io/python/ops/libtensorflow_io_plugins.so']\n",
      "caused by: ['/opt/conda/lib/python3.10/site-packages/tensorflow_io/python/ops/libtensorflow_io_plugins.so: undefined symbol: _ZN3tsl6StatusC1EN10tensorflow5error4CodeESt17basic_string_viewIcSt11char_traitsIcEENS_14SourceLocationE']\n",
      "  warnings.warn(f\"unable to load libtensorflow_io_plugins.so: {e}\")\n",
      "/opt/conda/lib/python3.10/site-packages/tensorflow_io/python/ops/__init__.py:104: UserWarning: file system plugins are not loaded: unable to open file: libtensorflow_io.so, from paths: ['/opt/conda/lib/python3.10/site-packages/tensorflow_io/python/ops/libtensorflow_io.so']\n",
      "caused by: ['/opt/conda/lib/python3.10/site-packages/tensorflow_io/python/ops/libtensorflow_io.so: undefined symbol: _ZTVN10tensorflow13GcsFileSystemE']\n",
      "  warnings.warn(f\"file system plugins are not loaded: {e}\")\n"
     ]
    }
   ],
   "source": [
    "import os, re, random\n",
    "import numpy as np\n",
    "import pandas as pd\n",
    "import tensorflow as tf\n",
    "import tensorflow_hub as hub\n",
    "import tensorflow_text as text\n",
    "import matplotlib.pyplot as plt\n",
    "\n",
    "tf.get_logger().setLevel('ERROR')\n",
    "pd.set_option('display.max_colwidth', None)\n",
    "os.environ[\"TFHUB_MODEL_LOAD_FORMAT\"]=\"UNCOMPRESSED\""
   ]
  },
  {
   "cell_type": "markdown",
   "id": "5ef8173b",
   "metadata": {
    "papermill": {
     "duration": 0.007419,
     "end_time": "2023-07-25T19:24:59.468005",
     "exception": false,
     "start_time": "2023-07-25T19:24:59.460586",
     "status": "completed"
    },
    "tags": []
   },
   "source": [
    "## Import Dataset"
   ]
  },
  {
   "cell_type": "code",
   "execution_count": 3,
   "id": "adea9abc",
   "metadata": {
    "execution": {
     "iopub.execute_input": "2023-07-25T19:24:59.484590Z",
     "iopub.status.busy": "2023-07-25T19:24:59.483997Z",
     "iopub.status.idle": "2023-07-25T19:24:59.541901Z",
     "shell.execute_reply": "2023-07-25T19:24:59.541019Z"
    },
    "papermill": {
     "duration": 0.068454,
     "end_time": "2023-07-25T19:24:59.543999",
     "exception": false,
     "start_time": "2023-07-25T19:24:59.475545",
     "status": "completed"
    },
    "tags": []
   },
   "outputs": [],
   "source": [
    "train = pd.read_csv(\"/kaggle/input/nlp-getting-started/train.csv\")\n",
    "test = pd.read_csv(\"/kaggle/input/nlp-getting-started/test.csv\")"
   ]
  },
  {
   "cell_type": "code",
   "execution_count": 4,
   "id": "8eb6064e",
   "metadata": {
    "execution": {
     "iopub.execute_input": "2023-07-25T19:24:59.561901Z",
     "iopub.status.busy": "2023-07-25T19:24:59.560488Z",
     "iopub.status.idle": "2023-07-25T19:24:59.570057Z",
     "shell.execute_reply": "2023-07-25T19:24:59.569201Z"
    },
    "papermill": {
     "duration": 0.020078,
     "end_time": "2023-07-25T19:24:59.571974",
     "exception": false,
     "start_time": "2023-07-25T19:24:59.551896",
     "status": "completed"
    },
    "tags": []
   },
   "outputs": [
    {
     "data": {
      "text/plain": [
       "Index(['id', 'keyword', 'location', 'text', 'target'], dtype='object')"
      ]
     },
     "execution_count": 4,
     "metadata": {},
     "output_type": "execute_result"
    }
   ],
   "source": [
    "train.columns"
   ]
  },
  {
   "cell_type": "markdown",
   "id": "c115a152",
   "metadata": {
    "papermill": {
     "duration": 0.007469,
     "end_time": "2023-07-25T19:24:59.587393",
     "exception": false,
     "start_time": "2023-07-25T19:24:59.579924",
     "status": "completed"
    },
    "tags": []
   },
   "source": [
    "## Preprocess the Dataset"
   ]
  },
  {
   "cell_type": "markdown",
   "id": "20227a83",
   "metadata": {
    "papermill": {
     "duration": 0.007668,
     "end_time": "2023-07-25T19:24:59.602739",
     "exception": false,
     "start_time": "2023-07-25T19:24:59.595071",
     "status": "completed"
    },
    "tags": []
   },
   "source": [
    "Here, we are going to use the same set of pre-processing steps we used in [the previous notebook](). You can find a detailed explanation of the steps in the link. "
   ]
  },
  {
   "cell_type": "code",
   "execution_count": 5,
   "id": "071628b7",
   "metadata": {
    "execution": {
     "iopub.execute_input": "2023-07-25T19:24:59.620142Z",
     "iopub.status.busy": "2023-07-25T19:24:59.619332Z",
     "iopub.status.idle": "2023-07-25T19:24:59.744496Z",
     "shell.execute_reply": "2023-07-25T19:24:59.743553Z"
    },
    "papermill": {
     "duration": 0.135933,
     "end_time": "2023-07-25T19:24:59.746467",
     "exception": false,
     "start_time": "2023-07-25T19:24:59.610534",
     "status": "completed"
    },
    "tags": []
   },
   "outputs": [
    {
     "name": "stdout",
     "output_type": "stream",
     "text": [
      "[4, 7, 12, 15, 24, 26, 33, 34, 35, 36, 38, 39, 42, 44, 46, 51, 55, 58]\n"
     ]
    }
   ],
   "source": [
    "duplicates = train[train.duplicated('text')]\n",
    "problematic_duplicates = []\n",
    "\n",
    "for i in range(duplicates.text.nunique()):\n",
    "    duplicate_subset = train[train.text == duplicates.text.unique()[i]]\n",
    "    if len(duplicate_subset) > 1 and duplicate_subset.target.nunique() == 2:\n",
    "        problematic_duplicates.append(i)\n",
    "        \n",
    "print(problematic_duplicates)"
   ]
  },
  {
   "cell_type": "code",
   "execution_count": 6,
   "id": "6152d428",
   "metadata": {
    "execution": {
     "iopub.execute_input": "2023-07-25T19:24:59.764557Z",
     "iopub.status.busy": "2023-07-25T19:24:59.763130Z",
     "iopub.status.idle": "2023-07-25T19:24:59.796837Z",
     "shell.execute_reply": "2023-07-25T19:24:59.795992Z"
    },
    "papermill": {
     "duration": 0.044538,
     "end_time": "2023-07-25T19:24:59.798843",
     "exception": false,
     "start_time": "2023-07-25T19:24:59.754305",
     "status": "completed"
    },
    "tags": []
   },
   "outputs": [],
   "source": [
    "target_list = [0,0,0,0,1,0,0,0,1,0,0,0,0,0,1,1,0,0]\n",
    "\n",
    "for problematic_index in range(len(problematic_duplicates)): \n",
    "    train.target = np.where(train.text == duplicates.text.unique()[problematic_index], \n",
    "                            target_list[problematic_index], train.target)"
   ]
  },
  {
   "cell_type": "code",
   "execution_count": 7,
   "id": "bde09ef9",
   "metadata": {
    "execution": {
     "iopub.execute_input": "2023-07-25T19:24:59.816232Z",
     "iopub.status.busy": "2023-07-25T19:24:59.815400Z",
     "iopub.status.idle": "2023-07-25T19:24:59.822726Z",
     "shell.execute_reply": "2023-07-25T19:24:59.821857Z"
    },
    "papermill": {
     "duration": 0.018115,
     "end_time": "2023-07-25T19:24:59.824822",
     "exception": false,
     "start_time": "2023-07-25T19:24:59.806707",
     "status": "completed"
    },
    "tags": []
   },
   "outputs": [],
   "source": [
    "def clean_text(dataframe):\n",
    "    dataframe.text = dataframe.text.apply(lambda x: str.lower(x))\n",
    "    dataframe.text = dataframe.text.apply(lambda x: re.sub(r'http\\S+', '', x))\n",
    "    dataframe.text = dataframe.text.apply(lambda x: re.sub(r'#', '', x))\n",
    "    dataframe.text = dataframe.text.apply(lambda x: re.sub(r'@', '', x))\n",
    "    dataframe.text = dataframe.text.apply(lambda x: re.sub(r'\\n', '', x))\n",
    "    dataframe.text = dataframe.text.apply(lambda x: re.sub(r'\\d+', '', x))\n",
    "    return(dataframe)"
   ]
  },
  {
   "cell_type": "code",
   "execution_count": 8,
   "id": "6720f191",
   "metadata": {
    "execution": {
     "iopub.execute_input": "2023-07-25T19:24:59.841676Z",
     "iopub.status.busy": "2023-07-25T19:24:59.841069Z",
     "iopub.status.idle": "2023-07-25T19:24:59.939361Z",
     "shell.execute_reply": "2023-07-25T19:24:59.938492Z"
    },
    "papermill": {
     "duration": 0.109,
     "end_time": "2023-07-25T19:24:59.941599",
     "exception": false,
     "start_time": "2023-07-25T19:24:59.832599",
     "status": "completed"
    },
    "tags": []
   },
   "outputs": [],
   "source": [
    "clean_train = clean_text(train)\n",
    "clean_train_balanced = clean_train.groupby('target').sample(3000, random_state = 1048596)"
   ]
  },
  {
   "cell_type": "code",
   "execution_count": 9,
   "id": "c2b900b6",
   "metadata": {
    "execution": {
     "iopub.execute_input": "2023-07-25T19:24:59.959692Z",
     "iopub.status.busy": "2023-07-25T19:24:59.958116Z",
     "iopub.status.idle": "2023-07-25T19:24:59.965260Z",
     "shell.execute_reply": "2023-07-25T19:24:59.964417Z"
    },
    "papermill": {
     "duration": 0.017907,
     "end_time": "2023-07-25T19:24:59.967284",
     "exception": false,
     "start_time": "2023-07-25T19:24:59.949377",
     "status": "completed"
    },
    "tags": []
   },
   "outputs": [],
   "source": [
    "train_df, val_df = np.split(clean_train_balanced.sample(frac = 1), [int(0.8 * len(clean_train_balanced))])"
   ]
  },
  {
   "cell_type": "markdown",
   "id": "24cadd6c",
   "metadata": {
    "papermill": {
     "duration": 0.007506,
     "end_time": "2023-07-25T19:24:59.982838",
     "exception": false,
     "start_time": "2023-07-25T19:24:59.975332",
     "status": "completed"
    },
    "tags": []
   },
   "source": [
    "## Define and Train Model - Fourth Model"
   ]
  },
  {
   "cell_type": "markdown",
   "id": "13c7a791",
   "metadata": {
    "papermill": {
     "duration": 0.007585,
     "end_time": "2023-07-25T19:24:59.998324",
     "exception": false,
     "start_time": "2023-07-25T19:24:59.990739",
     "status": "completed"
    },
    "tags": []
   },
   "source": [
    "In this model, we are going to represent each tweet as a vector. We are going to do this using the tokenizer module in the tensorflow package. This module will turn each text into a sequence of integers where the integer corresponds to a token inside a dictionary. In this case, we are going to set the size of our dictionary to 3,000, meaning that we would only map the 3,000 most frequently occurring words inside our dataset. "
   ]
  },
  {
   "cell_type": "code",
   "execution_count": 10,
   "id": "3f5d9bee",
   "metadata": {
    "execution": {
     "iopub.execute_input": "2023-07-25T19:25:00.015159Z",
     "iopub.status.busy": "2023-07-25T19:25:00.014878Z",
     "iopub.status.idle": "2023-07-25T19:25:00.020482Z",
     "shell.execute_reply": "2023-07-25T19:25:00.019613Z"
    },
    "papermill": {
     "duration": 0.016092,
     "end_time": "2023-07-25T19:25:00.022496",
     "exception": false,
     "start_time": "2023-07-25T19:25:00.006404",
     "status": "completed"
    },
    "tags": []
   },
   "outputs": [],
   "source": [
    "from tensorflow.keras.preprocessing.text import Tokenizer\n",
    "from tensorflow.keras.preprocessing.sequence import pad_sequences"
   ]
  },
  {
   "cell_type": "code",
   "execution_count": 11,
   "id": "f134aad3",
   "metadata": {
    "execution": {
     "iopub.execute_input": "2023-07-25T19:25:00.039112Z",
     "iopub.status.busy": "2023-07-25T19:25:00.038806Z",
     "iopub.status.idle": "2023-07-25T19:25:00.160851Z",
     "shell.execute_reply": "2023-07-25T19:25:00.159991Z"
    },
    "papermill": {
     "duration": 0.132755,
     "end_time": "2023-07-25T19:25:00.163017",
     "exception": false,
     "start_time": "2023-07-25T19:25:00.030262",
     "status": "completed"
    },
    "tags": []
   },
   "outputs": [],
   "source": [
    "VOCAB_SIZE = 3000\n",
    "tokenizer = Tokenizer(num_words = VOCAB_SIZE, oov_token = \"<OOV>\")\n",
    "tokenizer.fit_on_texts(train_df.text)\n",
    "word_index = tokenizer.word_index"
   ]
  },
  {
   "cell_type": "markdown",
   "id": "460afd7b",
   "metadata": {
    "papermill": {
     "duration": 0.007472,
     "end_time": "2023-07-25T19:25:00.178326",
     "exception": false,
     "start_time": "2023-07-25T19:25:00.170854",
     "status": "completed"
    },
    "tags": []
   },
   "source": [
    "Now, we need to convert the texts into vector sequences using the tokenizer and pad the sequences so that the vector sequences are of equal length. Before we do, let's first determine the maximum length of the texts so that we don't lose any information when we pad the sequences. We are going to determine the maximum length of the vector sequences and set it as our padding length. "
   ]
  },
  {
   "cell_type": "code",
   "execution_count": 12,
   "id": "5d39fff9",
   "metadata": {
    "execution": {
     "iopub.execute_input": "2023-07-25T19:25:00.194766Z",
     "iopub.status.busy": "2023-07-25T19:25:00.194502Z",
     "iopub.status.idle": "2023-07-25T19:25:00.200644Z",
     "shell.execute_reply": "2023-07-25T19:25:00.199660Z"
    },
    "papermill": {
     "duration": 0.016694,
     "end_time": "2023-07-25T19:25:00.202646",
     "exception": false,
     "start_time": "2023-07-25T19:25:00.185952",
     "status": "completed"
    },
    "tags": []
   },
   "outputs": [],
   "source": [
    "padding_length = np.max([len(x) for x in train_df.text])"
   ]
  },
  {
   "cell_type": "code",
   "execution_count": 13,
   "id": "72901c3c",
   "metadata": {
    "execution": {
     "iopub.execute_input": "2023-07-25T19:25:00.219619Z",
     "iopub.status.busy": "2023-07-25T19:25:00.218927Z",
     "iopub.status.idle": "2023-07-25T19:25:00.360078Z",
     "shell.execute_reply": "2023-07-25T19:25:00.359245Z"
    },
    "papermill": {
     "duration": 0.152066,
     "end_time": "2023-07-25T19:25:00.362429",
     "exception": false,
     "start_time": "2023-07-25T19:25:00.210363",
     "status": "completed"
    },
    "tags": []
   },
   "outputs": [],
   "source": [
    "train_sequences = tokenizer.texts_to_sequences(train_df.text)\n",
    "train_padded = pad_sequences(train_sequences,\n",
    "                             maxlen= padding_length,\n",
    "                             padding= 'post',\n",
    "                             truncating= 'post')\n",
    "\n",
    "val_sequences = tokenizer.texts_to_sequences(val_df.text)\n",
    "val_padded = pad_sequences(val_sequences,\n",
    "                           maxlen= padding_length,\n",
    "                           padding= 'post',\n",
    "                           truncating= 'post')"
   ]
  },
  {
   "cell_type": "code",
   "execution_count": 14,
   "id": "83223d79",
   "metadata": {
    "execution": {
     "iopub.execute_input": "2023-07-25T19:25:00.380452Z",
     "iopub.status.busy": "2023-07-25T19:25:00.380178Z",
     "iopub.status.idle": "2023-07-25T19:25:00.385034Z",
     "shell.execute_reply": "2023-07-25T19:25:00.384131Z"
    },
    "papermill": {
     "duration": 0.015549,
     "end_time": "2023-07-25T19:25:00.387225",
     "exception": false,
     "start_time": "2023-07-25T19:25:00.371676",
     "status": "completed"
    },
    "tags": []
   },
   "outputs": [],
   "source": [
    "early_stopping = tf.keras.callbacks.EarlyStopping(monitor = 'val_loss', patience = 2)\n",
    "\n",
    "model_checkpoint_callback = tf.keras.callbacks.ModelCheckpoint(\n",
    "    filepath = 'model/best_performed_model.ckpt',\n",
    "    save_weights_only = True,\n",
    "    save_best_only = True,\n",
    "    monitor = 'val_loss',\n",
    "    verbose = 1\n",
    ")"
   ]
  },
  {
   "cell_type": "markdown",
   "id": "f07940cc",
   "metadata": {
    "papermill": {
     "duration": 0.007522,
     "end_time": "2023-07-25T19:25:00.402451",
     "exception": false,
     "start_time": "2023-07-25T19:25:00.394929",
     "status": "completed"
    },
    "tags": []
   },
   "source": [
    "In our fourth model, we are going to use an embedding layer whose dimension of the dense embedding (the ouput) is going to be 128, a bidirectional LSTM layer whose output dimension is 64 (half the dimension of the previous layer), a dense layer of 32 dimensions, a dropout layer, and finally another dense layer with the sigmoid activation function."
   ]
  },
  {
   "cell_type": "code",
   "execution_count": 15,
   "id": "bbe848b0",
   "metadata": {
    "execution": {
     "iopub.execute_input": "2023-07-25T19:25:00.419279Z",
     "iopub.status.busy": "2023-07-25T19:25:00.418454Z",
     "iopub.status.idle": "2023-07-25T19:25:04.199318Z",
     "shell.execute_reply": "2023-07-25T19:25:04.198323Z"
    },
    "papermill": {
     "duration": 3.791828,
     "end_time": "2023-07-25T19:25:04.201886",
     "exception": false,
     "start_time": "2023-07-25T19:25:00.410058",
     "status": "completed"
    },
    "tags": []
   },
   "outputs": [],
   "source": [
    "model = tf.keras.models.Sequential()\n",
    "model.add(tf.keras.layers.Embedding(VOCAB_SIZE, 128, input_length = padding_length))\n",
    "model.add(tf.keras.layers.Bidirectional(tf.keras.layers.LSTM(64)))\n",
    "model.add(tf.keras.layers.Dense(32, activation = 'relu'))\n",
    "model.add(tf.keras.layers.Dropout(0.3))\n",
    "model.add(tf.keras.layers.Dense(1, activation = 'sigmoid'))\n",
    "\n",
    "model.compile(optimizer = tf.keras.optimizers.Adam(learning_rate = 0.0001),\n",
    "              loss = tf.keras.losses.BinaryCrossentropy(),\n",
    "              metrics = ['accuracy'])"
   ]
  },
  {
   "cell_type": "code",
   "execution_count": 16,
   "id": "e29f7eef",
   "metadata": {
    "execution": {
     "iopub.execute_input": "2023-07-25T19:25:04.220399Z",
     "iopub.status.busy": "2023-07-25T19:25:04.218756Z",
     "iopub.status.idle": "2023-07-25T19:25:50.613409Z",
     "shell.execute_reply": "2023-07-25T19:25:50.612171Z"
    },
    "papermill": {
     "duration": 46.405971,
     "end_time": "2023-07-25T19:25:50.615922",
     "exception": false,
     "start_time": "2023-07-25T19:25:04.209951",
     "status": "completed"
    },
    "tags": []
   },
   "outputs": [
    {
     "name": "stdout",
     "output_type": "stream",
     "text": [
      "Epoch 1/30\n",
      "150/150 [==============================] - ETA: 0s - loss: 0.6903 - accuracy: 0.5540\n",
      "Epoch 1: val_loss improved from inf to 0.68275, saving model to model/best_performed_model.ckpt\n",
      "150/150 [==============================] - 22s 99ms/step - loss: 0.6903 - accuracy: 0.5540 - val_loss: 0.6827 - val_accuracy: 0.6958\n",
      "Epoch 2/30\n",
      "150/150 [==============================] - ETA: 0s - loss: 0.6393 - accuracy: 0.6990\n",
      "Epoch 2: val_loss improved from 0.68275 to 0.56697, saving model to model/best_performed_model.ckpt\n",
      "150/150 [==============================] - 5s 34ms/step - loss: 0.6393 - accuracy: 0.6990 - val_loss: 0.5670 - val_accuracy: 0.7342\n",
      "Epoch 3/30\n",
      "149/150 [============================>.] - ETA: 0s - loss: 0.5092 - accuracy: 0.7712\n",
      "Epoch 3: val_loss improved from 0.56697 to 0.48161, saving model to model/best_performed_model.ckpt\n",
      "150/150 [==============================] - 4s 28ms/step - loss: 0.5084 - accuracy: 0.7721 - val_loss: 0.4816 - val_accuracy: 0.7975\n",
      "Epoch 4/30\n",
      "147/150 [============================>.] - ETA: 0s - loss: 0.4249 - accuracy: 0.8163\n",
      "Epoch 4: val_loss improved from 0.48161 to 0.46574, saving model to model/best_performed_model.ckpt\n",
      "150/150 [==============================] - 4s 26ms/step - loss: 0.4242 - accuracy: 0.8169 - val_loss: 0.4657 - val_accuracy: 0.7892\n",
      "Epoch 5/30\n",
      "150/150 [==============================] - ETA: 0s - loss: 0.3784 - accuracy: 0.8452\n",
      "Epoch 5: val_loss improved from 0.46574 to 0.44500, saving model to model/best_performed_model.ckpt\n",
      "150/150 [==============================] - 4s 24ms/step - loss: 0.3784 - accuracy: 0.8452 - val_loss: 0.4450 - val_accuracy: 0.7958\n",
      "Epoch 6/30\n",
      "147/150 [============================>.] - ETA: 0s - loss: 0.3433 - accuracy: 0.8580\n",
      "Epoch 6: val_loss did not improve from 0.44500\n",
      "150/150 [==============================] - 4s 25ms/step - loss: 0.3432 - accuracy: 0.8571 - val_loss: 0.4482 - val_accuracy: 0.7900\n",
      "Epoch 7/30\n",
      "148/150 [============================>.] - ETA: 0s - loss: 0.3094 - accuracy: 0.8735\n",
      "Epoch 7: val_loss did not improve from 0.44500\n",
      "150/150 [==============================] - 3s 23ms/step - loss: 0.3107 - accuracy: 0.8731 - val_loss: 0.4535 - val_accuracy: 0.7892\n"
     ]
    }
   ],
   "source": [
    "history = model.fit(train_padded,\n",
    "                    train_df.target,\n",
    "                    validation_data = (val_padded, val_df.target),\n",
    "                    epochs = 30,\n",
    "                    callbacks = [early_stopping, model_checkpoint_callback])"
   ]
  },
  {
   "cell_type": "code",
   "execution_count": 17,
   "id": "12014fe3",
   "metadata": {
    "execution": {
     "iopub.execute_input": "2023-07-25T19:25:50.687250Z",
     "iopub.status.busy": "2023-07-25T19:25:50.686943Z",
     "iopub.status.idle": "2023-07-25T19:26:29.341885Z",
     "shell.execute_reply": "2023-07-25T19:26:29.340419Z"
    },
    "papermill": {
     "duration": 38.756224,
     "end_time": "2023-07-25T19:26:29.408235",
     "exception": false,
     "start_time": "2023-07-25T19:25:50.652011",
     "status": "completed"
    },
    "tags": []
   },
   "outputs": [
    {
     "data": {
      "image/png": "[encoded data removed]",
      "text/plain": [
       "<Figure size 640x480 with 1 Axes>"
      ]
     },
     "metadata": {},
     "output_type": "display_data"
    }
   ],
   "source": [
    "plt.plot(history.history['accuracy'])\n",
    "plt.plot(history.history['val_accuracy'])\n",
    "plt.legend(['training', 'validation'])\n",
    "plt.show()"
   ]
  },
  {
   "cell_type": "markdown",
   "id": "415da2b6",
   "metadata": {
    "papermill": {
     "duration": 0.047168,
     "end_time": "2023-07-25T19:26:29.503820",
     "exception": false,
     "start_time": "2023-07-25T19:26:29.456652",
     "status": "completed"
    },
    "tags": []
   },
   "source": [
    "The plot suggested that the model started to over-fit around the third epoch. The fourth model returned a validation accuracy of .77, which was not significantly better than our previous models. "
   ]
  },
  {
   "cell_type": "markdown",
   "id": "9379cadf",
   "metadata": {
    "papermill": {
     "duration": 0.048019,
     "end_time": "2023-07-25T19:26:29.599974",
     "exception": false,
     "start_time": "2023-07-25T19:26:29.551955",
     "status": "completed"
    },
    "tags": []
   },
   "source": [
    "## Define and Train Model - Fifth Model"
   ]
  },
  {
   "cell_type": "markdown",
   "id": "56cfeebe",
   "metadata": {
    "papermill": {
     "duration": 0.050022,
     "end_time": "2023-07-25T19:26:29.699721",
     "exception": false,
     "start_time": "2023-07-25T19:26:29.649699",
     "status": "completed"
    },
    "tags": []
   },
   "source": [
    "In our next model, we are going to use two bidirectional LSTM layers. To do so, we are going to set **return_sequences** to True so that the output of the first bidirectional LSTM layer can be fed onto the next. These two layers are going to be followed by a dropout layer and two dense layers each of 32 and 1 dimension(s). "
   ]
  },
  {
   "cell_type": "code",
   "execution_count": 18,
   "id": "782f465e",
   "metadata": {
    "execution": {
     "iopub.execute_input": "2023-07-25T19:26:29.800494Z",
     "iopub.status.busy": "2023-07-25T19:26:29.800051Z",
     "iopub.status.idle": "2023-07-25T19:26:31.026143Z",
     "shell.execute_reply": "2023-07-25T19:26:31.025136Z"
    },
    "papermill": {
     "duration": 1.280075,
     "end_time": "2023-07-25T19:26:31.028520",
     "exception": false,
     "start_time": "2023-07-25T19:26:29.748445",
     "status": "completed"
    },
    "tags": []
   },
   "outputs": [],
   "source": [
    "model = tf.keras.models.Sequential()\n",
    "model.add(tf.keras.layers.Embedding(VOCAB_SIZE, 128, input_length = padding_length))\n",
    "model.add(tf.keras.layers.Bidirectional(tf.keras.layers.LSTM(64, return_sequences = True)))\n",
    "model.add(tf.keras.layers.Bidirectional(tf.keras.layers.LSTM(32)))\n",
    "model.add(tf.keras.layers.Dropout(0.3))\n",
    "model.add(tf.keras.layers.Dense(32, activation = 'relu'))\n",
    "model.add(tf.keras.layers.Dense(1, activation = 'sigmoid'))\n",
    "\n",
    "model.compile(optimizer = tf.keras.optimizers.Adam(learning_rate = 0.0001),\n",
    "              loss = tf.keras.losses.BinaryCrossentropy(),\n",
    "              metrics = ['accuracy'])"
   ]
  },
  {
   "cell_type": "code",
   "execution_count": 19,
   "id": "11503a11",
   "metadata": {
    "execution": {
     "iopub.execute_input": "2023-07-25T19:26:31.099961Z",
     "iopub.status.busy": "2023-07-25T19:26:31.099121Z",
     "iopub.status.idle": "2023-07-25T19:27:15.693173Z",
     "shell.execute_reply": "2023-07-25T19:27:15.692251Z"
    },
    "papermill": {
     "duration": 44.631343,
     "end_time": "2023-07-25T19:27:15.695338",
     "exception": false,
     "start_time": "2023-07-25T19:26:31.063995",
     "status": "completed"
    },
    "tags": []
   },
   "outputs": [
    {
     "name": "stdout",
     "output_type": "stream",
     "text": [
      "Epoch 1/30\n",
      "150/150 [==============================] - ETA: 0s - loss: 0.6903 - accuracy: 0.5440\n",
      "Epoch 1: val_loss did not improve from 0.44500\n",
      "150/150 [==============================] - 20s 87ms/step - loss: 0.6903 - accuracy: 0.5440 - val_loss: 0.6812 - val_accuracy: 0.6692\n",
      "Epoch 2/30\n",
      "150/150 [==============================] - ETA: 0s - loss: 0.6095 - accuracy: 0.6979\n",
      "Epoch 2: val_loss did not improve from 0.44500\n",
      "150/150 [==============================] - 7s 49ms/step - loss: 0.6095 - accuracy: 0.6979 - val_loss: 0.4768 - val_accuracy: 0.7792\n",
      "Epoch 3/30\n",
      "149/150 [============================>.] - ETA: 0s - loss: 0.4363 - accuracy: 0.8058\n",
      "Epoch 3: val_loss improved from 0.44500 to 0.44224, saving model to model/best_performed_model.ckpt\n",
      "150/150 [==============================] - 6s 43ms/step - loss: 0.4352 - accuracy: 0.8067 - val_loss: 0.4422 - val_accuracy: 0.7942\n",
      "Epoch 4/30\n",
      "149/150 [============================>.] - ETA: 0s - loss: 0.3570 - accuracy: 0.8561\n",
      "Epoch 4: val_loss did not improve from 0.44224\n",
      "150/150 [==============================] - 6s 38ms/step - loss: 0.3565 - accuracy: 0.8562 - val_loss: 0.4484 - val_accuracy: 0.8075\n",
      "Epoch 5/30\n",
      "150/150 [==============================] - ETA: 0s - loss: 0.3117 - accuracy: 0.8810\n",
      "Epoch 5: val_loss did not improve from 0.44224\n",
      "150/150 [==============================] - 5s 35ms/step - loss: 0.3117 - accuracy: 0.8810 - val_loss: 0.4597 - val_accuracy: 0.8017\n"
     ]
    }
   ],
   "source": [
    "history = model.fit(train_padded,\n",
    "                    train_df.target,\n",
    "                    validation_data = (val_padded, val_df.target),\n",
    "                    epochs = 30,\n",
    "                    callbacks = [early_stopping, model_checkpoint_callback])"
   ]
  },
  {
   "cell_type": "code",
   "execution_count": 20,
   "id": "b1668446",
   "metadata": {
    "execution": {
     "iopub.execute_input": "2023-07-25T19:27:15.829671Z",
     "iopub.status.busy": "2023-07-25T19:27:15.829052Z",
     "iopub.status.idle": "2023-07-25T19:27:17.420950Z",
     "shell.execute_reply": "2023-07-25T19:27:17.420022Z"
    },
    "papermill": {
     "duration": 1.660881,
     "end_time": "2023-07-25T19:27:17.423074",
     "exception": false,
     "start_time": "2023-07-25T19:27:15.762193",
     "status": "completed"
    },
    "tags": []
   },
   "outputs": [
    {
     "data": {
      "image/png": "[encoded data removed]",
      "text/plain": [
       "<Figure size 640x480 with 1 Axes>"
      ]
     },
     "metadata": {},
     "output_type": "display_data"
    }
   ],
   "source": [
    "plt.plot(history.history['accuracy'])\n",
    "plt.plot(history.history['val_accuracy'])\n",
    "plt.legend(['training', 'validation'])\n",
    "plt.show()"
   ]
  },
  {
   "cell_type": "markdown",
   "id": "d1d133ba",
   "metadata": {
    "papermill": {
     "duration": 0.065857,
     "end_time": "2023-07-25T19:27:17.556023",
     "exception": false,
     "start_time": "2023-07-25T19:27:17.490166",
     "status": "completed"
    },
    "tags": []
   },
   "source": [
    "The plot suggested that the model started to over-fit around the third epoch. The fifth model returned a validation accuracy of .77, which was not significantly better than our previous models. We are going to revisit our third model that performed the best so far and see if we can improve on its performance. "
   ]
  }
 ],
 "metadata": {
  "kernelspec": {
   "display_name": "Python 3",
   "language": "python",
   "name": "python3"
  },
  "language_info": {
   "codemirror_mode": {
    "name": "ipython",
    "version": 3
   },
   "file_extension": ".py",
   "mimetype": "text/x-python",
   "name": "python",
   "nbconvert_exporter": "python",
   "pygments_lexer": "ipython3",
   "version": "3.10.12"
  },
  "papermill": {
   "default_parameters": {},
   "duration": 172.798872,
   "end_time": "2023-07-25T19:27:21.077147",
   "environment_variables": {},
   "exception": null,
   "input_path": "__notebook__.ipynb",
   "output_path": "__notebook__.ipynb",
   "parameters": {},
   "start_time": "2023-07-25T19:24:28.278275",
   "version": "2.4.0"
  }
 },
 "nbformat": 4,
 "nbformat_minor": 5
}
