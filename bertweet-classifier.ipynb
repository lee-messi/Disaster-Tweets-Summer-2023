{
 "cells": [
  {
   "cell_type": "code",
   "execution_count": 1,
   "id": "bcf7c540",
   "metadata": {
    "_cell_guid": "b1076dfc-b9ad-4769-8c92-a6c4dae69d19",
    "_uuid": "8f2839f25d086af736a60e9eeb907d3b93b6e0e5",
    "execution": {
     "iopub.execute_input": "2023-07-27T17:13:25.539969Z",
     "iopub.status.busy": "2023-07-27T17:13:25.539223Z",
     "iopub.status.idle": "2023-07-27T17:14:12.504763Z",
     "shell.execute_reply": "2023-07-27T17:14:12.503448Z"
    },
    "papermill": {
     "duration": 46.977117,
     "end_time": "2023-07-27T17:14:12.507510",
     "exception": false,
     "start_time": "2023-07-27T17:13:25.530393",
     "status": "completed"
    },
    "tags": []
   },
   "outputs": [],
   "source": [
    "!pip install tensorflow --quiet\n",
    "!pip install tensorflow-hub --quiet\n",
    "!pip install tensorflow-text --quiet\n",
    "!pip install transformers --quiet"
   ]
  },
  {
   "cell_type": "code",
   "execution_count": 2,
   "id": "f85f3209",
   "metadata": {
    "execution": {
     "iopub.execute_input": "2023-07-27T17:14:12.523445Z",
     "iopub.status.busy": "2023-07-27T17:14:12.523102Z",
     "iopub.status.idle": "2023-07-27T17:14:25.842791Z",
     "shell.execute_reply": "2023-07-27T17:14:25.841802Z"
    },
    "papermill": {
     "duration": 13.330274,
     "end_time": "2023-07-27T17:14:25.845149",
     "exception": false,
     "start_time": "2023-07-27T17:14:12.514875",
     "status": "completed"
    },
    "tags": []
   },
   "outputs": [
    {
     "name": "stderr",
     "output_type": "stream",
     "text": [
      "/opt/conda/lib/python3.10/site-packages/scipy/__init__.py:146: UserWarning: A NumPy version >=1.16.5 and <1.23.0 is required for this version of SciPy (detected version 1.23.5\n",
      "  warnings.warn(f\"A NumPy version >={np_minversion} and <{np_maxversion}\"\n",
      "/opt/conda/lib/python3.10/site-packages/tensorflow_io/python/ops/__init__.py:98: UserWarning: unable to load libtensorflow_io_plugins.so: unable to open file: libtensorflow_io_plugins.so, from paths: ['/opt/conda/lib/python3.10/site-packages/tensorflow_io/python/ops/libtensorflow_io_plugins.so']\n",
      "caused by: ['/opt/conda/lib/python3.10/site-packages/tensorflow_io/python/ops/libtensorflow_io_plugins.so: undefined symbol: _ZN3tsl6StatusC1EN10tensorflow5error4CodeESt17basic_string_viewIcSt11char_traitsIcEENS_14SourceLocationE']\n",
      "  warnings.warn(f\"unable to load libtensorflow_io_plugins.so: {e}\")\n",
      "/opt/conda/lib/python3.10/site-packages/tensorflow_io/python/ops/__init__.py:104: UserWarning: file system plugins are not loaded: unable to open file: libtensorflow_io.so, from paths: ['/opt/conda/lib/python3.10/site-packages/tensorflow_io/python/ops/libtensorflow_io.so']\n",
      "caused by: ['/opt/conda/lib/python3.10/site-packages/tensorflow_io/python/ops/libtensorflow_io.so: undefined symbol: _ZTVN10tensorflow13GcsFileSystemE']\n",
      "  warnings.warn(f\"file system plugins are not loaded: {e}\")\n"
     ]
    }
   ],
   "source": [
    "import os, re, random\n",
    "import numpy as np\n",
    "import pandas as pd\n",
    "import tensorflow as tf\n",
    "import tensorflow_hub as hub\n",
    "import tensorflow_text as text\n",
    "import matplotlib.pyplot as plt\n",
    "from keras.utils.vis_utils import plot_model\n",
    "from sklearn.model_selection import train_test_split\n",
    "from transformers import AutoTokenizer,TFRobertaModel\n",
    "\n",
    "tf.get_logger().setLevel('ERROR')\n",
    "pd.set_option('display.max_colwidth', None)\n",
    "os.environ[\"TFHUB_MODEL_LOAD_FORMAT\"] = \"UNCOMPRESSED\""
   ]
  },
  {
   "cell_type": "code",
   "execution_count": 3,
   "id": "1fe50247",
   "metadata": {
    "execution": {
     "iopub.execute_input": "2023-07-27T17:14:25.862442Z",
     "iopub.status.busy": "2023-07-27T17:14:25.860473Z",
     "iopub.status.idle": "2023-07-27T17:14:25.939907Z",
     "shell.execute_reply": "2023-07-27T17:14:25.938980Z"
    },
    "papermill": {
     "duration": 0.089786,
     "end_time": "2023-07-27T17:14:25.942156",
     "exception": false,
     "start_time": "2023-07-27T17:14:25.852370",
     "status": "completed"
    },
    "tags": []
   },
   "outputs": [],
   "source": [
    "train = pd.read_csv(\"/kaggle/input/nlp-getting-started/train.csv\")\n",
    "test = pd.read_csv(\"/kaggle/input/nlp-getting-started/test.csv\")"
   ]
  },
  {
   "cell_type": "markdown",
   "id": "9f3cbaf8",
   "metadata": {
    "papermill": {
     "duration": 0.006874,
     "end_time": "2023-07-27T17:14:25.956561",
     "exception": false,
     "start_time": "2023-07-27T17:14:25.949687",
     "status": "completed"
    },
    "tags": []
   },
   "source": [
    "## Preprocess the Dataset"
   ]
  },
  {
   "cell_type": "markdown",
   "id": "c4d130f1",
   "metadata": {
    "papermill": {
     "duration": 0.006641,
     "end_time": "2023-07-27T17:14:25.970282",
     "exception": false,
     "start_time": "2023-07-27T17:14:25.963641",
     "status": "completed"
    },
    "tags": []
   },
   "source": [
    "Here, we are going to use the same set of pre-processing steps we used in [one of the previous notebooks](https://www.kaggle.com/code/l048596/disaster-tweets-classifier-using-bert). You can find a detailed explanation of the steps in the link."
   ]
  },
  {
   "cell_type": "code",
   "execution_count": 4,
   "id": "bdd8adcf",
   "metadata": {
    "execution": {
     "iopub.execute_input": "2023-07-27T17:14:25.985606Z",
     "iopub.status.busy": "2023-07-27T17:14:25.984767Z",
     "iopub.status.idle": "2023-07-27T17:14:26.114785Z",
     "shell.execute_reply": "2023-07-27T17:14:26.113410Z"
    },
    "papermill": {
     "duration": 0.139785,
     "end_time": "2023-07-27T17:14:26.116800",
     "exception": false,
     "start_time": "2023-07-27T17:14:25.977015",
     "status": "completed"
    },
    "tags": []
   },
   "outputs": [
    {
     "name": "stdout",
     "output_type": "stream",
     "text": [
      "[4, 7, 12, 15, 24, 26, 33, 34, 35, 36, 38, 39, 42, 44, 46, 51, 55, 58]\n"
     ]
    }
   ],
   "source": [
    "duplicates = train[train.duplicated('text')]\n",
    "problematic_duplicates = []\n",
    "\n",
    "for i in range(duplicates.text.nunique()):\n",
    "    duplicate_subset = train[train.text == duplicates.text.unique()[i]]\n",
    "    if len(duplicate_subset) > 1 and duplicate_subset.target.nunique() == 2:\n",
    "        problematic_duplicates.append(i)\n",
    "        \n",
    "print(problematic_duplicates)"
   ]
  },
  {
   "cell_type": "code",
   "execution_count": 5,
   "id": "3078da6d",
   "metadata": {
    "execution": {
     "iopub.execute_input": "2023-07-27T17:14:26.133152Z",
     "iopub.status.busy": "2023-07-27T17:14:26.132474Z",
     "iopub.status.idle": "2023-07-27T17:14:26.167658Z",
     "shell.execute_reply": "2023-07-27T17:14:26.166768Z"
    },
    "papermill": {
     "duration": 0.045891,
     "end_time": "2023-07-27T17:14:26.169893",
     "exception": false,
     "start_time": "2023-07-27T17:14:26.124002",
     "status": "completed"
    },
    "tags": []
   },
   "outputs": [],
   "source": [
    "target_list = [0,0,0,0,1,0,0,0,1,0,0,0,0,0,1,1,0,0]\n",
    "\n",
    "for problematic_index in range(len(problematic_duplicates)): \n",
    "    train.target = np.where(train.text == duplicates.text.unique()[problematic_index], \n",
    "                            target_list[problematic_index], train.target)"
   ]
  },
  {
   "cell_type": "code",
   "execution_count": 6,
   "id": "c919c2ec",
   "metadata": {
    "execution": {
     "iopub.execute_input": "2023-07-27T17:14:26.184995Z",
     "iopub.status.busy": "2023-07-27T17:14:26.184715Z",
     "iopub.status.idle": "2023-07-27T17:14:26.191470Z",
     "shell.execute_reply": "2023-07-27T17:14:26.190604Z"
    },
    "papermill": {
     "duration": 0.016823,
     "end_time": "2023-07-27T17:14:26.193536",
     "exception": false,
     "start_time": "2023-07-27T17:14:26.176713",
     "status": "completed"
    },
    "tags": []
   },
   "outputs": [],
   "source": [
    "def clean_text(dataframe):\n",
    "    dataframe.text = dataframe.text.apply(lambda x: str.lower(x))\n",
    "    dataframe.text = dataframe.text.apply(lambda x: re.sub(r'http\\S+', '', x))\n",
    "    dataframe.text = dataframe.text.apply(lambda x: re.sub(r'#', '', x))\n",
    "    dataframe.text = dataframe.text.apply(lambda x: re.sub(r'@\\S+', '', x))\n",
    "    dataframe.text = dataframe.text.apply(lambda x: re.sub(r'\\n', '', x))\n",
    "    return(dataframe)"
   ]
  },
  {
   "cell_type": "code",
   "execution_count": 7,
   "id": "6ae35c26",
   "metadata": {
    "execution": {
     "iopub.execute_input": "2023-07-27T17:14:26.209170Z",
     "iopub.status.busy": "2023-07-27T17:14:26.208871Z",
     "iopub.status.idle": "2023-07-27T17:14:26.279191Z",
     "shell.execute_reply": "2023-07-27T17:14:26.278227Z"
    },
    "papermill": {
     "duration": 0.081176,
     "end_time": "2023-07-27T17:14:26.281585",
     "exception": false,
     "start_time": "2023-07-27T17:14:26.200409",
     "status": "completed"
    },
    "tags": []
   },
   "outputs": [],
   "source": [
    "clean_train = clean_text(train)\n",
    "clean_train_balanced = clean_train.groupby('target').sample(3000, random_state = 1048596)"
   ]
  },
  {
   "cell_type": "code",
   "execution_count": 8,
   "id": "9d2ab449",
   "metadata": {
    "execution": {
     "iopub.execute_input": "2023-07-27T17:14:26.297140Z",
     "iopub.status.busy": "2023-07-27T17:14:26.296853Z",
     "iopub.status.idle": "2023-07-27T17:14:26.312983Z",
     "shell.execute_reply": "2023-07-27T17:14:26.311801Z"
    },
    "papermill": {
     "duration": 0.026951,
     "end_time": "2023-07-27T17:14:26.315909",
     "exception": false,
     "start_time": "2023-07-27T17:14:26.288958",
     "status": "completed"
    },
    "tags": []
   },
   "outputs": [
    {
     "data": {
      "text/html": [
       "<div>\n",
       "<style scoped>\n",
       "    .dataframe tbody tr th:only-of-type {\n",
       "        vertical-align: middle;\n",
       "    }\n",
       "\n",
       "    .dataframe tbody tr th {\n",
       "        vertical-align: top;\n",
       "    }\n",
       "\n",
       "    .dataframe thead th {\n",
       "        text-align: right;\n",
       "    }\n",
       "</style>\n",
       "<table border=\"1\" class=\"dataframe\">\n",
       "  <thead>\n",
       "    <tr style=\"text-align: right;\">\n",
       "      <th></th>\n",
       "      <th>id</th>\n",
       "      <th>keyword</th>\n",
       "      <th>location</th>\n",
       "      <th>text</th>\n",
       "      <th>target</th>\n",
       "    </tr>\n",
       "  </thead>\n",
       "  <tbody>\n",
       "    <tr>\n",
       "      <th>2180</th>\n",
       "      <td>3124</td>\n",
       "      <td>debris</td>\n",
       "      <td>Hamilton, Ontario Canada</td>\n",
       "      <td>malaysia seem more certain than france.plane debris is from missing mh370</td>\n",
       "      <td>1</td>\n",
       "    </tr>\n",
       "    <tr>\n",
       "      <th>7152</th>\n",
       "      <td>10249</td>\n",
       "      <td>volcano</td>\n",
       "      <td>NaN</td>\n",
       "      <td>this la startup is so hot that their flowers come straight from a volcano  via</td>\n",
       "      <td>0</td>\n",
       "    </tr>\n",
       "    <tr>\n",
       "      <th>6239</th>\n",
       "      <td>8908</td>\n",
       "      <td>snowstorm</td>\n",
       "      <td>Australia</td>\n",
       "      <td>bring back games from the past. snowstorm. tic tac toe. battleships. fast food. matchwood.</td>\n",
       "      <td>1</td>\n",
       "    </tr>\n",
       "    <tr>\n",
       "      <th>5716</th>\n",
       "      <td>8158</td>\n",
       "      <td>rescuers</td>\n",
       "      <td>NaN</td>\n",
       "      <td>video: 'we're picking up bodies from water': rescuers are searching for hundreds of migrants in the mediterranean after a boat carryi...</td>\n",
       "      <td>1</td>\n",
       "    </tr>\n",
       "    <tr>\n",
       "      <th>289</th>\n",
       "      <td>423</td>\n",
       "      <td>apocalypse</td>\n",
       "      <td>NaN</td>\n",
       "      <td>and that's because on my planet it's the lone audience of the apocalypse!</td>\n",
       "      <td>0</td>\n",
       "    </tr>\n",
       "  </tbody>\n",
       "</table>\n",
       "</div>"
      ],
      "text/plain": [
       "         id     keyword                  location  \\\n",
       "2180   3124      debris  Hamilton, Ontario Canada   \n",
       "7152  10249     volcano                       NaN   \n",
       "6239   8908   snowstorm                 Australia   \n",
       "5716   8158    rescuers                       NaN   \n",
       "289     423  apocalypse                       NaN   \n",
       "\n",
       "                                                                                                                                          text  \\\n",
       "2180                                                                malaysia seem more certain than france.plane debris is from missing mh370    \n",
       "7152                                                           this la startup is so hot that their flowers come straight from a volcano  via    \n",
       "6239                                                bring back games from the past. snowstorm. tic tac toe. battleships. fast food. matchwood.   \n",
       "5716  video: 'we're picking up bodies from water': rescuers are searching for hundreds of migrants in the mediterranean after a boat carryi...   \n",
       "289                                                                  and that's because on my planet it's the lone audience of the apocalypse!   \n",
       "\n",
       "      target  \n",
       "2180       1  \n",
       "7152       0  \n",
       "6239       1  \n",
       "5716       1  \n",
       "289        0  "
      ]
     },
     "execution_count": 8,
     "metadata": {},
     "output_type": "execute_result"
    }
   ],
   "source": [
    "clean_train_balanced.sample(frac = 1).head(5)"
   ]
  },
  {
   "cell_type": "markdown",
   "id": "c46edaa6",
   "metadata": {
    "papermill": {
     "duration": 0.007018,
     "end_time": "2023-07-27T17:14:26.330423",
     "exception": false,
     "start_time": "2023-07-27T17:14:26.323405",
     "status": "completed"
    },
    "tags": []
   },
   "source": [
    "In this notebook, we are going to use **train_test_split** instead of **np.split** to split our dataset into training and validation datasets. This just helps us better reference the texts and labels to use when training the model. "
   ]
  },
  {
   "cell_type": "code",
   "execution_count": 9,
   "id": "442fd999",
   "metadata": {
    "execution": {
     "iopub.execute_input": "2023-07-27T17:14:26.347860Z",
     "iopub.status.busy": "2023-07-27T17:14:26.347308Z",
     "iopub.status.idle": "2023-07-27T17:14:26.356173Z",
     "shell.execute_reply": "2023-07-27T17:14:26.355233Z"
    },
    "papermill": {
     "duration": 0.020634,
     "end_time": "2023-07-27T17:14:26.358089",
     "exception": false,
     "start_time": "2023-07-27T17:14:26.337455",
     "status": "completed"
    },
    "tags": []
   },
   "outputs": [],
   "source": [
    "x_train, x_val, y_train, y_val = train_test_split(clean_train_balanced.text, \n",
    "                                                  clean_train_balanced.target, \n",
    "                                                  train_size = 0.85, \n",
    "                                                  random_state = 1048596)"
   ]
  },
  {
   "cell_type": "markdown",
   "id": "ed1e3e5a",
   "metadata": {
    "papermill": {
     "duration": 0.007039,
     "end_time": "2023-07-27T17:14:26.372311",
     "exception": false,
     "start_time": "2023-07-27T17:14:26.365272",
     "status": "completed"
    },
    "tags": []
   },
   "source": [
    "The biggest change in this iteration is the tokenizer and the BERT model we are going to fine-tune for the classification task. So far, we have been using BERT-base and Small-BERT models that are made available through tensorflow hub. However, given that we are attempting to classify tweets, there may be pre-trained models that are more appropriate for the purpose of classifying tweets. **BERTweet** is a pre-trained language model designed forr English tweets and have been shown to perform better compared to other state-of-the-art language models for many NLP tasks including text classification. "
   ]
  },
  {
   "cell_type": "code",
   "execution_count": 10,
   "id": "9477f8eb",
   "metadata": {
    "execution": {
     "iopub.execute_input": "2023-07-27T17:14:26.388665Z",
     "iopub.status.busy": "2023-07-27T17:14:26.387870Z",
     "iopub.status.idle": "2023-07-27T17:14:29.971321Z",
     "shell.execute_reply": "2023-07-27T17:14:29.970249Z"
    },
    "papermill": {
     "duration": 3.594658,
     "end_time": "2023-07-27T17:14:29.974323",
     "exception": false,
     "start_time": "2023-07-27T17:14:26.379665",
     "status": "completed"
    },
    "tags": []
   },
   "outputs": [
    {
     "data": {
      "application/vnd.jupyter.widget-view+json": {
       "model_id": "afb4f3cdea654c10b0b0c6e768973072",
       "version_major": 2,
       "version_minor": 0
      },
      "text/plain": [
       "Downloading (…)lve/main/config.json:   0%|          | 0.00/558 [00:00<?, ?B/s]"
      ]
     },
     "metadata": {},
     "output_type": "display_data"
    },
    {
     "data": {
      "application/vnd.jupyter.widget-view+json": {
       "model_id": "f2c1eb9686ff4c79878d49341f3dd235",
       "version_major": 2,
       "version_minor": 0
      },
      "text/plain": [
       "Downloading (…)solve/main/vocab.txt:   0%|          | 0.00/843k [00:00<?, ?B/s]"
      ]
     },
     "metadata": {},
     "output_type": "display_data"
    },
    {
     "data": {
      "application/vnd.jupyter.widget-view+json": {
       "model_id": "1686c5edb1144e9db946fc538b5bf13c",
       "version_major": 2,
       "version_minor": 0
      },
      "text/plain": [
       "Downloading (…)solve/main/bpe.codes:   0%|          | 0.00/1.08M [00:00<?, ?B/s]"
      ]
     },
     "metadata": {},
     "output_type": "display_data"
    },
    {
     "name": "stderr",
     "output_type": "stream",
     "text": [
      "Special tokens have been added in the vocabulary, make sure the associated word embeddings are fine-tuned or trained.\n"
     ]
    }
   ],
   "source": [
    "tokenizer = AutoTokenizer.from_pretrained('vinai/bertweet-base', \n",
    "                                          normalization = True, \n",
    "                                          use_fast = False,\n",
    "                                          add_special_tokens = True,\n",
    "                                          pad_to_max_length = True,\n",
    "                                          return_attention_mask = True)"
   ]
  },
  {
   "cell_type": "code",
   "execution_count": 11,
   "id": "4bf82373",
   "metadata": {
    "execution": {
     "iopub.execute_input": "2023-07-27T17:14:29.992139Z",
     "iopub.status.busy": "2023-07-27T17:14:29.991231Z",
     "iopub.status.idle": "2023-07-27T17:14:32.439680Z",
     "shell.execute_reply": "2023-07-27T17:14:32.438648Z"
    },
    "papermill": {
     "duration": 2.460276,
     "end_time": "2023-07-27T17:14:32.442568",
     "exception": false,
     "start_time": "2023-07-27T17:14:29.982292",
     "status": "completed"
    },
    "tags": []
   },
   "outputs": [],
   "source": [
    "train_token = tokenizer(x_train.tolist(), \n",
    "                        padding = \"max_length\", \n",
    "                        truncation = True).data\n",
    "\n",
    "val_token = tokenizer(x_val.tolist(),\n",
    "                      padding = \"max_length\", \n",
    "                      truncation = True).data"
   ]
  },
  {
   "cell_type": "code",
   "execution_count": 12,
   "id": "29e5a406",
   "metadata": {
    "execution": {
     "iopub.execute_input": "2023-07-27T17:14:32.460460Z",
     "iopub.status.busy": "2023-07-27T17:14:32.460118Z",
     "iopub.status.idle": "2023-07-27T17:14:44.825429Z",
     "shell.execute_reply": "2023-07-27T17:14:44.824418Z"
    },
    "papermill": {
     "duration": 12.376767,
     "end_time": "2023-07-27T17:14:44.827881",
     "exception": false,
     "start_time": "2023-07-27T17:14:32.451114",
     "status": "completed"
    },
    "tags": []
   },
   "outputs": [],
   "source": [
    "def extract_features(tokens, labels, batch_size):\n",
    "    features = {x: tokens[x] for x in tokenizer.model_input_names}\n",
    "    features = tf.data.Dataset.from_tensor_slices((features, labels))\n",
    "    return features.shuffle(len(labels)).batch(batch_size).prefetch(tf.data.AUTOTUNE)\n",
    "\n",
    "train_features = extract_features(train_token, y_train, 32)\n",
    "val_features = extract_features(val_token, y_val, 32)"
   ]
  },
  {
   "cell_type": "markdown",
   "id": "d795eb3c",
   "metadata": {
    "papermill": {
     "duration": 0.007728,
     "end_time": "2023-07-27T17:14:44.843716",
     "exception": false,
     "start_time": "2023-07-27T17:14:44.835988",
     "status": "completed"
    },
    "tags": []
   },
   "source": [
    "In our new model, we are going to use both the **input_ids** and **attention_masks** as the input of our model. Attention mask indicates which token(s) the model should pay attention to. The two inputs will go through the **BERTweet** model layer and the output of this layer with go through the Dense layer with the Sigmoid activation function. We are also going to make change to our optimizer, from Adam to AdamW, because AdamW is known to yield better training loss and the model tends to generalize better compared to the model trained using the Adam optimizer."
   ]
  },
  {
   "cell_type": "code",
   "execution_count": 13,
   "id": "d6be8dfb",
   "metadata": {
    "execution": {
     "iopub.execute_input": "2023-07-27T17:14:44.860513Z",
     "iopub.status.busy": "2023-07-27T17:14:44.860199Z",
     "iopub.status.idle": "2023-07-27T17:15:33.435350Z",
     "shell.execute_reply": "2023-07-27T17:15:33.434299Z"
    },
    "papermill": {
     "duration": 48.586342,
     "end_time": "2023-07-27T17:15:33.437799",
     "exception": false,
     "start_time": "2023-07-27T17:14:44.851457",
     "status": "completed"
    },
    "tags": []
   },
   "outputs": [
    {
     "data": {
      "application/vnd.jupyter.widget-view+json": {
       "model_id": "69fc2a06b8294a6ea82f9493d160cf55",
       "version_major": 2,
       "version_minor": 0
      },
      "text/plain": [
       "Downloading tf_model.h5:   0%|          | 0.00/740M [00:00<?, ?B/s]"
      ]
     },
     "metadata": {},
     "output_type": "display_data"
    },
    {
     "name": "stderr",
     "output_type": "stream",
     "text": [
      "Some layers from the model checkpoint at vinai/bertweet-base were not used when initializing TFRobertaModel: ['lm_head']\n",
      "- This IS expected if you are initializing TFRobertaModel from the checkpoint of a model trained on another task or with another architecture (e.g. initializing a BertForSequenceClassification model from a BertForPreTraining model).\n",
      "- This IS NOT expected if you are initializing TFRobertaModel from the checkpoint of a model that you expect to be exactly identical (initializing a BertForSequenceClassification model from a BertForSequenceClassification model).\n",
      "All the layers of TFRobertaModel were initialized from the model checkpoint at vinai/bertweet-base.\n",
      "If your task is similar to the task the model of the checkpoint was trained on, you can already use TFRobertaModel for predictions without further training.\n"
     ]
    }
   ],
   "source": [
    "bert_model = TFRobertaModel.from_pretrained(\"vinai/bertweet-base\")\n",
    "\n",
    "input_ids = tf.keras.Input(shape=(128,), dtype = 'int32', name = 'input_ids')\n",
    "attention_masks = tf.keras.Input(shape=(128,), dtype ='int32', name = 'attention_mask')\n",
    "\n",
    "output = bert_model([input_ids, attention_masks])[1]\n",
    "output = tf.keras.layers.Dense(1, activation = 'sigmoid')(output)\n",
    "\n",
    "model = tf.keras.models.Model(inputs = [input_ids, attention_masks], outputs = output)\n",
    "\n",
    "model.compile(optimizer = tf.keras.optimizers.AdamW(weight_decay = 1e-6, learning_rate = 1e-5), \n",
    "              loss = tf.keras.losses.BinaryCrossentropy(), \n",
    "              metrics = ['accuracy'])"
   ]
  },
  {
   "cell_type": "code",
   "execution_count": 14,
   "id": "3bd89f1a",
   "metadata": {
    "execution": {
     "iopub.execute_input": "2023-07-27T17:15:33.456284Z",
     "iopub.status.busy": "2023-07-27T17:15:33.455979Z",
     "iopub.status.idle": "2023-07-27T17:15:33.638454Z",
     "shell.execute_reply": "2023-07-27T17:15:33.637542Z"
    },
    "papermill": {
     "duration": 0.193868,
     "end_time": "2023-07-27T17:15:33.640504",
     "exception": false,
     "start_time": "2023-07-27T17:15:33.446636",
     "status": "completed"
    },
    "tags": []
   },
   "outputs": [
    {
     "data": {
      "image/png": "[encoded data removed]",
      "text/plain": [
       "<IPython.core.display.Image object>"
      ]
     },
     "execution_count": 14,
     "metadata": {},
     "output_type": "execute_result"
    }
   ],
   "source": [
    "plot_model(model)"
   ]
  },
  {
   "cell_type": "code",
   "execution_count": 15,
   "id": "7c0436e7",
   "metadata": {
    "execution": {
     "iopub.execute_input": "2023-07-27T17:15:33.660660Z",
     "iopub.status.busy": "2023-07-27T17:15:33.659497Z",
     "iopub.status.idle": "2023-07-27T17:15:33.666355Z",
     "shell.execute_reply": "2023-07-27T17:15:33.665502Z"
    },
    "papermill": {
     "duration": 0.019118,
     "end_time": "2023-07-27T17:15:33.668287",
     "exception": false,
     "start_time": "2023-07-27T17:15:33.649169",
     "status": "completed"
    },
    "tags": []
   },
   "outputs": [],
   "source": [
    "early_stopping = tf.keras.callbacks.EarlyStopping(monitor = 'val_loss', patience = 2)\n",
    "\n",
    "model_checkpoint_callback = tf.keras.callbacks.ModelCheckpoint(\n",
    "    filepath = 'model/best_performed_model.ckpt',\n",
    "    save_weights_only = True,\n",
    "    save_best_only = True,\n",
    "    monitor = 'val_loss',\n",
    "    verbose = 1\n",
    ")"
   ]
  },
  {
   "cell_type": "code",
   "execution_count": 16,
   "id": "fe59bf6b",
   "metadata": {
    "execution": {
     "iopub.execute_input": "2023-07-27T17:15:33.686317Z",
     "iopub.status.busy": "2023-07-27T17:15:33.685541Z",
     "iopub.status.idle": "2023-07-27T17:21:43.029113Z",
     "shell.execute_reply": "2023-07-27T17:21:43.028126Z"
    },
    "papermill": {
     "duration": 369.354985,
     "end_time": "2023-07-27T17:21:43.031509",
     "exception": false,
     "start_time": "2023-07-27T17:15:33.676524",
     "status": "completed"
    },
    "tags": []
   },
   "outputs": [
    {
     "name": "stdout",
     "output_type": "stream",
     "text": [
      "Epoch 1/3\n"
     ]
    },
    {
     "name": "stderr",
     "output_type": "stream",
     "text": [
      "/opt/conda/lib/python3.10/site-packages/keras/engine/functional.py:639: UserWarning: Input dict contained keys ['token_type_ids'] which did not match any model input. They will be ignored by the model.\n",
      "  inputs = self._flatten_to_reference_inputs(inputs)\n"
     ]
    },
    {
     "name": "stdout",
     "output_type": "stream",
     "text": [
      "160/160 [==============================] - ETA: 0s - loss: 0.4659 - accuracy: 0.7978\n",
      "Epoch 1: val_loss improved from inf to 0.40642, saving model to model/best_performed_model.ckpt\n",
      "160/160 [==============================] - 145s 597ms/step - loss: 0.4659 - accuracy: 0.7978 - val_loss: 0.4064 - val_accuracy: 0.8300\n",
      "Epoch 2/3\n",
      "160/160 [==============================] - ETA: 0s - loss: 0.3486 - accuracy: 0.8592\n",
      "Epoch 2: val_loss did not improve from 0.40642\n",
      "160/160 [==============================] - 83s 519ms/step - loss: 0.3486 - accuracy: 0.8592 - val_loss: 0.4162 - val_accuracy: 0.8256\n",
      "Epoch 3/3\n",
      "160/160 [==============================] - ETA: 0s - loss: 0.2987 - accuracy: 0.8859\n",
      "Epoch 3: val_loss did not improve from 0.40642\n",
      "160/160 [==============================] - 82s 513ms/step - loss: 0.2987 - accuracy: 0.8859 - val_loss: 0.4364 - val_accuracy: 0.8244\n"
     ]
    }
   ],
   "source": [
    "history = model.fit(train_features, \n",
    "                    epochs = 3,\n",
    "                    validation_data = val_features,\n",
    "                    callbacks = [early_stopping, model_checkpoint_callback])"
   ]
  },
  {
   "cell_type": "code",
   "execution_count": 17,
   "id": "b5e750c3",
   "metadata": {
    "execution": {
     "iopub.execute_input": "2023-07-27T17:21:43.124113Z",
     "iopub.status.busy": "2023-07-27T17:21:43.123274Z",
     "iopub.status.idle": "2023-07-27T17:21:43.449128Z",
     "shell.execute_reply": "2023-07-27T17:21:43.448091Z"
    },
    "papermill": {
     "duration": 0.374549,
     "end_time": "2023-07-27T17:21:43.452120",
     "exception": false,
     "start_time": "2023-07-27T17:21:43.077571",
     "status": "completed"
    },
    "tags": []
   },
   "outputs": [
    {
     "data": {
      "image/png": "[encoded data removed]",
      "text/plain": [
       "<Figure size 640x480 with 1 Axes>"
      ]
     },
     "metadata": {},
     "output_type": "display_data"
    }
   ],
   "source": [
    "plt.plot(history.history['accuracy'])\n",
    "plt.plot(history.history['val_accuracy'])\n",
    "plt.legend(['training', 'validation'])\n",
    "plt.show()"
   ]
  },
  {
   "cell_type": "markdown",
   "id": "7999373b",
   "metadata": {
    "papermill": {
     "duration": 0.051027,
     "end_time": "2023-07-27T17:21:43.555289",
     "exception": false,
     "start_time": "2023-07-27T17:21:43.504262",
     "status": "completed"
    },
    "tags": []
   },
   "source": [
    "## Prepare for Submission"
   ]
  },
  {
   "cell_type": "code",
   "execution_count": 18,
   "id": "efaeca39",
   "metadata": {
    "execution": {
     "iopub.execute_input": "2023-07-27T17:21:43.657714Z",
     "iopub.status.busy": "2023-07-27T17:21:43.657318Z",
     "iopub.status.idle": "2023-07-27T17:21:44.973957Z",
     "shell.execute_reply": "2023-07-27T17:21:44.972976Z"
    },
    "papermill": {
     "duration": 1.371189,
     "end_time": "2023-07-27T17:21:44.976453",
     "exception": false,
     "start_time": "2023-07-27T17:21:43.605264",
     "status": "completed"
    },
    "tags": []
   },
   "outputs": [],
   "source": [
    "clean_test = clean_text(test)\n",
    "\n",
    "test_token = tokenizer(clean_test.text.tolist(), \n",
    "                       padding = \"max_length\", \n",
    "                       truncation = True,\n",
    "                       return_tensors='tf').data"
   ]
  },
  {
   "cell_type": "code",
   "execution_count": 19,
   "id": "b1d7eacd",
   "metadata": {
    "execution": {
     "iopub.execute_input": "2023-07-27T17:21:45.070968Z",
     "iopub.status.busy": "2023-07-27T17:21:45.070640Z",
     "iopub.status.idle": "2023-07-27T17:22:05.370583Z",
     "shell.execute_reply": "2023-07-27T17:22:05.369332Z"
    },
    "papermill": {
     "duration": 20.350469,
     "end_time": "2023-07-27T17:22:05.373879",
     "exception": false,
     "start_time": "2023-07-27T17:21:45.023410",
     "status": "completed"
    },
    "tags": []
   },
   "outputs": [
    {
     "name": "stdout",
     "output_type": "stream",
     "text": [
      "102/102 [==============================] - 20s 169ms/step\n"
     ]
    }
   ],
   "source": [
    "predictions = model.predict(test_token)"
   ]
  },
  {
   "cell_type": "code",
   "execution_count": 20,
   "id": "90f88c64",
   "metadata": {
    "execution": {
     "iopub.execute_input": "2023-07-27T17:22:05.491344Z",
     "iopub.status.busy": "2023-07-27T17:22:05.490967Z",
     "iopub.status.idle": "2023-07-27T17:22:05.563018Z",
     "shell.execute_reply": "2023-07-27T17:22:05.561975Z"
    },
    "papermill": {
     "duration": 0.135415,
     "end_time": "2023-07-27T17:22:05.565387",
     "exception": false,
     "start_time": "2023-07-27T17:22:05.429972",
     "status": "completed"
    },
    "tags": []
   },
   "outputs": [],
   "source": [
    "final_predictions = [(x > 0.5).astype(int)[0] for x in predictions]\n",
    "predictions_df = pd.DataFrame(list(zip(test.id, final_predictions)),\n",
    "                              columns = ['id', 'target'])\n",
    "\n",
    "predictions_df.to_csv('predictions.csv', index = False)"
   ]
  }
 ],
 "metadata": {
  "kernelspec": {
   "display_name": "Python 3",
   "language": "python",
   "name": "python3"
  },
  "language_info": {
   "codemirror_mode": {
    "name": "ipython",
    "version": 3
   },
   "file_extension": ".py",
   "mimetype": "text/x-python",
   "name": "python",
   "nbconvert_exporter": "python",
   "pygments_lexer": "ipython3",
   "version": "3.10.12"
  },
  "papermill": {
   "default_parameters": {},
   "duration": 532.907947,
   "end_time": "2023-07-27T17:22:08.668899",
   "environment_variables": {},
   "exception": null,
   "input_path": "__notebook__.ipynb",
   "output_path": "__notebook__.ipynb",
   "parameters": {},
   "start_time": "2023-07-27T17:13:15.760952",
   "version": "2.4.0"
  },
  "widgets": {
   "application/vnd.jupyter.widget-state+json": {
    "state": {
     "10902219a03a452889da789aeca3299b": {
      "model_module": "@jupyter-widgets/base",
      "model_module_version": "1.2.0",
      "model_name": "LayoutModel",
      "state": {
       "_model_module": "@jupyter-widgets/base",
       "_model_module_version": "1.2.0",
       "_model_name": "LayoutModel",
       "_view_count": null,
       "_view_module": "@jupyter-widgets/base",
       "_view_module_version": "1.2.0",
       "_view_name": "LayoutView",
       "align_content": null,
       "align_items": null,
       "align_self": null,
       "border": null,
       "bottom": null,
       "display": null,
       "flex": null,
       "flex_flow": null,
       "grid_area": null,
       "grid_auto_columns": null,
       "grid_auto_flow": null,
       "grid_auto_rows": null,
       "grid_column": null,
       "grid_gap": null,
       "grid_row": null,
       "grid_template_areas": null,
       "grid_template_columns": null,
       "grid_template_rows": null,
       "height": null,
       "justify_content": null,
       "justify_items": null,
       "left": null,
       "margin": null,
       "max_height": null,
       "max_width": null,
       "min_height": null,
       "min_width": null,
       "object_fit": null,
       "object_position": null,
       "order": null,
       "overflow": null,
       "overflow_x": null,
       "overflow_y": null,
       "padding": null,
       "right": null,
       "top": null,
       "visibility": null,
       "width": null
      }
     },
     "138aa35f642544298dc8a92d899d91fd": {
      "model_module": "@jupyter-widgets/controls",
      "model_module_version": "1.5.0",
      "model_name": "HTMLModel",
      "state": {
       "_dom_classes": [],
       "_model_module": "@jupyter-widgets/controls",
       "_model_module_version": "1.5.0",
       "_model_name": "HTMLModel",
       "_view_count": null,
       "_view_module": "@jupyter-widgets/controls",
       "_view_module_version": "1.5.0",
       "_view_name": "HTMLView",
       "description": "",
       "description_tooltip": null,
       "layout": "IPY_MODEL_9b66f33c4a1c4ab2be922e4a56dac7ce",
       "placeholder": "​",
       "style": "IPY_MODEL_edfe744f803a4759b0edf92b97e8c6f6",
       "value": "Downloading (…)solve/main/bpe.codes: 100%"
      }
     },
     "1686c5edb1144e9db946fc538b5bf13c": {
      "model_module": "@jupyter-widgets/controls",
      "model_module_version": "1.5.0",
      "model_name": "HBoxModel",
      "state": {
       "_dom_classes": [],
       "_model_module": "@jupyter-widgets/controls",
       "_model_module_version": "1.5.0",
       "_model_name": "HBoxModel",
       "_view_count": null,
       "_view_module": "@jupyter-widgets/controls",
       "_view_module_version": "1.5.0",
       "_view_name": "HBoxView",
       "box_style": "",
       "children": [
        "IPY_MODEL_138aa35f642544298dc8a92d899d91fd",
        "IPY_MODEL_630e4c6732444a3b98e56cd37ce0862e",
        "IPY_MODEL_73ea62e118bb44b9a52ec927c06448a9"
       ],
       "layout": "IPY_MODEL_279aa7685a7f47ee9e77da954dafe797"
      }
     },
     "18b3bf52a47d4690a7b1f182b498c023": {
      "model_module": "@jupyter-widgets/controls",
      "model_module_version": "1.5.0",
      "model_name": "DescriptionStyleModel",
      "state": {
       "_model_module": "@jupyter-widgets/controls",
       "_model_module_version": "1.5.0",
       "_model_name": "DescriptionStyleModel",
       "_view_count": null,
       "_view_module": "@jupyter-widgets/base",
       "_view_module_version": "1.2.0",
       "_view_name": "StyleView",
       "description_width": ""
      }
     },
     "20e19d7a8c4a408aadc0bbd5210e7b97": {
      "model_module": "@jupyter-widgets/controls",
      "model_module_version": "1.5.0",
      "model_name": "DescriptionStyleModel",
      "state": {
       "_model_module": "@jupyter-widgets/controls",
       "_model_module_version": "1.5.0",
       "_model_name": "DescriptionStyleModel",
       "_view_count": null,
       "_view_module": "@jupyter-widgets/base",
       "_view_module_version": "1.2.0",
       "_view_name": "StyleView",
       "description_width": ""
      }
     },
     "279aa7685a7f47ee9e77da954dafe797": {
      "model_module": "@jupyter-widgets/base",
      "model_module_version": "1.2.0",
      "model_name": "LayoutModel",
      "state": {
       "_model_module": "@jupyter-widgets/base",
       "_model_module_version": "1.2.0",
       "_model_name": "LayoutModel",
       "_view_count": null,
       "_view_module": "@jupyter-widgets/base",
       "_view_module_version": "1.2.0",
       "_view_name": "LayoutView",
       "align_content": null,
       "align_items": null,
       "align_self": null,
       "border": null,
       "bottom": null,
       "display": null,
       "flex": null,
       "flex_flow": null,
       "grid_area": null,
       "grid_auto_columns": null,
       "grid_auto_flow": null,
       "grid_auto_rows": null,
       "grid_column": null,
       "grid_gap": null,
       "grid_row": null,
       "grid_template_areas": null,
       "grid_template_columns": null,
       "grid_template_rows": null,
       "height": null,
       "justify_content": null,
       "justify_items": null,
       "left": null,
       "margin": null,
       "max_height": null,
       "max_width": null,
       "min_height": null,
       "min_width": null,
       "object_fit": null,
       "object_position": null,
       "order": null,
       "overflow": null,
       "overflow_x": null,
       "overflow_y": null,
       "padding": null,
       "right": null,
       "top": null,
       "visibility": null,
       "width": null
      }
     },
     "2e43ca56126342e3823a9b8d074b2051": {
      "model_module": "@jupyter-widgets/controls",
      "model_module_version": "1.5.0",
      "model_name": "HTMLModel",
      "state": {
       "_dom_classes": [],
       "_model_module": "@jupyter-widgets/controls",
       "_model_module_version": "1.5.0",
       "_model_name": "HTMLModel",
       "_view_count": null,
       "_view_module": "@jupyter-widgets/controls",
       "_view_module_version": "1.5.0",
       "_view_name": "HTMLView",
       "description": "",
       "description_tooltip": null,
       "layout": "IPY_MODEL_e8989cd6bc4341cc959efdbd6349049f",
       "placeholder": "​",
       "style": "IPY_MODEL_cdf83d8c398e437aa572ada8d566ab6c",
       "value": "Downloading (…)lve/main/config.json: 100%"
      }
     },
     "3b8d313ba4e2498bb13434e52f469e5a": {
      "model_module": "@jupyter-widgets/base",
      "model_module_version": "1.2.0",
      "model_name": "LayoutModel",
      "state": {
       "_model_module": "@jupyter-widgets/base",
       "_model_module_version": "1.2.0",
       "_model_name": "LayoutModel",
       "_view_count": null,
       "_view_module": "@jupyter-widgets/base",
       "_view_module_version": "1.2.0",
       "_view_name": "LayoutView",
       "align_content": null,
       "align_items": null,
       "align_self": null,
       "border": null,
       "bottom": null,
       "display": null,
       "flex": null,
       "flex_flow": null,
       "grid_area": null,
       "grid_auto_columns": null,
       "grid_auto_flow": null,
       "grid_auto_rows": null,
       "grid_column": null,
       "grid_gap": null,
       "grid_row": null,
       "grid_template_areas": null,
       "grid_template_columns": null,
       "grid_template_rows": null,
       "height": null,
       "justify_content": null,
       "justify_items": null,
       "left": null,
       "margin": null,
       "max_height": null,
       "max_width": null,
       "min_height": null,
       "min_width": null,
       "object_fit": null,
       "object_position": null,
       "order": null,
       "overflow": null,
       "overflow_x": null,
       "overflow_y": null,
       "padding": null,
       "right": null,
       "top": null,
       "visibility": null,
       "width": null
      }
     },
     "44080828b17e4f3ab9a00e50bbebf1a6": {
      "model_module": "@jupyter-widgets/base",
      "model_module_version": "1.2.0",
      "model_name": "LayoutModel",
      "state": {
       "_model_module": "@jupyter-widgets/base",
       "_model_module_version": "1.2.0",
       "_model_name": "LayoutModel",
       "_view_count": null,
       "_view_module": "@jupyter-widgets/base",
       "_view_module_version": "1.2.0",
       "_view_name": "LayoutView",
       "align_content": null,
       "align_items": null,
       "align_self": null,
       "border": null,
       "bottom": null,
       "display": null,
       "flex": null,
       "flex_flow": null,
       "grid_area": null,
       "grid_auto_columns": null,
       "grid_auto_flow": null,
       "grid_auto_rows": null,
       "grid_column": null,
       "grid_gap": null,
       "grid_row": null,
       "grid_template_areas": null,
       "grid_template_columns": null,
       "grid_template_rows": null,
       "height": null,
       "justify_content": null,
       "justify_items": null,
       "left": null,
       "margin": null,
       "max_height": null,
       "max_width": null,
       "min_height": null,
       "min_width": null,
       "object_fit": null,
       "object_position": null,
       "order": null,
       "overflow": null,
       "overflow_x": null,
       "overflow_y": null,
       "padding": null,
       "right": null,
       "top": null,
       "visibility": null,
       "width": null
      }
     },
     "455a0265e8b64a5ca1273bbdaca7a2ff": {
      "model_module": "@jupyter-widgets/controls",
      "model_module_version": "1.5.0",
      "model_name": "FloatProgressModel",
      "state": {
       "_dom_classes": [],
       "_model_module": "@jupyter-widgets/controls",
       "_model_module_version": "1.5.0",
       "_model_name": "FloatProgressModel",
       "_view_count": null,
       "_view_module": "@jupyter-widgets/controls",
       "_view_module_version": "1.5.0",
       "_view_name": "ProgressView",
       "bar_style": "success",
       "description": "",
       "description_tooltip": null,
       "layout": "IPY_MODEL_84d555f0a25f4d4cb694481acd4e5d4a",
       "max": 843438.0,
       "min": 0.0,
       "orientation": "horizontal",
       "style": "IPY_MODEL_c692472b9d7844cab6775d6cb69d407b",
       "value": 843438.0
      }
     },
     "45881c0c93ee4e64b95448458ce937a8": {
      "model_module": "@jupyter-widgets/base",
      "model_module_version": "1.2.0",
      "model_name": "LayoutModel",
      "state": {
       "_model_module": "@jupyter-widgets/base",
       "_model_module_version": "1.2.0",
       "_model_name": "LayoutModel",
       "_view_count": null,
       "_view_module": "@jupyter-widgets/base",
       "_view_module_version": "1.2.0",
       "_view_name": "LayoutView",
       "align_content": null,
       "align_items": null,
       "align_self": null,
       "border": null,
       "bottom": null,
       "display": null,
       "flex": null,
       "flex_flow": null,
       "grid_area": null,
       "grid_auto_columns": null,
       "grid_auto_flow": null,
       "grid_auto_rows": null,
       "grid_column": null,
       "grid_gap": null,
       "grid_row": null,
       "grid_template_areas": null,
       "grid_template_columns": null,
       "grid_template_rows": null,
       "height": null,
       "justify_content": null,
       "justify_items": null,
       "left": null,
       "margin": null,
       "max_height": null,
       "max_width": null,
       "min_height": null,
       "min_width": null,
       "object_fit": null,
       "object_position": null,
       "order": null,
       "overflow": null,
       "overflow_x": null,
       "overflow_y": null,
       "padding": null,
       "right": null,
       "top": null,
       "visibility": null,
       "width": null
      }
     },
     "523b7add4f0c4525923d5fe2564a47bf": {
      "model_module": "@jupyter-widgets/controls",
      "model_module_version": "1.5.0",
      "model_name": "DescriptionStyleModel",
      "state": {
       "_model_module": "@jupyter-widgets/controls",
       "_model_module_version": "1.5.0",
       "_model_name": "DescriptionStyleModel",
       "_view_count": null,
       "_view_module": "@jupyter-widgets/base",
       "_view_module_version": "1.2.0",
       "_view_name": "StyleView",
       "description_width": ""
      }
     },
     "542545a330564fb9abf9ffd7d5bda6f6": {
      "model_module": "@jupyter-widgets/controls",
      "model_module_version": "1.5.0",
      "model_name": "FloatProgressModel",
      "state": {
       "_dom_classes": [],
       "_model_module": "@jupyter-widgets/controls",
       "_model_module_version": "1.5.0",
       "_model_name": "FloatProgressModel",
       "_view_count": null,
       "_view_module": "@jupyter-widgets/controls",
       "_view_module_version": "1.5.0",
       "_view_name": "ProgressView",
       "bar_style": "success",
       "description": "",
       "description_tooltip": null,
       "layout": "IPY_MODEL_78dbc0419d34441882bb365f469ce057",
       "max": 739523780.0,
       "min": 0.0,
       "orientation": "horizontal",
       "style": "IPY_MODEL_a439aa9c8a7c4e13871bc3c023757a20",
       "value": 739523780.0
      }
     },
     "6009f0ce6a78411cb6dfe024ef40fd9f": {
      "model_module": "@jupyter-widgets/controls",
      "model_module_version": "1.5.0",
      "model_name": "DescriptionStyleModel",
      "state": {
       "_model_module": "@jupyter-widgets/controls",
       "_model_module_version": "1.5.0",
       "_model_name": "DescriptionStyleModel",
       "_view_count": null,
       "_view_module": "@jupyter-widgets/base",
       "_view_module_version": "1.2.0",
       "_view_name": "StyleView",
       "description_width": ""
      }
     },
     "630e4c6732444a3b98e56cd37ce0862e": {
      "model_module": "@jupyter-widgets/controls",
      "model_module_version": "1.5.0",
      "model_name": "FloatProgressModel",
      "state": {
       "_dom_classes": [],
       "_model_module": "@jupyter-widgets/controls",
       "_model_module_version": "1.5.0",
       "_model_name": "FloatProgressModel",
       "_view_count": null,
       "_view_module": "@jupyter-widgets/controls",
       "_view_module_version": "1.5.0",
       "_view_name": "ProgressView",
       "bar_style": "success",
       "description": "",
       "description_tooltip": null,
       "layout": "IPY_MODEL_a0cc5444120c453db767e8045872db8c",
       "max": 1078931.0,
       "min": 0.0,
       "orientation": "horizontal",
       "style": "IPY_MODEL_678138152bee439c81b74048c6dd2c5b",
       "value": 1078931.0
      }
     },
     "678138152bee439c81b74048c6dd2c5b": {
      "model_module": "@jupyter-widgets/controls",
      "model_module_version": "1.5.0",
      "model_name": "ProgressStyleModel",
      "state": {
       "_model_module": "@jupyter-widgets/controls",
       "_model_module_version": "1.5.0",
       "_model_name": "ProgressStyleModel",
       "_view_count": null,
       "_view_module": "@jupyter-widgets/base",
       "_view_module_version": "1.2.0",
       "_view_name": "StyleView",
       "bar_color": null,
       "description_width": ""
      }
     },
     "682068a2b9cb4657b9184ad013802361": {
      "model_module": "@jupyter-widgets/controls",
      "model_module_version": "1.5.0",
      "model_name": "HTMLModel",
      "state": {
       "_dom_classes": [],
       "_model_module": "@jupyter-widgets/controls",
       "_model_module_version": "1.5.0",
       "_model_name": "HTMLModel",
       "_view_count": null,
       "_view_module": "@jupyter-widgets/controls",
       "_view_module_version": "1.5.0",
       "_view_name": "HTMLView",
       "description": "",
       "description_tooltip": null,
       "layout": "IPY_MODEL_94e3da72899542a4b5d403c92942b75a",
       "placeholder": "​",
       "style": "IPY_MODEL_82aedf0b771f4e7e920964e5329c3073",
       "value": " 740M/740M [00:36&lt;00:00, 23.3MB/s]"
      }
     },
     "69fc2a06b8294a6ea82f9493d160cf55": {
      "model_module": "@jupyter-widgets/controls",
      "model_module_version": "1.5.0",
      "model_name": "HBoxModel",
      "state": {
       "_dom_classes": [],
       "_model_module": "@jupyter-widgets/controls",
       "_model_module_version": "1.5.0",
       "_model_name": "HBoxModel",
       "_view_count": null,
       "_view_module": "@jupyter-widgets/controls",
       "_view_module_version": "1.5.0",
       "_view_name": "HBoxView",
       "box_style": "",
       "children": [
        "IPY_MODEL_f63476add5cb45c485bd084c23a86222",
        "IPY_MODEL_542545a330564fb9abf9ffd7d5bda6f6",
        "IPY_MODEL_682068a2b9cb4657b9184ad013802361"
       ],
       "layout": "IPY_MODEL_7b76cac1bb5a46aaaefb4522ff580c6e"
      }
     },
     "6e520c3f50ee4c4b90995e5611769f8d": {
      "model_module": "@jupyter-widgets/controls",
      "model_module_version": "1.5.0",
      "model_name": "FloatProgressModel",
      "state": {
       "_dom_classes": [],
       "_model_module": "@jupyter-widgets/controls",
       "_model_module_version": "1.5.0",
       "_model_name": "FloatProgressModel",
       "_view_count": null,
       "_view_module": "@jupyter-widgets/controls",
       "_view_module_version": "1.5.0",
       "_view_name": "ProgressView",
       "bar_style": "success",
       "description": "",
       "description_tooltip": null,
       "layout": "IPY_MODEL_10902219a03a452889da789aeca3299b",
       "max": 558.0,
       "min": 0.0,
       "orientation": "horizontal",
       "style": "IPY_MODEL_cf8a5cd6dbf0448995e639105734e550",
       "value": 558.0
      }
     },
     "6ffaeb86a5e9444d9d4f58dfe5fd102e": {
      "model_module": "@jupyter-widgets/controls",
      "model_module_version": "1.5.0",
      "model_name": "DescriptionStyleModel",
      "state": {
       "_model_module": "@jupyter-widgets/controls",
       "_model_module_version": "1.5.0",
       "_model_name": "DescriptionStyleModel",
       "_view_count": null,
       "_view_module": "@jupyter-widgets/base",
       "_view_module_version": "1.2.0",
       "_view_name": "StyleView",
       "description_width": ""
      }
     },
     "73ea62e118bb44b9a52ec927c06448a9": {
      "model_module": "@jupyter-widgets/controls",
      "model_module_version": "1.5.0",
      "model_name": "HTMLModel",
      "state": {
       "_dom_classes": [],
       "_model_module": "@jupyter-widgets/controls",
       "_model_module_version": "1.5.0",
       "_model_name": "HTMLModel",
       "_view_count": null,
       "_view_module": "@jupyter-widgets/controls",
       "_view_module_version": "1.5.0",
       "_view_name": "HTMLView",
       "description": "",
       "description_tooltip": null,
       "layout": "IPY_MODEL_bcdee9a6a50c42daa7f75153bf28e6b2",
       "placeholder": "​",
       "style": "IPY_MODEL_20e19d7a8c4a408aadc0bbd5210e7b97",
       "value": " 1.08M/1.08M [00:00&lt;00:00, 1.57MB/s]"
      }
     },
     "78b3d1520c7b402f9d31a8cf5eb01b95": {
      "model_module": "@jupyter-widgets/controls",
      "model_module_version": "1.5.0",
      "model_name": "HTMLModel",
      "state": {
       "_dom_classes": [],
       "_model_module": "@jupyter-widgets/controls",
       "_model_module_version": "1.5.0",
       "_model_name": "HTMLModel",
       "_view_count": null,
       "_view_module": "@jupyter-widgets/controls",
       "_view_module_version": "1.5.0",
       "_view_name": "HTMLView",
       "description": "",
       "description_tooltip": null,
       "layout": "IPY_MODEL_dfbd8dbeb4d24c708e322d4f6415ef2b",
       "placeholder": "​",
       "style": "IPY_MODEL_523b7add4f0c4525923d5fe2564a47bf",
       "value": " 843k/843k [00:00&lt;00:00, 1.23MB/s]"
      }
     },
     "78dbc0419d34441882bb365f469ce057": {
      "model_module": "@jupyter-widgets/base",
      "model_module_version": "1.2.0",
      "model_name": "LayoutModel",
      "state": {
       "_model_module": "@jupyter-widgets/base",
       "_model_module_version": "1.2.0",
       "_model_name": "LayoutModel",
       "_view_count": null,
       "_view_module": "@jupyter-widgets/base",
       "_view_module_version": "1.2.0",
       "_view_name": "LayoutView",
       "align_content": null,
       "align_items": null,
       "align_self": null,
       "border": null,
       "bottom": null,
       "display": null,
       "flex": null,
       "flex_flow": null,
       "grid_area": null,
       "grid_auto_columns": null,
       "grid_auto_flow": null,
       "grid_auto_rows": null,
       "grid_column": null,
       "grid_gap": null,
       "grid_row": null,
       "grid_template_areas": null,
       "grid_template_columns": null,
       "grid_template_rows": null,
       "height": null,
       "justify_content": null,
       "justify_items": null,
       "left": null,
       "margin": null,
       "max_height": null,
       "max_width": null,
       "min_height": null,
       "min_width": null,
       "object_fit": null,
       "object_position": null,
       "order": null,
       "overflow": null,
       "overflow_x": null,
       "overflow_y": null,
       "padding": null,
       "right": null,
       "top": null,
       "visibility": null,
       "width": null
      }
     },
     "7b76cac1bb5a46aaaefb4522ff580c6e": {
      "model_module": "@jupyter-widgets/base",
      "model_module_version": "1.2.0",
      "model_name": "LayoutModel",
      "state": {
       "_model_module": "@jupyter-widgets/base",
       "_model_module_version": "1.2.0",
       "_model_name": "LayoutModel",
       "_view_count": null,
       "_view_module": "@jupyter-widgets/base",
       "_view_module_version": "1.2.0",
       "_view_name": "LayoutView",
       "align_content": null,
       "align_items": null,
       "align_self": null,
       "border": null,
       "bottom": null,
       "display": null,
       "flex": null,
       "flex_flow": null,
       "grid_area": null,
       "grid_auto_columns": null,
       "grid_auto_flow": null,
       "grid_auto_rows": null,
       "grid_column": null,
       "grid_gap": null,
       "grid_row": null,
       "grid_template_areas": null,
       "grid_template_columns": null,
       "grid_template_rows": null,
       "height": null,
       "justify_content": null,
       "justify_items": null,
       "left": null,
       "margin": null,
       "max_height": null,
       "max_width": null,
       "min_height": null,
       "min_width": null,
       "object_fit": null,
       "object_position": null,
       "order": null,
       "overflow": null,
       "overflow_x": null,
       "overflow_y": null,
       "padding": null,
       "right": null,
       "top": null,
       "visibility": null,
       "width": null
      }
     },
     "82aedf0b771f4e7e920964e5329c3073": {
      "model_module": "@jupyter-widgets/controls",
      "model_module_version": "1.5.0",
      "model_name": "DescriptionStyleModel",
      "state": {
       "_model_module": "@jupyter-widgets/controls",
       "_model_module_version": "1.5.0",
       "_model_name": "DescriptionStyleModel",
       "_view_count": null,
       "_view_module": "@jupyter-widgets/base",
       "_view_module_version": "1.2.0",
       "_view_name": "StyleView",
       "description_width": ""
      }
     },
     "84d555f0a25f4d4cb694481acd4e5d4a": {
      "model_module": "@jupyter-widgets/base",
      "model_module_version": "1.2.0",
      "model_name": "LayoutModel",
      "state": {
       "_model_module": "@jupyter-widgets/base",
       "_model_module_version": "1.2.0",
       "_model_name": "LayoutModel",
       "_view_count": null,
       "_view_module": "@jupyter-widgets/base",
       "_view_module_version": "1.2.0",
       "_view_name": "LayoutView",
       "align_content": null,
       "align_items": null,
       "align_self": null,
       "border": null,
       "bottom": null,
       "display": null,
       "flex": null,
       "flex_flow": null,
       "grid_area": null,
       "grid_auto_columns": null,
       "grid_auto_flow": null,
       "grid_auto_rows": null,
       "grid_column": null,
       "grid_gap": null,
       "grid_row": null,
       "grid_template_areas": null,
       "grid_template_columns": null,
       "grid_template_rows": null,
       "height": null,
       "justify_content": null,
       "justify_items": null,
       "left": null,
       "margin": null,
       "max_height": null,
       "max_width": null,
       "min_height": null,
       "min_width": null,
       "object_fit": null,
       "object_position": null,
       "order": null,
       "overflow": null,
       "overflow_x": null,
       "overflow_y": null,
       "padding": null,
       "right": null,
       "top": null,
       "visibility": null,
       "width": null
      }
     },
     "874bb05f8d2047f8aeb03fa59093252c": {
      "model_module": "@jupyter-widgets/controls",
      "model_module_version": "1.5.0",
      "model_name": "HTMLModel",
      "state": {
       "_dom_classes": [],
       "_model_module": "@jupyter-widgets/controls",
       "_model_module_version": "1.5.0",
       "_model_name": "HTMLModel",
       "_view_count": null,
       "_view_module": "@jupyter-widgets/controls",
       "_view_module_version": "1.5.0",
       "_view_name": "HTMLView",
       "description": "",
       "description_tooltip": null,
       "layout": "IPY_MODEL_3b8d313ba4e2498bb13434e52f469e5a",
       "placeholder": "​",
       "style": "IPY_MODEL_6009f0ce6a78411cb6dfe024ef40fd9f",
       "value": " 558/558 [00:00&lt;00:00, 33.9kB/s]"
      }
     },
     "94e3da72899542a4b5d403c92942b75a": {
      "model_module": "@jupyter-widgets/base",
      "model_module_version": "1.2.0",
      "model_name": "LayoutModel",
      "state": {
       "_model_module": "@jupyter-widgets/base",
       "_model_module_version": "1.2.0",
       "_model_name": "LayoutModel",
       "_view_count": null,
       "_view_module": "@jupyter-widgets/base",
       "_view_module_version": "1.2.0",
       "_view_name": "LayoutView",
       "align_content": null,
       "align_items": null,
       "align_self": null,
       "border": null,
       "bottom": null,
       "display": null,
       "flex": null,
       "flex_flow": null,
       "grid_area": null,
       "grid_auto_columns": null,
       "grid_auto_flow": null,
       "grid_auto_rows": null,
       "grid_column": null,
       "grid_gap": null,
       "grid_row": null,
       "grid_template_areas": null,
       "grid_template_columns": null,
       "grid_template_rows": null,
       "height": null,
       "justify_content": null,
       "justify_items": null,
       "left": null,
       "margin": null,
       "max_height": null,
       "max_width": null,
       "min_height": null,
       "min_width": null,
       "object_fit": null,
       "object_position": null,
       "order": null,
       "overflow": null,
       "overflow_x": null,
       "overflow_y": null,
       "padding": null,
       "right": null,
       "top": null,
       "visibility": null,
       "width": null
      }
     },
     "9b66f33c4a1c4ab2be922e4a56dac7ce": {
      "model_module": "@jupyter-widgets/base",
      "model_module_version": "1.2.0",
      "model_name": "LayoutModel",
      "state": {
       "_model_module": "@jupyter-widgets/base",
       "_model_module_version": "1.2.0",
       "_model_name": "LayoutModel",
       "_view_count": null,
       "_view_module": "@jupyter-widgets/base",
       "_view_module_version": "1.2.0",
       "_view_name": "LayoutView",
       "align_content": null,
       "align_items": null,
       "align_self": null,
       "border": null,
       "bottom": null,
       "display": null,
       "flex": null,
       "flex_flow": null,
       "grid_area": null,
       "grid_auto_columns": null,
       "grid_auto_flow": null,
       "grid_auto_rows": null,
       "grid_column": null,
       "grid_gap": null,
       "grid_row": null,
       "grid_template_areas": null,
       "grid_template_columns": null,
       "grid_template_rows": null,
       "height": null,
       "justify_content": null,
       "justify_items": null,
       "left": null,
       "margin": null,
       "max_height": null,
       "max_width": null,
       "min_height": null,
       "min_width": null,
       "object_fit": null,
       "object_position": null,
       "order": null,
       "overflow": null,
       "overflow_x": null,
       "overflow_y": null,
       "padding": null,
       "right": null,
       "top": null,
       "visibility": null,
       "width": null
      }
     },
     "a0cc5444120c453db767e8045872db8c": {
      "model_module": "@jupyter-widgets/base",
      "model_module_version": "1.2.0",
      "model_name": "LayoutModel",
      "state": {
       "_model_module": "@jupyter-widgets/base",
       "_model_module_version": "1.2.0",
       "_model_name": "LayoutModel",
       "_view_count": null,
       "_view_module": "@jupyter-widgets/base",
       "_view_module_version": "1.2.0",
       "_view_name": "LayoutView",
       "align_content": null,
       "align_items": null,
       "align_self": null,
       "border": null,
       "bottom": null,
       "display": null,
       "flex": null,
       "flex_flow": null,
       "grid_area": null,
       "grid_auto_columns": null,
       "grid_auto_flow": null,
       "grid_auto_rows": null,
       "grid_column": null,
       "grid_gap": null,
       "grid_row": null,
       "grid_template_areas": null,
       "grid_template_columns": null,
       "grid_template_rows": null,
       "height": null,
       "justify_content": null,
       "justify_items": null,
       "left": null,
       "margin": null,
       "max_height": null,
       "max_width": null,
       "min_height": null,
       "min_width": null,
       "object_fit": null,
       "object_position": null,
       "order": null,
       "overflow": null,
       "overflow_x": null,
       "overflow_y": null,
       "padding": null,
       "right": null,
       "top": null,
       "visibility": null,
       "width": null
      }
     },
     "a439aa9c8a7c4e13871bc3c023757a20": {
      "model_module": "@jupyter-widgets/controls",
      "model_module_version": "1.5.0",
      "model_name": "ProgressStyleModel",
      "state": {
       "_model_module": "@jupyter-widgets/controls",
       "_model_module_version": "1.5.0",
       "_model_name": "ProgressStyleModel",
       "_view_count": null,
       "_view_module": "@jupyter-widgets/base",
       "_view_module_version": "1.2.0",
       "_view_name": "StyleView",
       "bar_color": null,
       "description_width": ""
      }
     },
     "a915ddb7d21d45898beb50f05cd3c817": {
      "model_module": "@jupyter-widgets/controls",
      "model_module_version": "1.5.0",
      "model_name": "HTMLModel",
      "state": {
       "_dom_classes": [],
       "_model_module": "@jupyter-widgets/controls",
       "_model_module_version": "1.5.0",
       "_model_name": "HTMLModel",
       "_view_count": null,
       "_view_module": "@jupyter-widgets/controls",
       "_view_module_version": "1.5.0",
       "_view_name": "HTMLView",
       "description": "",
       "description_tooltip": null,
       "layout": "IPY_MODEL_44080828b17e4f3ab9a00e50bbebf1a6",
       "placeholder": "​",
       "style": "IPY_MODEL_6ffaeb86a5e9444d9d4f58dfe5fd102e",
       "value": "Downloading (…)solve/main/vocab.txt: 100%"
      }
     },
     "afb4f3cdea654c10b0b0c6e768973072": {
      "model_module": "@jupyter-widgets/controls",
      "model_module_version": "1.5.0",
      "model_name": "HBoxModel",
      "state": {
       "_dom_classes": [],
       "_model_module": "@jupyter-widgets/controls",
       "_model_module_version": "1.5.0",
       "_model_name": "HBoxModel",
       "_view_count": null,
       "_view_module": "@jupyter-widgets/controls",
       "_view_module_version": "1.5.0",
       "_view_name": "HBoxView",
       "box_style": "",
       "children": [
        "IPY_MODEL_2e43ca56126342e3823a9b8d074b2051",
        "IPY_MODEL_6e520c3f50ee4c4b90995e5611769f8d",
        "IPY_MODEL_874bb05f8d2047f8aeb03fa59093252c"
       ],
       "layout": "IPY_MODEL_45881c0c93ee4e64b95448458ce937a8"
      }
     },
     "bcdee9a6a50c42daa7f75153bf28e6b2": {
      "model_module": "@jupyter-widgets/base",
      "model_module_version": "1.2.0",
      "model_name": "LayoutModel",
      "state": {
       "_model_module": "@jupyter-widgets/base",
       "_model_module_version": "1.2.0",
       "_model_name": "LayoutModel",
       "_view_count": null,
       "_view_module": "@jupyter-widgets/base",
       "_view_module_version": "1.2.0",
       "_view_name": "LayoutView",
       "align_content": null,
       "align_items": null,
       "align_self": null,
       "border": null,
       "bottom": null,
       "display": null,
       "flex": null,
       "flex_flow": null,
       "grid_area": null,
       "grid_auto_columns": null,
       "grid_auto_flow": null,
       "grid_auto_rows": null,
       "grid_column": null,
       "grid_gap": null,
       "grid_row": null,
       "grid_template_areas": null,
       "grid_template_columns": null,
       "grid_template_rows": null,
       "height": null,
       "justify_content": null,
       "justify_items": null,
       "left": null,
       "margin": null,
       "max_height": null,
       "max_width": null,
       "min_height": null,
       "min_width": null,
       "object_fit": null,
       "object_position": null,
       "order": null,
       "overflow": null,
       "overflow_x": null,
       "overflow_y": null,
       "padding": null,
       "right": null,
       "top": null,
       "visibility": null,
       "width": null
      }
     },
     "c692472b9d7844cab6775d6cb69d407b": {
      "model_module": "@jupyter-widgets/controls",
      "model_module_version": "1.5.0",
      "model_name": "ProgressStyleModel",
      "state": {
       "_model_module": "@jupyter-widgets/controls",
       "_model_module_version": "1.5.0",
       "_model_name": "ProgressStyleModel",
       "_view_count": null,
       "_view_module": "@jupyter-widgets/base",
       "_view_module_version": "1.2.0",
       "_view_name": "StyleView",
       "bar_color": null,
       "description_width": ""
      }
     },
     "c9b2ffb0e31f480ca0f90b3408344c11": {
      "model_module": "@jupyter-widgets/base",
      "model_module_version": "1.2.0",
      "model_name": "LayoutModel",
      "state": {
       "_model_module": "@jupyter-widgets/base",
       "_model_module_version": "1.2.0",
       "_model_name": "LayoutModel",
       "_view_count": null,
       "_view_module": "@jupyter-widgets/base",
       "_view_module_version": "1.2.0",
       "_view_name": "LayoutView",
       "align_content": null,
       "align_items": null,
       "align_self": null,
       "border": null,
       "bottom": null,
       "display": null,
       "flex": null,
       "flex_flow": null,
       "grid_area": null,
       "grid_auto_columns": null,
       "grid_auto_flow": null,
       "grid_auto_rows": null,
       "grid_column": null,
       "grid_gap": null,
       "grid_row": null,
       "grid_template_areas": null,
       "grid_template_columns": null,
       "grid_template_rows": null,
       "height": null,
       "justify_content": null,
       "justify_items": null,
       "left": null,
       "margin": null,
       "max_height": null,
       "max_width": null,
       "min_height": null,
       "min_width": null,
       "object_fit": null,
       "object_position": null,
       "order": null,
       "overflow": null,
       "overflow_x": null,
       "overflow_y": null,
       "padding": null,
       "right": null,
       "top": null,
       "visibility": null,
       "width": null
      }
     },
     "cdf83d8c398e437aa572ada8d566ab6c": {
      "model_module": "@jupyter-widgets/controls",
      "model_module_version": "1.5.0",
      "model_name": "DescriptionStyleModel",
      "state": {
       "_model_module": "@jupyter-widgets/controls",
       "_model_module_version": "1.5.0",
       "_model_name": "DescriptionStyleModel",
       "_view_count": null,
       "_view_module": "@jupyter-widgets/base",
       "_view_module_version": "1.2.0",
       "_view_name": "StyleView",
       "description_width": ""
      }
     },
     "cf8a5cd6dbf0448995e639105734e550": {
      "model_module": "@jupyter-widgets/controls",
      "model_module_version": "1.5.0",
      "model_name": "ProgressStyleModel",
      "state": {
       "_model_module": "@jupyter-widgets/controls",
       "_model_module_version": "1.5.0",
       "_model_name": "ProgressStyleModel",
       "_view_count": null,
       "_view_module": "@jupyter-widgets/base",
       "_view_module_version": "1.2.0",
       "_view_name": "StyleView",
       "bar_color": null,
       "description_width": ""
      }
     },
     "d0c099b61cb041389172390c3dabc6b5": {
      "model_module": "@jupyter-widgets/base",
      "model_module_version": "1.2.0",
      "model_name": "LayoutModel",
      "state": {
       "_model_module": "@jupyter-widgets/base",
       "_model_module_version": "1.2.0",
       "_model_name": "LayoutModel",
       "_view_count": null,
       "_view_module": "@jupyter-widgets/base",
       "_view_module_version": "1.2.0",
       "_view_name": "LayoutView",
       "align_content": null,
       "align_items": null,
       "align_self": null,
       "border": null,
       "bottom": null,
       "display": null,
       "flex": null,
       "flex_flow": null,
       "grid_area": null,
       "grid_auto_columns": null,
       "grid_auto_flow": null,
       "grid_auto_rows": null,
       "grid_column": null,
       "grid_gap": null,
       "grid_row": null,
       "grid_template_areas": null,
       "grid_template_columns": null,
       "grid_template_rows": null,
       "height": null,
       "justify_content": null,
       "justify_items": null,
       "left": null,
       "margin": null,
       "max_height": null,
       "max_width": null,
       "min_height": null,
       "min_width": null,
       "object_fit": null,
       "object_position": null,
       "order": null,
       "overflow": null,
       "overflow_x": null,
       "overflow_y": null,
       "padding": null,
       "right": null,
       "top": null,
       "visibility": null,
       "width": null
      }
     },
     "dfbd8dbeb4d24c708e322d4f6415ef2b": {
      "model_module": "@jupyter-widgets/base",
      "model_module_version": "1.2.0",
      "model_name": "LayoutModel",
      "state": {
       "_model_module": "@jupyter-widgets/base",
       "_model_module_version": "1.2.0",
       "_model_name": "LayoutModel",
       "_view_count": null,
       "_view_module": "@jupyter-widgets/base",
       "_view_module_version": "1.2.0",
       "_view_name": "LayoutView",
       "align_content": null,
       "align_items": null,
       "align_self": null,
       "border": null,
       "bottom": null,
       "display": null,
       "flex": null,
       "flex_flow": null,
       "grid_area": null,
       "grid_auto_columns": null,
       "grid_auto_flow": null,
       "grid_auto_rows": null,
       "grid_column": null,
       "grid_gap": null,
       "grid_row": null,
       "grid_template_areas": null,
       "grid_template_columns": null,
       "grid_template_rows": null,
       "height": null,
       "justify_content": null,
       "justify_items": null,
       "left": null,
       "margin": null,
       "max_height": null,
       "max_width": null,
       "min_height": null,
       "min_width": null,
       "object_fit": null,
       "object_position": null,
       "order": null,
       "overflow": null,
       "overflow_x": null,
       "overflow_y": null,
       "padding": null,
       "right": null,
       "top": null,
       "visibility": null,
       "width": null
      }
     },
     "e8989cd6bc4341cc959efdbd6349049f": {
      "model_module": "@jupyter-widgets/base",
      "model_module_version": "1.2.0",
      "model_name": "LayoutModel",
      "state": {
       "_model_module": "@jupyter-widgets/base",
       "_model_module_version": "1.2.0",
       "_model_name": "LayoutModel",
       "_view_count": null,
       "_view_module": "@jupyter-widgets/base",
       "_view_module_version": "1.2.0",
       "_view_name": "LayoutView",
       "align_content": null,
       "align_items": null,
       "align_self": null,
       "border": null,
       "bottom": null,
       "display": null,
       "flex": null,
       "flex_flow": null,
       "grid_area": null,
       "grid_auto_columns": null,
       "grid_auto_flow": null,
       "grid_auto_rows": null,
       "grid_column": null,
       "grid_gap": null,
       "grid_row": null,
       "grid_template_areas": null,
       "grid_template_columns": null,
       "grid_template_rows": null,
       "height": null,
       "justify_content": null,
       "justify_items": null,
       "left": null,
       "margin": null,
       "max_height": null,
       "max_width": null,
       "min_height": null,
       "min_width": null,
       "object_fit": null,
       "object_position": null,
       "order": null,
       "overflow": null,
       "overflow_x": null,
       "overflow_y": null,
       "padding": null,
       "right": null,
       "top": null,
       "visibility": null,
       "width": null
      }
     },
     "edfe744f803a4759b0edf92b97e8c6f6": {
      "model_module": "@jupyter-widgets/controls",
      "model_module_version": "1.5.0",
      "model_name": "DescriptionStyleModel",
      "state": {
       "_model_module": "@jupyter-widgets/controls",
       "_model_module_version": "1.5.0",
       "_model_name": "DescriptionStyleModel",
       "_view_count": null,
       "_view_module": "@jupyter-widgets/base",
       "_view_module_version": "1.2.0",
       "_view_name": "StyleView",
       "description_width": ""
      }
     },
     "f2c1eb9686ff4c79878d49341f3dd235": {
      "model_module": "@jupyter-widgets/controls",
      "model_module_version": "1.5.0",
      "model_name": "HBoxModel",
      "state": {
       "_dom_classes": [],
       "_model_module": "@jupyter-widgets/controls",
       "_model_module_version": "1.5.0",
       "_model_name": "HBoxModel",
       "_view_count": null,
       "_view_module": "@jupyter-widgets/controls",
       "_view_module_version": "1.5.0",
       "_view_name": "HBoxView",
       "box_style": "",
       "children": [
        "IPY_MODEL_a915ddb7d21d45898beb50f05cd3c817",
        "IPY_MODEL_455a0265e8b64a5ca1273bbdaca7a2ff",
        "IPY_MODEL_78b3d1520c7b402f9d31a8cf5eb01b95"
       ],
       "layout": "IPY_MODEL_c9b2ffb0e31f480ca0f90b3408344c11"
      }
     },
     "f63476add5cb45c485bd084c23a86222": {
      "model_module": "@jupyter-widgets/controls",
      "model_module_version": "1.5.0",
      "model_name": "HTMLModel",
      "state": {
       "_dom_classes": [],
       "_model_module": "@jupyter-widgets/controls",
       "_model_module_version": "1.5.0",
       "_model_name": "HTMLModel",
       "_view_count": null,
       "_view_module": "@jupyter-widgets/controls",
       "_view_module_version": "1.5.0",
       "_view_name": "HTMLView",
       "description": "",
       "description_tooltip": null,
       "layout": "IPY_MODEL_d0c099b61cb041389172390c3dabc6b5",
       "placeholder": "​",
       "style": "IPY_MODEL_18b3bf52a47d4690a7b1f182b498c023",
       "value": "Downloading tf_model.h5: 100%"
      }
     }
    },
    "version_major": 2,
    "version_minor": 0
   }
  }
 },
 "nbformat": 4,
 "nbformat_minor": 5
}
