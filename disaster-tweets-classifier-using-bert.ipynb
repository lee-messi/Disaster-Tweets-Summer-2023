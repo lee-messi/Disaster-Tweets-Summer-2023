{
 "cells": [
  {
   "cell_type": "code",
   "execution_count": 1,
   "id": "020d3d75",
   "metadata": {
    "_cell_guid": "b1076dfc-b9ad-4769-8c92-a6c4dae69d19",
    "_uuid": "8f2839f25d086af736a60e9eeb907d3b93b6e0e5",
    "execution": {
     "iopub.execute_input": "2023-07-25T04:07:37.130355Z",
     "iopub.status.busy": "2023-07-25T04:07:37.129968Z",
     "iopub.status.idle": "2023-07-25T04:08:08.764887Z",
     "shell.execute_reply": "2023-07-25T04:08:08.763759Z"
    },
    "papermill": {
     "duration": 31.660203,
     "end_time": "2023-07-25T04:08:08.767786",
     "exception": false,
     "start_time": "2023-07-25T04:07:37.107583",
     "status": "completed"
    },
    "tags": []
   },
   "outputs": [
    {
     "name": "stdout",
     "output_type": "stream",
     "text": [
      "\u001b[33mWARNING: Running pip as the 'root' user can result in broken permissions and conflicting behaviour with the system package manager. It is recommended to use a virtual environment instead: https://pip.pypa.io/warnings/venv\u001b[0m\u001b[33m\r\n",
      "\u001b[0m\r\n",
      "\u001b[1m[\u001b[0m\u001b[34;49mnotice\u001b[0m\u001b[1;39;49m]\u001b[0m\u001b[39;49m A new release of pip is available: \u001b[0m\u001b[31;49m23.0.1\u001b[0m\u001b[39;49m -> \u001b[0m\u001b[32;49m23.2.1\u001b[0m\r\n",
      "\u001b[1m[\u001b[0m\u001b[34;49mnotice\u001b[0m\u001b[1;39;49m]\u001b[0m\u001b[39;49m To update, run: \u001b[0m\u001b[32;49mpip install --upgrade pip\u001b[0m\r\n",
      "\u001b[33mWARNING: Running pip as the 'root' user can result in broken permissions and conflicting behaviour with the system package manager. It is recommended to use a virtual environment instead: https://pip.pypa.io/warnings/venv\u001b[0m\u001b[33m\r\n",
      "\u001b[0m\r\n",
      "\u001b[1m[\u001b[0m\u001b[34;49mnotice\u001b[0m\u001b[1;39;49m]\u001b[0m\u001b[39;49m A new release of pip is available: \u001b[0m\u001b[31;49m23.0.1\u001b[0m\u001b[39;49m -> \u001b[0m\u001b[32;49m23.2.1\u001b[0m\r\n",
      "\u001b[1m[\u001b[0m\u001b[34;49mnotice\u001b[0m\u001b[1;39;49m]\u001b[0m\u001b[39;49m To update, run: \u001b[0m\u001b[32;49mpip install --upgrade pip\u001b[0m\r\n",
      "\u001b[33mWARNING: Running pip as the 'root' user can result in broken permissions and conflicting behaviour with the system package manager. It is recommended to use a virtual environment instead: https://pip.pypa.io/warnings/venv\u001b[0m\u001b[33m\r\n",
      "\u001b[0m\r\n",
      "\u001b[1m[\u001b[0m\u001b[34;49mnotice\u001b[0m\u001b[1;39;49m]\u001b[0m\u001b[39;49m A new release of pip is available: \u001b[0m\u001b[31;49m23.0.1\u001b[0m\u001b[39;49m -> \u001b[0m\u001b[32;49m23.2.1\u001b[0m\r\n",
      "\u001b[1m[\u001b[0m\u001b[34;49mnotice\u001b[0m\u001b[1;39;49m]\u001b[0m\u001b[39;49m To update, run: \u001b[0m\u001b[32;49mpip install --upgrade pip\u001b[0m\r\n",
      "\u001b[33mWARNING: Running pip as the 'root' user can result in broken permissions and conflicting behaviour with the system package manager. It is recommended to use a virtual environment instead: https://pip.pypa.io/warnings/venv\u001b[0m\u001b[33m\r\n",
      "\u001b[0m\r\n",
      "\u001b[1m[\u001b[0m\u001b[34;49mnotice\u001b[0m\u001b[1;39;49m]\u001b[0m\u001b[39;49m A new release of pip is available: \u001b[0m\u001b[31;49m23.0.1\u001b[0m\u001b[39;49m -> \u001b[0m\u001b[32;49m23.2.1\u001b[0m\r\n",
      "\u001b[1m[\u001b[0m\u001b[34;49mnotice\u001b[0m\u001b[1;39;49m]\u001b[0m\u001b[39;49m To update, run: \u001b[0m\u001b[32;49mpip install --upgrade pip\u001b[0m\r\n"
     ]
    }
   ],
   "source": [
    "!pip install tensorflow --quiet\n",
    "!pip install tensorflow-hub --quiet\n",
    "!pip install tensorflow-text --quiet\n",
    "!pip install transformers --quiet"
   ]
  },
  {
   "cell_type": "code",
   "execution_count": 2,
   "id": "7a286f9f",
   "metadata": {
    "execution": {
     "iopub.execute_input": "2023-07-25T04:08:08.806834Z",
     "iopub.status.busy": "2023-07-25T04:08:08.806494Z",
     "iopub.status.idle": "2023-07-25T04:08:52.295843Z",
     "shell.execute_reply": "2023-07-25T04:08:52.294637Z"
    },
    "papermill": {
     "duration": 43.51224,
     "end_time": "2023-07-25T04:08:52.298970",
     "exception": false,
     "start_time": "2023-07-25T04:08:08.786730",
     "status": "completed"
    },
    "tags": []
   },
   "outputs": [
    {
     "name": "stderr",
     "output_type": "stream",
     "text": [
      "D0725 04:08:41.493105931      14 config.cc:119]                        gRPC EXPERIMENT tcp_frame_size_tuning               OFF (default:OFF)\n",
      "D0725 04:08:41.493133062      14 config.cc:119]                        gRPC EXPERIMENT tcp_rcv_lowat                       OFF (default:OFF)\n",
      "D0725 04:08:41.493136738      14 config.cc:119]                        gRPC EXPERIMENT peer_state_based_framing            OFF (default:OFF)\n",
      "D0725 04:08:41.493139682      14 config.cc:119]                        gRPC EXPERIMENT flow_control_fixes                  ON  (default:ON)\n",
      "D0725 04:08:41.493142849      14 config.cc:119]                        gRPC EXPERIMENT memory_pressure_controller          OFF (default:OFF)\n",
      "D0725 04:08:41.493145903      14 config.cc:119]                        gRPC EXPERIMENT unconstrained_max_quota_buffer_size OFF (default:OFF)\n",
      "D0725 04:08:41.493148702      14 config.cc:119]                        gRPC EXPERIMENT new_hpack_huffman_decoder           ON  (default:ON)\n",
      "D0725 04:08:41.493152416      14 config.cc:119]                        gRPC EXPERIMENT event_engine_client                 OFF (default:OFF)\n",
      "D0725 04:08:41.493155134      14 config.cc:119]                        gRPC EXPERIMENT monitoring_experiment               ON  (default:ON)\n",
      "D0725 04:08:41.493157818      14 config.cc:119]                        gRPC EXPERIMENT promise_based_client_call           OFF (default:OFF)\n",
      "D0725 04:08:41.493160418      14 config.cc:119]                        gRPC EXPERIMENT free_large_allocator                OFF (default:OFF)\n",
      "D0725 04:08:41.493163056      14 config.cc:119]                        gRPC EXPERIMENT promise_based_server_call           OFF (default:OFF)\n",
      "D0725 04:08:41.493165714      14 config.cc:119]                        gRPC EXPERIMENT transport_supplies_client_latency   OFF (default:OFF)\n",
      "D0725 04:08:41.493168464      14 config.cc:119]                        gRPC EXPERIMENT event_engine_listener               OFF (default:OFF)\n",
      "I0725 04:08:41.493371193      14 ev_epoll1_linux.cc:122]               grpc epoll fd: 59\n",
      "D0725 04:08:41.493383120      14 ev_posix.cc:144]                      Using polling engine: epoll1\n",
      "D0725 04:08:41.493402686      14 dns_resolver_ares.cc:822]             Using ares dns resolver\n",
      "D0725 04:08:41.493819862      14 lb_policy_registry.cc:46]             registering LB policy factory for \"priority_experimental\"\n",
      "D0725 04:08:41.493831900      14 lb_policy_registry.cc:46]             registering LB policy factory for \"outlier_detection_experimental\"\n",
      "D0725 04:08:41.493835885      14 lb_policy_registry.cc:46]             registering LB policy factory for \"weighted_target_experimental\"\n",
      "D0725 04:08:41.493839330      14 lb_policy_registry.cc:46]             registering LB policy factory for \"pick_first\"\n",
      "D0725 04:08:41.493842700      14 lb_policy_registry.cc:46]             registering LB policy factory for \"round_robin\"\n",
      "D0725 04:08:41.493846112      14 lb_policy_registry.cc:46]             registering LB policy factory for \"weighted_round_robin_experimental\"\n",
      "D0725 04:08:41.493854030      14 lb_policy_registry.cc:46]             registering LB policy factory for \"ring_hash_experimental\"\n",
      "D0725 04:08:41.493871212      14 lb_policy_registry.cc:46]             registering LB policy factory for \"grpclb\"\n",
      "D0725 04:08:41.493899994      14 lb_policy_registry.cc:46]             registering LB policy factory for \"rls_experimental\"\n",
      "D0725 04:08:41.493914315      14 lb_policy_registry.cc:46]             registering LB policy factory for \"xds_cluster_manager_experimental\"\n",
      "D0725 04:08:41.493918450      14 lb_policy_registry.cc:46]             registering LB policy factory for \"xds_cluster_impl_experimental\"\n",
      "D0725 04:08:41.493922151      14 lb_policy_registry.cc:46]             registering LB policy factory for \"cds_experimental\"\n",
      "D0725 04:08:41.493928869      14 lb_policy_registry.cc:46]             registering LB policy factory for \"xds_cluster_resolver_experimental\"\n",
      "D0725 04:08:41.493932620      14 lb_policy_registry.cc:46]             registering LB policy factory for \"xds_override_host_experimental\"\n",
      "D0725 04:08:41.493936188      14 lb_policy_registry.cc:46]             registering LB policy factory for \"xds_wrr_locality_experimental\"\n",
      "D0725 04:08:41.493940662      14 certificate_provider_registry.cc:35]  registering certificate provider factory for \"file_watcher\"\n",
      "I0725 04:08:41.496857026      14 socket_utils_common_posix.cc:408]     Disabling AF_INET6 sockets because ::1 is not available.\n",
      "I0725 04:08:41.515203299     189 socket_utils_common_posix.cc:337]     TCP_USER_TIMEOUT is available. TCP_USER_TIMEOUT will be used thereafter\n",
      "E0725 04:08:41.522226216     189 oauth2_credentials.cc:236]            oauth_fetch: UNKNOWN:C-ares status is not ARES_SUCCESS qtype=A name=metadata.google.internal. is_balancer=0: Domain name not found {grpc_status:2, created_time:\"2023-07-25T04:08:41.522212017+00:00\"}\n"
     ]
    }
   ],
   "source": [
    "import os, re, random\n",
    "import numpy as np\n",
    "import pandas as pd\n",
    "import tensorflow as tf\n",
    "import tensorflow_hub as hub\n",
    "import tensorflow_text as text\n",
    "import matplotlib.pyplot as plt\n",
    "\n",
    "tf.get_logger().setLevel('ERROR')\n",
    "pd.set_option('display.max_colwidth', None)\n",
    "os.environ[\"TFHUB_MODEL_LOAD_FORMAT\"]=\"UNCOMPRESSED\""
   ]
  },
  {
   "cell_type": "markdown",
   "id": "1dbcae55",
   "metadata": {
    "papermill": {
     "duration": 0.019955,
     "end_time": "2023-07-25T04:08:52.338548",
     "exception": false,
     "start_time": "2023-07-25T04:08:52.318593",
     "status": "completed"
    },
    "tags": []
   },
   "source": [
    "## Import Dataset"
   ]
  },
  {
   "cell_type": "code",
   "execution_count": 3,
   "id": "b6774667",
   "metadata": {
    "execution": {
     "iopub.execute_input": "2023-07-25T04:08:52.378016Z",
     "iopub.status.busy": "2023-07-25T04:08:52.377142Z",
     "iopub.status.idle": "2023-07-25T04:08:52.444070Z",
     "shell.execute_reply": "2023-07-25T04:08:52.443233Z"
    },
    "papermill": {
     "duration": 0.089215,
     "end_time": "2023-07-25T04:08:52.446247",
     "exception": false,
     "start_time": "2023-07-25T04:08:52.357032",
     "status": "completed"
    },
    "tags": []
   },
   "outputs": [],
   "source": [
    "train = pd.read_csv(\"/kaggle/input/nlp-getting-started/train.csv\")\n",
    "test = pd.read_csv(\"/kaggle/input/nlp-getting-started/test.csv\")"
   ]
  },
  {
   "cell_type": "code",
   "execution_count": 4,
   "id": "0761d60c",
   "metadata": {
    "execution": {
     "iopub.execute_input": "2023-07-25T04:08:52.485198Z",
     "iopub.status.busy": "2023-07-25T04:08:52.484882Z",
     "iopub.status.idle": "2023-07-25T04:08:52.495328Z",
     "shell.execute_reply": "2023-07-25T04:08:52.494497Z"
    },
    "papermill": {
     "duration": 0.032643,
     "end_time": "2023-07-25T04:08:52.497638",
     "exception": false,
     "start_time": "2023-07-25T04:08:52.464995",
     "status": "completed"
    },
    "tags": []
   },
   "outputs": [
    {
     "data": {
      "text/plain": [
       "Index(['id', 'keyword', 'location', 'text', 'target'], dtype='object')"
      ]
     },
     "execution_count": 4,
     "metadata": {},
     "output_type": "execute_result"
    }
   ],
   "source": [
    "train.columns"
   ]
  },
  {
   "cell_type": "markdown",
   "id": "95ef4971",
   "metadata": {
    "papermill": {
     "duration": 0.018661,
     "end_time": "2023-07-25T04:08:52.535146",
     "exception": false,
     "start_time": "2023-07-25T04:08:52.516485",
     "status": "completed"
    },
    "tags": []
   },
   "source": [
    "## Inspect Dataset for Mislabeled Tweets"
   ]
  },
  {
   "cell_type": "markdown",
   "id": "c7b1ab8f",
   "metadata": {
    "papermill": {
     "duration": 0.020853,
     "end_time": "2023-07-25T04:08:52.575153",
     "exception": false,
     "start_time": "2023-07-25T04:08:52.554300",
     "status": "completed"
    },
    "tags": []
   },
   "source": [
    "In the discussion for this [competition](https://www.kaggle.com/competitions/nlp-getting-started/discussion/157982), I read that there are a lot of mislabeled tweets. Before we train models, let's check for mislabeled tweets and assign appropriate labels to them. As we cannot manually inspect all tweets, we are going to look for duplicate tweets and check that the duplicates have all been assigned the same labels. "
   ]
  },
  {
   "cell_type": "code",
   "execution_count": 5,
   "id": "c0c65bde",
   "metadata": {
    "execution": {
     "iopub.execute_input": "2023-07-25T04:08:52.617112Z",
     "iopub.status.busy": "2023-07-25T04:08:52.616277Z",
     "iopub.status.idle": "2023-07-25T04:08:52.626298Z",
     "shell.execute_reply": "2023-07-25T04:08:52.625385Z"
    },
    "papermill": {
     "duration": 0.033326,
     "end_time": "2023-07-25T04:08:52.628764",
     "exception": false,
     "start_time": "2023-07-25T04:08:52.595438",
     "status": "completed"
    },
    "tags": []
   },
   "outputs": [
    {
     "data": {
      "text/plain": [
       "69"
      ]
     },
     "execution_count": 5,
     "metadata": {},
     "output_type": "execute_result"
    }
   ],
   "source": [
    "duplicates = train[train.duplicated('text')]\n",
    "duplicates.text.nunique()"
   ]
  },
  {
   "cell_type": "markdown",
   "id": "b3baa5b1",
   "metadata": {
    "papermill": {
     "duration": 0.020583,
     "end_time": "2023-07-25T04:08:52.669648",
     "exception": false,
     "start_time": "2023-07-25T04:08:52.649065",
     "status": "completed"
    },
    "tags": []
   },
   "source": [
    "There are **69 duplicate tweets** inside the training dataset. We are going to iterate through these duplicate tweets to see if these duplicate tweets have unmatching labels. Unmatching labels would indicate that the tweet(s) has been mislabeled. We are going to store the index of these \"problematic duplicates\" inside a list and use it to iterate through these tweets so that we can re-assign correct labels after inspecting them."
   ]
  },
  {
   "cell_type": "code",
   "execution_count": 6,
   "id": "07044643",
   "metadata": {
    "execution": {
     "iopub.execute_input": "2023-07-25T04:08:52.709606Z",
     "iopub.status.busy": "2023-07-25T04:08:52.709252Z",
     "iopub.status.idle": "2023-07-25T04:08:52.799897Z",
     "shell.execute_reply": "2023-07-25T04:08:52.799052Z"
    },
    "papermill": {
     "duration": 0.113026,
     "end_time": "2023-07-25T04:08:52.802043",
     "exception": false,
     "start_time": "2023-07-25T04:08:52.689017",
     "status": "completed"
    },
    "tags": []
   },
   "outputs": [
    {
     "name": "stdout",
     "output_type": "stream",
     "text": [
      "[4, 7, 12, 15, 24, 26, 33, 34, 35, 36, 38, 39, 42, 44, 46, 51, 55, 58]\n"
     ]
    }
   ],
   "source": [
    "problematic_duplicates = []\n",
    "\n",
    "for i in range(duplicates.text.nunique()):\n",
    "    duplicate_subset = train[train.text == duplicates.text.unique()[i]]\n",
    "    if len(duplicate_subset) > 1 and duplicate_subset.target.nunique() == 2:\n",
    "        problematic_duplicates.append(i)\n",
    "        \n",
    "print(problematic_duplicates)"
   ]
  },
  {
   "cell_type": "code",
   "execution_count": 7,
   "id": "98790138",
   "metadata": {
    "execution": {
     "iopub.execute_input": "2023-07-25T04:08:52.841728Z",
     "iopub.status.busy": "2023-07-25T04:08:52.841148Z",
     "iopub.status.idle": "2023-07-25T04:08:52.856867Z",
     "shell.execute_reply": "2023-07-25T04:08:52.856153Z"
    },
    "papermill": {
     "duration": 0.037964,
     "end_time": "2023-07-25T04:08:52.859110",
     "exception": false,
     "start_time": "2023-07-25T04:08:52.821146",
     "status": "completed"
    },
    "tags": []
   },
   "outputs": [
    {
     "data": {
      "text/html": [
       "<div>\n",
       "<style scoped>\n",
       "    .dataframe tbody tr th:only-of-type {\n",
       "        vertical-align: middle;\n",
       "    }\n",
       "\n",
       "    .dataframe tbody tr th {\n",
       "        vertical-align: top;\n",
       "    }\n",
       "\n",
       "    .dataframe thead th {\n",
       "        text-align: right;\n",
       "    }\n",
       "</style>\n",
       "<table border=\"1\" class=\"dataframe\">\n",
       "  <thead>\n",
       "    <tr style=\"text-align: right;\">\n",
       "      <th></th>\n",
       "      <th>id</th>\n",
       "      <th>keyword</th>\n",
       "      <th>location</th>\n",
       "      <th>text</th>\n",
       "      <th>target</th>\n",
       "    </tr>\n",
       "  </thead>\n",
       "  <tbody>\n",
       "    <tr>\n",
       "      <th>6614</th>\n",
       "      <td>9470</td>\n",
       "      <td>terrorism</td>\n",
       "      <td>Jeddah_Saudi Arabia.</td>\n",
       "      <td>In #islam saving a person is equal in reward to saving all humans! Islam is the opposite of terrorism!</td>\n",
       "      <td>0</td>\n",
       "    </tr>\n",
       "    <tr>\n",
       "      <th>6616</th>\n",
       "      <td>9472</td>\n",
       "      <td>terrorism</td>\n",
       "      <td>Riyadh</td>\n",
       "      <td>In #islam saving a person is equal in reward to saving all humans! Islam is the opposite of terrorism!</td>\n",
       "      <td>1</td>\n",
       "    </tr>\n",
       "  </tbody>\n",
       "</table>\n",
       "</div>"
      ],
      "text/plain": [
       "        id    keyword              location  \\\n",
       "6614  9470  terrorism  Jeddah_Saudi Arabia.   \n",
       "6616  9472  terrorism                Riyadh   \n",
       "\n",
       "                                                                                                        text  \\\n",
       "6614  In #islam saving a person is equal in reward to saving all humans! Islam is the opposite of terrorism!   \n",
       "6616  In #islam saving a person is equal in reward to saving all humans! Islam is the opposite of terrorism!   \n",
       "\n",
       "      target  \n",
       "6614       0  \n",
       "6616       1  "
      ]
     },
     "execution_count": 7,
     "metadata": {},
     "output_type": "execute_result"
    }
   ],
   "source": [
    "train[train.text == duplicates.text.unique()[58]]"
   ]
  },
  {
   "cell_type": "markdown",
   "id": "9dcb48b0",
   "metadata": {
    "papermill": {
     "duration": 0.018749,
     "end_time": "2023-07-25T04:08:52.896655",
     "exception": false,
     "start_time": "2023-07-25T04:08:52.877906",
     "status": "completed"
    },
    "tags": []
   },
   "source": [
    "Above is the 58th duplicate. We see that these tweets have unmatching labels despite their texts being identical. This tweet is not about an actual disaster, so we are going to correctly assign both tweets as not being about an actual disaster. This is going to look like this: "
   ]
  },
  {
   "cell_type": "code",
   "execution_count": 8,
   "id": "2fe230bb",
   "metadata": {
    "execution": {
     "iopub.execute_input": "2023-07-25T04:08:52.936666Z",
     "iopub.status.busy": "2023-07-25T04:08:52.936047Z",
     "iopub.status.idle": "2023-07-25T04:08:52.951188Z",
     "shell.execute_reply": "2023-07-25T04:08:52.950401Z"
    },
    "papermill": {
     "duration": 0.037684,
     "end_time": "2023-07-25T04:08:52.953356",
     "exception": false,
     "start_time": "2023-07-25T04:08:52.915672",
     "status": "completed"
    },
    "tags": []
   },
   "outputs": [
    {
     "data": {
      "text/html": [
       "<div>\n",
       "<style scoped>\n",
       "    .dataframe tbody tr th:only-of-type {\n",
       "        vertical-align: middle;\n",
       "    }\n",
       "\n",
       "    .dataframe tbody tr th {\n",
       "        vertical-align: top;\n",
       "    }\n",
       "\n",
       "    .dataframe thead th {\n",
       "        text-align: right;\n",
       "    }\n",
       "</style>\n",
       "<table border=\"1\" class=\"dataframe\">\n",
       "  <thead>\n",
       "    <tr style=\"text-align: right;\">\n",
       "      <th></th>\n",
       "      <th>id</th>\n",
       "      <th>keyword</th>\n",
       "      <th>location</th>\n",
       "      <th>text</th>\n",
       "      <th>target</th>\n",
       "    </tr>\n",
       "  </thead>\n",
       "  <tbody>\n",
       "    <tr>\n",
       "      <th>6614</th>\n",
       "      <td>9470</td>\n",
       "      <td>terrorism</td>\n",
       "      <td>Jeddah_Saudi Arabia.</td>\n",
       "      <td>In #islam saving a person is equal in reward to saving all humans! Islam is the opposite of terrorism!</td>\n",
       "      <td>0</td>\n",
       "    </tr>\n",
       "    <tr>\n",
       "      <th>6616</th>\n",
       "      <td>9472</td>\n",
       "      <td>terrorism</td>\n",
       "      <td>Riyadh</td>\n",
       "      <td>In #islam saving a person is equal in reward to saving all humans! Islam is the opposite of terrorism!</td>\n",
       "      <td>0</td>\n",
       "    </tr>\n",
       "  </tbody>\n",
       "</table>\n",
       "</div>"
      ],
      "text/plain": [
       "        id    keyword              location  \\\n",
       "6614  9470  terrorism  Jeddah_Saudi Arabia.   \n",
       "6616  9472  terrorism                Riyadh   \n",
       "\n",
       "                                                                                                        text  \\\n",
       "6614  In #islam saving a person is equal in reward to saving all humans! Islam is the opposite of terrorism!   \n",
       "6616  In #islam saving a person is equal in reward to saving all humans! Islam is the opposite of terrorism!   \n",
       "\n",
       "      target  \n",
       "6614       0  \n",
       "6616       0  "
      ]
     },
     "execution_count": 8,
     "metadata": {},
     "output_type": "execute_result"
    }
   ],
   "source": [
    "train.target = np.where(train.text == duplicates.text.unique()[58], 0, train.target)\n",
    "train[train.text == duplicates.text.unique()[58]]"
   ]
  },
  {
   "cell_type": "markdown",
   "id": "b17cafd0",
   "metadata": {
    "papermill": {
     "duration": 0.019378,
     "end_time": "2023-07-25T04:08:52.992177",
     "exception": false,
     "start_time": "2023-07-25T04:08:52.972799",
     "status": "completed"
    },
    "tags": []
   },
   "source": [
    "Let's repeat this step for all problematic duplicates after having identified the correct labels for each and every one of these problematic duplicates. We are going to store the correct labels inside a list and iterate through the problematic duplicates, assigning the correct labels one after the other."
   ]
  },
  {
   "cell_type": "code",
   "execution_count": 9,
   "id": "30f4af06",
   "metadata": {
    "execution": {
     "iopub.execute_input": "2023-07-25T04:08:53.032315Z",
     "iopub.status.busy": "2023-07-25T04:08:53.032016Z",
     "iopub.status.idle": "2023-07-25T04:08:53.056658Z",
     "shell.execute_reply": "2023-07-25T04:08:53.055895Z"
    },
    "papermill": {
     "duration": 0.047477,
     "end_time": "2023-07-25T04:08:53.059039",
     "exception": false,
     "start_time": "2023-07-25T04:08:53.011562",
     "status": "completed"
    },
    "tags": []
   },
   "outputs": [],
   "source": [
    "target_list = [0,0,0,0,1,0,0,0,1,0,0,0,0,0,1,1,0,0]\n",
    "\n",
    "for problematic_index in range(len(problematic_duplicates)): \n",
    "    train.target = np.where(train.text == duplicates.text.unique()[problematic_index], \n",
    "                            target_list[problematic_index], train.target)"
   ]
  },
  {
   "cell_type": "markdown",
   "id": "43a32016",
   "metadata": {
    "papermill": {
     "duration": 0.018986,
     "end_time": "2023-07-25T04:08:53.097241",
     "exception": false,
     "start_time": "2023-07-25T04:08:53.078255",
     "status": "completed"
    },
    "tags": []
   },
   "source": [
    "## Pre-process the Tweets"
   ]
  },
  {
   "cell_type": "markdown",
   "id": "8655cc4e",
   "metadata": {
    "papermill": {
     "duration": 0.019082,
     "end_time": "2023-07-25T04:08:53.135558",
     "exception": false,
     "start_time": "2023-07-25T04:08:53.116476",
     "status": "completed"
    },
    "tags": []
   },
   "source": [
    "Before we use the tweets to train the model, we are going to perform some basic pre-processing. To identify the appropriate steps, let's look at some of the tweets."
   ]
  },
  {
   "cell_type": "code",
   "execution_count": 10,
   "id": "16ffee9f",
   "metadata": {
    "execution": {
     "iopub.execute_input": "2023-07-25T04:08:53.175507Z",
     "iopub.status.busy": "2023-07-25T04:08:53.175201Z",
     "iopub.status.idle": "2023-07-25T04:08:53.188585Z",
     "shell.execute_reply": "2023-07-25T04:08:53.187661Z"
    },
    "papermill": {
     "duration": 0.036024,
     "end_time": "2023-07-25T04:08:53.190783",
     "exception": false,
     "start_time": "2023-07-25T04:08:53.154759",
     "status": "completed"
    },
    "tags": []
   },
   "outputs": [
    {
     "data": {
      "text/html": [
       "<div>\n",
       "<style scoped>\n",
       "    .dataframe tbody tr th:only-of-type {\n",
       "        vertical-align: middle;\n",
       "    }\n",
       "\n",
       "    .dataframe tbody tr th {\n",
       "        vertical-align: top;\n",
       "    }\n",
       "\n",
       "    .dataframe thead th {\n",
       "        text-align: right;\n",
       "    }\n",
       "</style>\n",
       "<table border=\"1\" class=\"dataframe\">\n",
       "  <thead>\n",
       "    <tr style=\"text-align: right;\">\n",
       "      <th></th>\n",
       "      <th>id</th>\n",
       "      <th>keyword</th>\n",
       "      <th>location</th>\n",
       "      <th>text</th>\n",
       "      <th>target</th>\n",
       "    </tr>\n",
       "  </thead>\n",
       "  <tbody>\n",
       "    <tr>\n",
       "      <th>2353</th>\n",
       "      <td>3388</td>\n",
       "      <td>demolition</td>\n",
       "      <td>New York, USA</td>\n",
       "      <td>@MentalHealthGov like AHHhhh fix the ALEC made state med tort and work comp laws leading to the injustice in our MH https://t.co/qEjEDwsFDG</td>\n",
       "      <td>0</td>\n",
       "    </tr>\n",
       "    <tr>\n",
       "      <th>616</th>\n",
       "      <td>888</td>\n",
       "      <td>bioterrorism</td>\n",
       "      <td>San Francisco, CA</td>\n",
       "      <td>A Tale of Two Pox - Body Horrors http://t.co/W2IXT1k0AB #virus #infectiousdiseases #bioterrorism</td>\n",
       "      <td>1</td>\n",
       "    </tr>\n",
       "    <tr>\n",
       "      <th>6330</th>\n",
       "      <td>9051</td>\n",
       "      <td>structural%20failure</td>\n",
       "      <td>NaN</td>\n",
       "      <td>VIDEO: Virgin Galactic crash: Brakes blamed: Investigators have said a Virgin Galactic spaceship crash was caused by structural failureÛ_</td>\n",
       "      <td>1</td>\n",
       "    </tr>\n",
       "    <tr>\n",
       "      <th>3583</th>\n",
       "      <td>5119</td>\n",
       "      <td>fatal</td>\n",
       "      <td>Nakhon Si Thammarat</td>\n",
       "      <td>Investigators shift focus to cause of fatal Waimate fire http://t.co/c9dVDsSoFn</td>\n",
       "      <td>1</td>\n",
       "    </tr>\n",
       "    <tr>\n",
       "      <th>5052</th>\n",
       "      <td>7201</td>\n",
       "      <td>natural%20disaster</td>\n",
       "      <td>Canada</td>\n",
       "      <td>@Cali74142290 lol natural disaster/hospital crisis something is needed to get rid of some cast members....</td>\n",
       "      <td>1</td>\n",
       "    </tr>\n",
       "  </tbody>\n",
       "</table>\n",
       "</div>"
      ],
      "text/plain": [
       "        id               keyword             location  \\\n",
       "2353  3388            demolition        New York, USA   \n",
       "616    888          bioterrorism    San Francisco, CA   \n",
       "6330  9051  structural%20failure                  NaN   \n",
       "3583  5119                 fatal  Nakhon Si Thammarat   \n",
       "5052  7201    natural%20disaster               Canada   \n",
       "\n",
       "                                                                                                                                             text  \\\n",
       "2353  @MentalHealthGov like AHHhhh fix the ALEC made state med tort and work comp laws leading to the injustice in our MH https://t.co/qEjEDwsFDG   \n",
       "616                                              A Tale of Two Pox - Body Horrors http://t.co/W2IXT1k0AB #virus #infectiousdiseases #bioterrorism   \n",
       "6330   VIDEO: Virgin Galactic crash: Brakes blamed: Investigators have said a Virgin Galactic spaceship crash was caused by structural failureÛ_   \n",
       "3583                                                              Investigators shift focus to cause of fatal Waimate fire http://t.co/c9dVDsSoFn   \n",
       "5052                                   @Cali74142290 lol natural disaster/hospital crisis something is needed to get rid of some cast members....   \n",
       "\n",
       "      target  \n",
       "2353       0  \n",
       "616        1  \n",
       "6330       1  \n",
       "3583       1  \n",
       "5052       1  "
      ]
     },
     "execution_count": 10,
     "metadata": {},
     "output_type": "execute_result"
    }
   ],
   "source": [
    "sample_train = train.sample(frac = 1, random_state = 1048596).head(5)\n",
    "sample_train"
   ]
  },
  {
   "cell_type": "markdown",
   "id": "b4bfabe7",
   "metadata": {
    "papermill": {
     "duration": 0.019574,
     "end_time": "2023-07-25T04:08:53.230159",
     "exception": false,
     "start_time": "2023-07-25T04:08:53.210585",
     "status": "completed"
    },
    "tags": []
   },
   "source": [
    "In the randomly selected tweets above, we see that the tweets contain links (http://...), hashtags (#..), and mentions (@..). We are going to remove links entirely and keep hashtags and mentions in case the words used in hashtags and mentions are useful for correctly classifying the tweets. We are going to define a function that performs the aforementioned pre-processing steps, in addition to lower-casing, removing numbers, removing indications of new lines (\\n), on the data frame and returns a cleaned data frame. "
   ]
  },
  {
   "cell_type": "code",
   "execution_count": 11,
   "id": "005de4c4",
   "metadata": {
    "execution": {
     "iopub.execute_input": "2023-07-25T04:08:53.270971Z",
     "iopub.status.busy": "2023-07-25T04:08:53.270495Z",
     "iopub.status.idle": "2023-07-25T04:08:53.278028Z",
     "shell.execute_reply": "2023-07-25T04:08:53.277155Z"
    },
    "papermill": {
     "duration": 0.030319,
     "end_time": "2023-07-25T04:08:53.280040",
     "exception": false,
     "start_time": "2023-07-25T04:08:53.249721",
     "status": "completed"
    },
    "tags": []
   },
   "outputs": [],
   "source": [
    "def clean_text(dataframe):\n",
    "    dataframe.text = dataframe.text.apply(lambda x: str.lower(x))\n",
    "    dataframe.text = dataframe.text.apply(lambda x: re.sub(r'http\\S+', '', x))\n",
    "    dataframe.text = dataframe.text.apply(lambda x: re.sub(r'#', '', x))\n",
    "    dataframe.text = dataframe.text.apply(lambda x: re.sub(r'@', '', x))\n",
    "    dataframe.text = dataframe.text.apply(lambda x: re.sub(r'\\n', '', x))\n",
    "    dataframe.text = dataframe.text.apply(lambda x: re.sub(r'\\d+', '', x))\n",
    "    return(dataframe)"
   ]
  },
  {
   "cell_type": "code",
   "execution_count": 12,
   "id": "31b3006b",
   "metadata": {
    "execution": {
     "iopub.execute_input": "2023-07-25T04:08:53.320877Z",
     "iopub.status.busy": "2023-07-25T04:08:53.320603Z",
     "iopub.status.idle": "2023-07-25T04:08:53.327781Z",
     "shell.execute_reply": "2023-07-25T04:08:53.326909Z"
    },
    "papermill": {
     "duration": 0.029933,
     "end_time": "2023-07-25T04:08:53.329845",
     "exception": false,
     "start_time": "2023-07-25T04:08:53.299912",
     "status": "completed"
    },
    "tags": []
   },
   "outputs": [],
   "source": [
    "sample_train = clean_text(sample_train)"
   ]
  },
  {
   "cell_type": "code",
   "execution_count": 13,
   "id": "7736ee49",
   "metadata": {
    "execution": {
     "iopub.execute_input": "2023-07-25T04:08:53.370671Z",
     "iopub.status.busy": "2023-07-25T04:08:53.370242Z",
     "iopub.status.idle": "2023-07-25T04:08:53.380837Z",
     "shell.execute_reply": "2023-07-25T04:08:53.380097Z"
    },
    "papermill": {
     "duration": 0.033436,
     "end_time": "2023-07-25T04:08:53.382919",
     "exception": false,
     "start_time": "2023-07-25T04:08:53.349483",
     "status": "completed"
    },
    "tags": []
   },
   "outputs": [
    {
     "data": {
      "text/html": [
       "<div>\n",
       "<style scoped>\n",
       "    .dataframe tbody tr th:only-of-type {\n",
       "        vertical-align: middle;\n",
       "    }\n",
       "\n",
       "    .dataframe tbody tr th {\n",
       "        vertical-align: top;\n",
       "    }\n",
       "\n",
       "    .dataframe thead th {\n",
       "        text-align: right;\n",
       "    }\n",
       "</style>\n",
       "<table border=\"1\" class=\"dataframe\">\n",
       "  <thead>\n",
       "    <tr style=\"text-align: right;\">\n",
       "      <th></th>\n",
       "      <th>id</th>\n",
       "      <th>keyword</th>\n",
       "      <th>location</th>\n",
       "      <th>text</th>\n",
       "      <th>target</th>\n",
       "    </tr>\n",
       "  </thead>\n",
       "  <tbody>\n",
       "    <tr>\n",
       "      <th>2353</th>\n",
       "      <td>3388</td>\n",
       "      <td>demolition</td>\n",
       "      <td>New York, USA</td>\n",
       "      <td>mentalhealthgov like ahhhhh fix the alec made state med tort and work comp laws leading to the injustice in our mh</td>\n",
       "      <td>0</td>\n",
       "    </tr>\n",
       "    <tr>\n",
       "      <th>616</th>\n",
       "      <td>888</td>\n",
       "      <td>bioterrorism</td>\n",
       "      <td>San Francisco, CA</td>\n",
       "      <td>a tale of two pox - body horrors  virus infectiousdiseases bioterrorism</td>\n",
       "      <td>1</td>\n",
       "    </tr>\n",
       "    <tr>\n",
       "      <th>6330</th>\n",
       "      <td>9051</td>\n",
       "      <td>structural%20failure</td>\n",
       "      <td>NaN</td>\n",
       "      <td>video: virgin galactic crash: brakes blamed: investigators have said a virgin galactic spaceship crash was caused by structural failureû_</td>\n",
       "      <td>1</td>\n",
       "    </tr>\n",
       "    <tr>\n",
       "      <th>3583</th>\n",
       "      <td>5119</td>\n",
       "      <td>fatal</td>\n",
       "      <td>Nakhon Si Thammarat</td>\n",
       "      <td>investigators shift focus to cause of fatal waimate fire</td>\n",
       "      <td>1</td>\n",
       "    </tr>\n",
       "    <tr>\n",
       "      <th>5052</th>\n",
       "      <td>7201</td>\n",
       "      <td>natural%20disaster</td>\n",
       "      <td>Canada</td>\n",
       "      <td>cali lol natural disaster/hospital crisis something is needed to get rid of some cast members....</td>\n",
       "      <td>1</td>\n",
       "    </tr>\n",
       "  </tbody>\n",
       "</table>\n",
       "</div>"
      ],
      "text/plain": [
       "        id               keyword             location  \\\n",
       "2353  3388            demolition        New York, USA   \n",
       "616    888          bioterrorism    San Francisco, CA   \n",
       "6330  9051  structural%20failure                  NaN   \n",
       "3583  5119                 fatal  Nakhon Si Thammarat   \n",
       "5052  7201    natural%20disaster               Canada   \n",
       "\n",
       "                                                                                                                                            text  \\\n",
       "2353                         mentalhealthgov like ahhhhh fix the alec made state med tort and work comp laws leading to the injustice in our mh    \n",
       "616                                                                      a tale of two pox - body horrors  virus infectiousdiseases bioterrorism   \n",
       "6330  video: virgin galactic crash: brakes blamed: investigators have said a virgin galactic spaceship crash was caused by structural failureû_   \n",
       "3583                                                                                   investigators shift focus to cause of fatal waimate fire    \n",
       "5052                                           cali lol natural disaster/hospital crisis something is needed to get rid of some cast members....   \n",
       "\n",
       "      target  \n",
       "2353       0  \n",
       "616        1  \n",
       "6330       1  \n",
       "3583       1  \n",
       "5052       1  "
      ]
     },
     "execution_count": 13,
     "metadata": {},
     "output_type": "execute_result"
    }
   ],
   "source": [
    "sample_train"
   ]
  },
  {
   "cell_type": "code",
   "execution_count": 14,
   "id": "d54d0afd",
   "metadata": {
    "execution": {
     "iopub.execute_input": "2023-07-25T04:08:53.424117Z",
     "iopub.status.busy": "2023-07-25T04:08:53.423849Z",
     "iopub.status.idle": "2023-07-25T04:08:53.535965Z",
     "shell.execute_reply": "2023-07-25T04:08:53.535186Z"
    },
    "papermill": {
     "duration": 0.13566,
     "end_time": "2023-07-25T04:08:53.538526",
     "exception": false,
     "start_time": "2023-07-25T04:08:53.402866",
     "status": "completed"
    },
    "tags": []
   },
   "outputs": [],
   "source": [
    "clean_train = clean_text(train)"
   ]
  },
  {
   "cell_type": "markdown",
   "id": "6871ee06",
   "metadata": {
    "papermill": {
     "duration": 0.019571,
     "end_time": "2023-07-25T04:08:53.577720",
     "exception": false,
     "start_time": "2023-07-25T04:08:53.558149",
     "status": "completed"
    },
    "tags": []
   },
   "source": [
    "## Balance the Training Dataset"
   ]
  },
  {
   "cell_type": "code",
   "execution_count": 15,
   "id": "552befac",
   "metadata": {
    "execution": {
     "iopub.execute_input": "2023-07-25T04:08:53.619058Z",
     "iopub.status.busy": "2023-07-25T04:08:53.618708Z",
     "iopub.status.idle": "2023-07-25T04:08:53.626053Z",
     "shell.execute_reply": "2023-07-25T04:08:53.625315Z"
    },
    "papermill": {
     "duration": 0.030949,
     "end_time": "2023-07-25T04:08:53.628306",
     "exception": false,
     "start_time": "2023-07-25T04:08:53.597357",
     "status": "completed"
    },
    "tags": []
   },
   "outputs": [
    {
     "data": {
      "text/plain": [
       "target\n",
       "0    4358\n",
       "1    3255\n",
       "Name: count, dtype: int64"
      ]
     },
     "execution_count": 15,
     "metadata": {},
     "output_type": "execute_result"
    }
   ],
   "source": [
    "clean_train.target.value_counts()"
   ]
  },
  {
   "cell_type": "code",
   "execution_count": 16,
   "id": "2ef894e6",
   "metadata": {
    "execution": {
     "iopub.execute_input": "2023-07-25T04:08:53.669295Z",
     "iopub.status.busy": "2023-07-25T04:08:53.668994Z",
     "iopub.status.idle": "2023-07-25T04:08:53.677087Z",
     "shell.execute_reply": "2023-07-25T04:08:53.676326Z"
    },
    "papermill": {
     "duration": 0.031156,
     "end_time": "2023-07-25T04:08:53.679337",
     "exception": false,
     "start_time": "2023-07-25T04:08:53.648181",
     "status": "completed"
    },
    "tags": []
   },
   "outputs": [],
   "source": [
    "clean_train_balanced = clean_train.groupby('target').sample(3000, random_state = 1048596)"
   ]
  },
  {
   "cell_type": "code",
   "execution_count": 17,
   "id": "c2d8ce02",
   "metadata": {
    "execution": {
     "iopub.execute_input": "2023-07-25T04:08:53.721144Z",
     "iopub.status.busy": "2023-07-25T04:08:53.720325Z",
     "iopub.status.idle": "2023-07-25T04:08:53.727377Z",
     "shell.execute_reply": "2023-07-25T04:08:53.726595Z"
    },
    "papermill": {
     "duration": 0.030437,
     "end_time": "2023-07-25T04:08:53.729631",
     "exception": false,
     "start_time": "2023-07-25T04:08:53.699194",
     "status": "completed"
    },
    "tags": []
   },
   "outputs": [],
   "source": [
    "train_df, val_df = np.split(clean_train_balanced.sample(frac = 1), [int(0.8 * len(clean_train_balanced))])"
   ]
  },
  {
   "cell_type": "code",
   "execution_count": 18,
   "id": "fbe051b2",
   "metadata": {
    "execution": {
     "iopub.execute_input": "2023-07-25T04:08:53.770936Z",
     "iopub.status.busy": "2023-07-25T04:08:53.770634Z",
     "iopub.status.idle": "2023-07-25T04:08:53.775488Z",
     "shell.execute_reply": "2023-07-25T04:08:53.774720Z"
    },
    "papermill": {
     "duration": 0.028186,
     "end_time": "2023-07-25T04:08:53.777785",
     "exception": false,
     "start_time": "2023-07-25T04:08:53.749599",
     "status": "completed"
    },
    "tags": []
   },
   "outputs": [
    {
     "name": "stdout",
     "output_type": "stream",
     "text": [
      "Number of observations inside the training dataset: 4800\n",
      "Number of observations inside the validation dataset: 1200\n"
     ]
    }
   ],
   "source": [
    "print('Number of observations inside the training dataset: {}'.format(len(train_df)))\n",
    "print('Number of observations inside the validation dataset: {}'.format(len(val_df)))"
   ]
  },
  {
   "cell_type": "code",
   "execution_count": 19,
   "id": "1ff509eb",
   "metadata": {
    "execution": {
     "iopub.execute_input": "2023-07-25T04:08:53.819152Z",
     "iopub.status.busy": "2023-07-25T04:08:53.818847Z",
     "iopub.status.idle": "2023-07-25T04:08:56.923512Z",
     "shell.execute_reply": "2023-07-25T04:08:56.922229Z"
    },
    "papermill": {
     "duration": 3.128694,
     "end_time": "2023-07-25T04:08:56.926410",
     "exception": false,
     "start_time": "2023-07-25T04:08:53.797716",
     "status": "completed"
    },
    "tags": []
   },
   "outputs": [],
   "source": [
    "train_dataset = tf.data.Dataset.from_tensor_slices((train_df.text, train_df.target)).shuffle(1000).batch(32)\n",
    "val_dataset = tf.data.Dataset.from_tensor_slices((val_df.text, val_df.target)).shuffle(1000).batch(32)"
   ]
  },
  {
   "cell_type": "markdown",
   "id": "97424f1e",
   "metadata": {
    "papermill": {
     "duration": 0.022226,
     "end_time": "2023-07-25T04:08:56.971993",
     "exception": false,
     "start_time": "2023-07-25T04:08:56.949767",
     "status": "completed"
    },
    "tags": []
   },
   "source": [
    "## Define and Train Model - First Model"
   ]
  },
  {
   "cell_type": "markdown",
   "id": "8094e579",
   "metadata": {
    "papermill": {
     "duration": 0.020753,
     "end_time": "2023-07-25T04:08:57.013986",
     "exception": false,
     "start_time": "2023-07-25T04:08:56.993233",
     "status": "completed"
    },
    "tags": []
   },
   "source": [
    "In our first model, we are going to fine-tune BERT. A tutorial for fine-tuning BERT for text classification can be found in [this tensorflow tutorial page](https://www.tensorflow.org/text/tutorials/classify_text_with_bert). Similar to the model introduced in the tutorial, we are going to use a preprocessing layer, a 'bert-base-uncased' model, a Dropout layer, and two Dense layers. "
   ]
  },
  {
   "cell_type": "code",
   "execution_count": 20,
   "id": "be50204c",
   "metadata": {
    "execution": {
     "iopub.execute_input": "2023-07-25T04:08:57.057217Z",
     "iopub.status.busy": "2023-07-25T04:08:57.056529Z",
     "iopub.status.idle": "2023-07-25T04:08:57.061578Z",
     "shell.execute_reply": "2023-07-25T04:08:57.060531Z"
    },
    "papermill": {
     "duration": 0.029263,
     "end_time": "2023-07-25T04:08:57.063818",
     "exception": false,
     "start_time": "2023-07-25T04:08:57.034555",
     "status": "completed"
    },
    "tags": []
   },
   "outputs": [],
   "source": [
    "tfhub_handle_preprocess = 'https://tfhub.dev/tensorflow/bert_en_uncased_preprocess/3'\n",
    "tfhub_handle_encoder = 'https://tfhub.dev/tensorflow/bert_en_uncased_L-12_H-768_A-12/3'"
   ]
  },
  {
   "cell_type": "code",
   "execution_count": 21,
   "id": "e8ecc98d",
   "metadata": {
    "execution": {
     "iopub.execute_input": "2023-07-25T04:08:57.105119Z",
     "iopub.status.busy": "2023-07-25T04:08:57.104843Z",
     "iopub.status.idle": "2023-07-25T04:09:19.911073Z",
     "shell.execute_reply": "2023-07-25T04:09:19.909895Z"
    },
    "papermill": {
     "duration": 22.830049,
     "end_time": "2023-07-25T04:09:19.913900",
     "exception": false,
     "start_time": "2023-07-25T04:08:57.083851",
     "status": "completed"
    },
    "tags": []
   },
   "outputs": [],
   "source": [
    "bert_preprocess = hub.KerasLayer(tfhub_handle_preprocess)\n",
    "bert_encoder = hub.KerasLayer(tfhub_handle_encoder)"
   ]
  },
  {
   "cell_type": "code",
   "execution_count": 22,
   "id": "89fad2f6",
   "metadata": {
    "execution": {
     "iopub.execute_input": "2023-07-25T04:09:19.956211Z",
     "iopub.status.busy": "2023-07-25T04:09:19.955879Z",
     "iopub.status.idle": "2023-07-25T04:09:20.878781Z",
     "shell.execute_reply": "2023-07-25T04:09:20.877787Z"
    },
    "papermill": {
     "duration": 0.947157,
     "end_time": "2023-07-25T04:09:20.881560",
     "exception": false,
     "start_time": "2023-07-25T04:09:19.934403",
     "status": "completed"
    },
    "tags": []
   },
   "outputs": [],
   "source": [
    "text_input = tf.keras.layers.Input(shape = (), dtype = tf.string)\n",
    "encoder_input = bert_preprocess(text_input)\n",
    "encoder_output = bert_encoder(encoder_input)\n",
    "    \n",
    "l = tf.keras.layers.Dropout(0.3)(encoder_output['pooled_output'])\n",
    "l = tf.keras.layers.Dense(16, activation = 'relu')(l)\n",
    "l = tf.keras.layers.Dense(1, activation = 'sigmoid')(l)\n",
    "    \n",
    "model = tf.keras.Model(inputs=[text_input], outputs = [l])\n",
    "model.compile(optimizer = tf.keras.optimizers.Adam(learning_rate = 0.001),\n",
    "              loss = tf.keras.losses.BinaryCrossentropy(),\n",
    "              metrics = ['accuracy'])"
   ]
  },
  {
   "cell_type": "markdown",
   "id": "139c1b7b",
   "metadata": {
    "papermill": {
     "duration": 0.020261,
     "end_time": "2023-07-25T04:09:20.922303",
     "exception": false,
     "start_time": "2023-07-25T04:09:20.902042",
     "status": "completed"
    },
    "tags": []
   },
   "source": [
    "We are going to introduce a callback so that the model stops training when validation loss stops to improve for two epochs in a row. That way, when the model starts to over-fit and fails to generalize to the validation dataset, we can stop the model from training. "
   ]
  },
  {
   "cell_type": "code",
   "execution_count": 23,
   "id": "64feaade",
   "metadata": {
    "execution": {
     "iopub.execute_input": "2023-07-25T04:09:20.965206Z",
     "iopub.status.busy": "2023-07-25T04:09:20.964445Z",
     "iopub.status.idle": "2023-07-25T04:09:20.970639Z",
     "shell.execute_reply": "2023-07-25T04:09:20.969664Z"
    },
    "papermill": {
     "duration": 0.03004,
     "end_time": "2023-07-25T04:09:20.972738",
     "exception": false,
     "start_time": "2023-07-25T04:09:20.942698",
     "status": "completed"
    },
    "tags": []
   },
   "outputs": [],
   "source": [
    "early_stopping = tf.keras.callbacks.EarlyStopping(monitor = 'val_loss', \n",
    "                                                  patience = 2)\n",
    "\n",
    "model_checkpoint_callback = tf.keras.callbacks.ModelCheckpoint(\n",
    "    filepath = 'model/best_performed_model.ckpt',\n",
    "    save_weights_only = True,\n",
    "    save_best_only = True,\n",
    "    monitor = 'val_loss',\n",
    "    verbose = 1\n",
    ")"
   ]
  },
  {
   "cell_type": "code",
   "execution_count": 24,
   "id": "0d7502a8",
   "metadata": {
    "execution": {
     "iopub.execute_input": "2023-07-25T04:09:21.019172Z",
     "iopub.status.busy": "2023-07-25T04:09:21.018365Z",
     "iopub.status.idle": "2023-07-25T05:31:10.214164Z",
     "shell.execute_reply": "2023-07-25T05:31:10.212935Z"
    },
    "papermill": {
     "duration": 4909.465828,
     "end_time": "2023-07-25T05:31:10.460211",
     "exception": false,
     "start_time": "2023-07-25T04:09:20.994383",
     "status": "completed"
    },
    "tags": []
   },
   "outputs": [
    {
     "name": "stdout",
     "output_type": "stream",
     "text": [
      "Epoch 1/30\n",
      "150/150 [==============================] - ETA: 0s - loss: 0.6558 - accuracy: 0.6148\n",
      "Epoch 1: val_loss improved from inf to 0.61669, saving model to model/best_performed_model.ckpt\n",
      "150/150 [==============================] - 321s 2s/step - loss: 0.6558 - accuracy: 0.6148 - val_loss: 0.6167 - val_accuracy: 0.6642\n",
      "Epoch 2/30\n",
      "150/150 [==============================] - ETA: 0s - loss: 0.6149 - accuracy: 0.6667\n",
      "Epoch 2: val_loss did not improve from 0.61669\n",
      "150/150 [==============================] - 306s 2s/step - loss: 0.6149 - accuracy: 0.6667 - val_loss: 0.6272 - val_accuracy: 0.6417\n",
      "Epoch 3/30\n",
      "150/150 [==============================] - ETA: 0s - loss: 0.5889 - accuracy: 0.6983\n",
      "Epoch 3: val_loss improved from 0.61669 to 0.57403, saving model to model/best_performed_model.ckpt\n",
      "150/150 [==============================] - 305s 2s/step - loss: 0.5889 - accuracy: 0.6983 - val_loss: 0.5740 - val_accuracy: 0.7125\n",
      "Epoch 4/30\n",
      "150/150 [==============================] - ETA: 0s - loss: 0.5849 - accuracy: 0.6994\n",
      "Epoch 4: val_loss did not improve from 0.57403\n",
      "150/150 [==============================] - 304s 2s/step - loss: 0.5849 - accuracy: 0.6994 - val_loss: 0.5788 - val_accuracy: 0.6942\n",
      "Epoch 5/30\n",
      "150/150 [==============================] - ETA: 0s - loss: 0.5678 - accuracy: 0.7090\n",
      "Epoch 5: val_loss improved from 0.57403 to 0.55789, saving model to model/best_performed_model.ckpt\n",
      "150/150 [==============================] - 310s 2s/step - loss: 0.5678 - accuracy: 0.7090 - val_loss: 0.5579 - val_accuracy: 0.7175\n",
      "Epoch 6/30\n",
      "150/150 [==============================] - ETA: 0s - loss: 0.5625 - accuracy: 0.7160\n",
      "Epoch 6: val_loss improved from 0.55789 to 0.55567, saving model to model/best_performed_model.ckpt\n",
      "150/150 [==============================] - 313s 2s/step - loss: 0.5625 - accuracy: 0.7160 - val_loss: 0.5557 - val_accuracy: 0.7183\n",
      "Epoch 7/30\n",
      "150/150 [==============================] - ETA: 0s - loss: 0.5625 - accuracy: 0.7175\n",
      "Epoch 7: val_loss improved from 0.55567 to 0.55276, saving model to model/best_performed_model.ckpt\n",
      "150/150 [==============================] - 310s 2s/step - loss: 0.5625 - accuracy: 0.7175 - val_loss: 0.5528 - val_accuracy: 0.7142\n",
      "Epoch 8/30\n",
      "150/150 [==============================] - ETA: 0s - loss: 0.5584 - accuracy: 0.7177\n",
      "Epoch 8: val_loss improved from 0.55276 to 0.55082, saving model to model/best_performed_model.ckpt\n",
      "150/150 [==============================] - 309s 2s/step - loss: 0.5584 - accuracy: 0.7177 - val_loss: 0.5508 - val_accuracy: 0.7175\n",
      "Epoch 9/30\n",
      "150/150 [==============================] - ETA: 0s - loss: 0.5544 - accuracy: 0.7210\n",
      "Epoch 9: val_loss improved from 0.55082 to 0.54738, saving model to model/best_performed_model.ckpt\n",
      "150/150 [==============================] - 305s 2s/step - loss: 0.5544 - accuracy: 0.7210 - val_loss: 0.5474 - val_accuracy: 0.7158\n",
      "Epoch 10/30\n",
      "150/150 [==============================] - ETA: 0s - loss: 0.5520 - accuracy: 0.7262\n",
      "Epoch 10: val_loss improved from 0.54738 to 0.54578, saving model to model/best_performed_model.ckpt\n",
      "150/150 [==============================] - 305s 2s/step - loss: 0.5520 - accuracy: 0.7262 - val_loss: 0.5458 - val_accuracy: 0.7200\n",
      "Epoch 11/30\n",
      "150/150 [==============================] - ETA: 0s - loss: 0.5548 - accuracy: 0.7202\n",
      "Epoch 11: val_loss did not improve from 0.54578\n",
      "150/150 [==============================] - 299s 2s/step - loss: 0.5548 - accuracy: 0.7202 - val_loss: 0.5588 - val_accuracy: 0.7125\n",
      "Epoch 12/30\n",
      "150/150 [==============================] - ETA: 0s - loss: 0.5484 - accuracy: 0.7252\n",
      "Epoch 12: val_loss improved from 0.54578 to 0.53536, saving model to model/best_performed_model.ckpt\n",
      "150/150 [==============================] - 309s 2s/step - loss: 0.5484 - accuracy: 0.7252 - val_loss: 0.5354 - val_accuracy: 0.7283\n",
      "Epoch 13/30\n",
      "150/150 [==============================] - ETA: 0s - loss: 0.5498 - accuracy: 0.7229\n",
      "Epoch 13: val_loss did not improve from 0.53536\n",
      "150/150 [==============================] - 305s 2s/step - loss: 0.5498 - accuracy: 0.7229 - val_loss: 0.5422 - val_accuracy: 0.7375\n",
      "Epoch 14/30\n",
      "150/150 [==============================] - ETA: 0s - loss: 0.5463 - accuracy: 0.7350\n",
      "Epoch 14: val_loss improved from 0.53536 to 0.53492, saving model to model/best_performed_model.ckpt\n",
      "150/150 [==============================] - 304s 2s/step - loss: 0.5463 - accuracy: 0.7350 - val_loss: 0.5349 - val_accuracy: 0.7275\n",
      "Epoch 15/30\n",
      "150/150 [==============================] - ETA: 0s - loss: 0.5485 - accuracy: 0.7229\n",
      "Epoch 15: val_loss did not improve from 0.53492\n",
      "150/150 [==============================] - 300s 2s/step - loss: 0.5485 - accuracy: 0.7229 - val_loss: 0.5401 - val_accuracy: 0.7400\n",
      "Epoch 16/30\n",
      "150/150 [==============================] - ETA: 0s - loss: 0.5478 - accuracy: 0.7250\n",
      "Epoch 16: val_loss did not improve from 0.53492\n",
      "150/150 [==============================] - 305s 2s/step - loss: 0.5478 - accuracy: 0.7250 - val_loss: 0.5564 - val_accuracy: 0.7175\n"
     ]
    }
   ],
   "source": [
    "history = model.fit(train_dataset,\n",
    "                    validation_data = val_dataset,\n",
    "                    epochs = 30, \n",
    "                    callbacks = [early_stopping, model_checkpoint_callback])"
   ]
  },
  {
   "cell_type": "code",
   "execution_count": 25,
   "id": "bb70c776",
   "metadata": {
    "execution": {
     "iopub.execute_input": "2023-07-25T05:31:10.951314Z",
     "iopub.status.busy": "2023-07-25T05:31:10.950450Z",
     "iopub.status.idle": "2023-07-25T05:31:11.305585Z",
     "shell.execute_reply": "2023-07-25T05:31:11.304658Z"
    },
    "papermill": {
     "duration": 0.60311,
     "end_time": "2023-07-25T05:31:11.307790",
     "exception": false,
     "start_time": "2023-07-25T05:31:10.704680",
     "status": "completed"
    },
    "tags": []
   },
   "outputs": [
    {
     "data": {
      "image/png": "[encoded data removed]",
      "text/plain": [
       "<Figure size 640x480 with 1 Axes>"
      ]
     },
     "metadata": {},
     "output_type": "display_data"
    }
   ],
   "source": [
    "plt.plot(history.history['accuracy'])\n",
    "plt.plot(history.history['val_accuracy'])\n",
    "plt.legend(['training', 'validation'])\n",
    "plt.show()"
   ]
  },
  {
   "cell_type": "markdown",
   "id": "b08957a6",
   "metadata": {
    "papermill": {
     "duration": 0.275624,
     "end_time": "2023-07-25T05:31:11.901432",
     "exception": false,
     "start_time": "2023-07-25T05:31:11.625808",
     "status": "completed"
    },
    "tags": []
   },
   "source": [
    "The plot suggested that the model stopped training before over-fitting on the training data. This first model (BERT model) returned a validation accuracy of .70. "
   ]
  },
  {
   "cell_type": "markdown",
   "id": "4d741d50",
   "metadata": {
    "papermill": {
     "duration": 0.255901,
     "end_time": "2023-07-25T05:31:12.422410",
     "exception": false,
     "start_time": "2023-07-25T05:31:12.166509",
     "status": "completed"
    },
    "tags": []
   },
   "source": [
    "## Define and Train Model - Second Model"
   ]
  },
  {
   "cell_type": "markdown",
   "id": "52978fc5",
   "metadata": {
    "papermill": {
     "duration": 0.243597,
     "end_time": "2023-07-25T05:31:12.909982",
     "exception": false,
     "start_time": "2023-07-25T05:31:12.666385",
     "status": "completed"
    },
    "tags": []
   },
   "source": [
    "In the second model, we are going use a preprocessing layer (the same one as the previous one), a 'Small BERT' model, a Dropout layer, and two Dense layers. The Small BERT is smaller in size and thus more efficient for downstream tasks such as text classification. "
   ]
  },
  {
   "cell_type": "code",
   "execution_count": 26,
   "id": "4cc77f87",
   "metadata": {
    "execution": {
     "iopub.execute_input": "2023-07-25T05:31:13.405885Z",
     "iopub.status.busy": "2023-07-25T05:31:13.405516Z",
     "iopub.status.idle": "2023-07-25T05:31:13.410140Z",
     "shell.execute_reply": "2023-07-25T05:31:13.409077Z"
    },
    "papermill": {
     "duration": 0.258644,
     "end_time": "2023-07-25T05:31:13.412219",
     "exception": false,
     "start_time": "2023-07-25T05:31:13.153575",
     "status": "completed"
    },
    "tags": []
   },
   "outputs": [],
   "source": [
    "tfhub_handle_preprocess = 'https://tfhub.dev/tensorflow/bert_en_uncased_preprocess/3'\n",
    "tfhub_handle_encoder = 'https://tfhub.dev/tensorflow/small_bert/bert_en_uncased_L-2_H-512_A-8/1'"
   ]
  },
  {
   "cell_type": "code",
   "execution_count": 27,
   "id": "bc87bdac",
   "metadata": {
    "execution": {
     "iopub.execute_input": "2023-07-25T05:31:13.901929Z",
     "iopub.status.busy": "2023-07-25T05:31:13.901106Z",
     "iopub.status.idle": "2023-07-25T05:31:21.567779Z",
     "shell.execute_reply": "2023-07-25T05:31:21.566707Z"
    },
    "papermill": {
     "duration": 7.91542,
     "end_time": "2023-07-25T05:31:21.570693",
     "exception": false,
     "start_time": "2023-07-25T05:31:13.655273",
     "status": "completed"
    },
    "tags": []
   },
   "outputs": [],
   "source": [
    "bert_preprocess = hub.KerasLayer(tfhub_handle_preprocess)\n",
    "bert_encoder = hub.KerasLayer(tfhub_handle_encoder)"
   ]
  },
  {
   "cell_type": "code",
   "execution_count": 28,
   "id": "6ed2b986",
   "metadata": {
    "execution": {
     "iopub.execute_input": "2023-07-25T05:31:22.054884Z",
     "iopub.status.busy": "2023-07-25T05:31:22.053839Z",
     "iopub.status.idle": "2023-07-25T05:31:22.204153Z",
     "shell.execute_reply": "2023-07-25T05:31:22.202924Z"
    },
    "papermill": {
     "duration": 0.395308,
     "end_time": "2023-07-25T05:31:22.206705",
     "exception": false,
     "start_time": "2023-07-25T05:31:21.811397",
     "status": "completed"
    },
    "tags": []
   },
   "outputs": [],
   "source": [
    "text_input = tf.keras.layers.Input(shape = (), dtype = tf.string)\n",
    "encoder_input = bert_preprocess(text_input)\n",
    "encoder_output = bert_encoder(encoder_input)\n",
    "\n",
    "l = tf.keras.layers.Dense(32, activation = 'relu')(encoder_output['pooled_output'])\n",
    "l = tf.keras.layers.Dropout(0.3)(l)\n",
    "l = tf.keras.layers.Dense(1, activation = 'sigmoid')(l)\n",
    "\n",
    "model = tf.keras.Model(inputs=[text_input], outputs = [l])"
   ]
  },
  {
   "cell_type": "code",
   "execution_count": 29,
   "id": "7c98b6f3",
   "metadata": {
    "execution": {
     "iopub.execute_input": "2023-07-25T05:31:22.724569Z",
     "iopub.status.busy": "2023-07-25T05:31:22.724188Z",
     "iopub.status.idle": "2023-07-25T05:31:22.736548Z",
     "shell.execute_reply": "2023-07-25T05:31:22.735583Z"
    },
    "papermill": {
     "duration": 0.255383,
     "end_time": "2023-07-25T05:31:22.738859",
     "exception": false,
     "start_time": "2023-07-25T05:31:22.483476",
     "status": "completed"
    },
    "tags": []
   },
   "outputs": [],
   "source": [
    "model.compile(optimizer = tf.keras.optimizers.Adam(learning_rate = 0.001),\n",
    "              loss = tf.keras.losses.BinaryCrossentropy(),\n",
    "              metrics = ['accuracy'])"
   ]
  },
  {
   "cell_type": "code",
   "execution_count": 30,
   "id": "687e0212",
   "metadata": {
    "execution": {
     "iopub.execute_input": "2023-07-25T05:31:23.221960Z",
     "iopub.status.busy": "2023-07-25T05:31:23.221238Z",
     "iopub.status.idle": "2023-07-25T05:35:16.832773Z",
     "shell.execute_reply": "2023-07-25T05:35:16.831531Z"
    },
    "papermill": {
     "duration": 234.244878,
     "end_time": "2023-07-25T05:35:17.223552",
     "exception": false,
     "start_time": "2023-07-25T05:31:22.978674",
     "status": "completed"
    },
    "tags": []
   },
   "outputs": [
    {
     "name": "stdout",
     "output_type": "stream",
     "text": [
      "Epoch 1/30\n",
      "150/150 [==============================] - ETA: 0s - loss: 0.5756 - accuracy: 0.7088\n",
      "Epoch 1: val_loss improved from 0.53492 to 0.50280, saving model to model/best_performed_model.ckpt\n",
      "150/150 [==============================] - 37s 227ms/step - loss: 0.5756 - accuracy: 0.7088 - val_loss: 0.5028 - val_accuracy: 0.7717\n",
      "Epoch 2/30\n",
      "150/150 [==============================] - ETA: 0s - loss: 0.5057 - accuracy: 0.7556\n",
      "Epoch 2: val_loss improved from 0.50280 to 0.50223, saving model to model/best_performed_model.ckpt\n",
      "150/150 [==============================] - 33s 221ms/step - loss: 0.5057 - accuracy: 0.7556 - val_loss: 0.5022 - val_accuracy: 0.7675\n",
      "Epoch 3/30\n",
      "150/150 [==============================] - ETA: 0s - loss: 0.4859 - accuracy: 0.7779\n",
      "Epoch 3: val_loss improved from 0.50223 to 0.48825, saving model to model/best_performed_model.ckpt\n",
      "150/150 [==============================] - 33s 220ms/step - loss: 0.4859 - accuracy: 0.7779 - val_loss: 0.4883 - val_accuracy: 0.7758\n",
      "Epoch 4/30\n",
      "150/150 [==============================] - ETA: 0s - loss: 0.4716 - accuracy: 0.7825\n",
      "Epoch 4: val_loss improved from 0.48825 to 0.48294, saving model to model/best_performed_model.ckpt\n",
      "150/150 [==============================] - 33s 223ms/step - loss: 0.4716 - accuracy: 0.7825 - val_loss: 0.4829 - val_accuracy: 0.7750\n",
      "Epoch 5/30\n",
      "150/150 [==============================] - ETA: 0s - loss: 0.4659 - accuracy: 0.7881\n",
      "Epoch 5: val_loss improved from 0.48294 to 0.48259, saving model to model/best_performed_model.ckpt\n",
      "150/150 [==============================] - 32s 216ms/step - loss: 0.4659 - accuracy: 0.7881 - val_loss: 0.4826 - val_accuracy: 0.7725\n",
      "Epoch 6/30\n",
      "150/150 [==============================] - ETA: 0s - loss: 0.4640 - accuracy: 0.7858\n",
      "Epoch 6: val_loss did not improve from 0.48259\n",
      "150/150 [==============================] - 32s 216ms/step - loss: 0.4640 - accuracy: 0.7858 - val_loss: 0.4838 - val_accuracy: 0.7808\n",
      "Epoch 7/30\n",
      "150/150 [==============================] - ETA: 0s - loss: 0.4615 - accuracy: 0.7869\n",
      "Epoch 7: val_loss did not improve from 0.48259\n",
      "150/150 [==============================] - 32s 214ms/step - loss: 0.4615 - accuracy: 0.7869 - val_loss: 0.4850 - val_accuracy: 0.7775\n"
     ]
    }
   ],
   "source": [
    "history = model.fit(train_dataset,\n",
    "                    validation_data = val_dataset,\n",
    "                    epochs = 30, \n",
    "                    callbacks = [early_stopping, model_checkpoint_callback])"
   ]
  },
  {
   "cell_type": "code",
   "execution_count": 31,
   "id": "f4068c64",
   "metadata": {
    "execution": {
     "iopub.execute_input": "2023-07-25T05:35:17.913578Z",
     "iopub.status.busy": "2023-07-25T05:35:17.912573Z",
     "iopub.status.idle": "2023-07-25T05:35:18.179068Z",
     "shell.execute_reply": "2023-07-25T05:35:18.177789Z"
    },
    "papermill": {
     "duration": 0.620656,
     "end_time": "2023-07-25T05:35:18.181712",
     "exception": false,
     "start_time": "2023-07-25T05:35:17.561056",
     "status": "completed"
    },
    "tags": []
   },
   "outputs": [
    {
     "data": {
      "image/png": "[encoded data removed]",
      "text/plain": [
       "<Figure size 640x480 with 1 Axes>"
      ]
     },
     "metadata": {},
     "output_type": "display_data"
    }
   ],
   "source": [
    "plt.plot(history.history['accuracy'])\n",
    "plt.plot(history.history['val_accuracy'])\n",
    "plt.legend(['training', 'validation'])\n",
    "plt.show()"
   ]
  },
  {
   "cell_type": "markdown",
   "id": "be360627",
   "metadata": {
    "papermill": {
     "duration": 0.348448,
     "end_time": "2023-07-25T05:35:18.875880",
     "exception": false,
     "start_time": "2023-07-25T05:35:18.527432",
     "status": "completed"
    },
    "tags": []
   },
   "source": [
    "The second model returned a validation accuracy of .78. This was a considerable improvement from the first model. The model stopped training although there was no indication of over-fitting, but both training and validation accuracy values were plateauing by the end of the fifth epoch. "
   ]
  },
  {
   "cell_type": "markdown",
   "id": "1e3f8165",
   "metadata": {
    "papermill": {
     "duration": 0.332415,
     "end_time": "2023-07-25T05:35:19.547099",
     "exception": false,
     "start_time": "2023-07-25T05:35:19.214684",
     "status": "completed"
    },
    "tags": []
   },
   "source": [
    "## Define and Train Model - Second Model (2)"
   ]
  },
  {
   "cell_type": "code",
   "execution_count": 32,
   "id": "6e0e5a80",
   "metadata": {
    "execution": {
     "iopub.execute_input": "2023-07-25T05:35:20.221265Z",
     "iopub.status.busy": "2023-07-25T05:35:20.220851Z",
     "iopub.status.idle": "2023-07-25T05:35:20.334401Z",
     "shell.execute_reply": "2023-07-25T05:35:20.333330Z"
    },
    "papermill": {
     "duration": 0.4538,
     "end_time": "2023-07-25T05:35:20.336838",
     "exception": false,
     "start_time": "2023-07-25T05:35:19.883038",
     "status": "completed"
    },
    "tags": []
   },
   "outputs": [],
   "source": [
    "text_input = tf.keras.layers.Input(shape = (), dtype = tf.string)\n",
    "encoder_input = bert_preprocess(text_input)\n",
    "encoder_output = bert_encoder(encoder_input)\n",
    "\n",
    "l = tf.keras.layers.Dense(32, activation = 'relu')(encoder_output['pooled_output'])\n",
    "l = tf.keras.layers.Dropout(0.3)(l)\n",
    "l = tf.keras.layers.Dense(16, activation = 'relu')(l)\n",
    "l = tf.keras.layers.Dropout(0.3)(l)\n",
    "l = tf.keras.layers.Dense(1, activation = 'sigmoid')(l)\n",
    "\n",
    "model = tf.keras.Model(inputs=[text_input], outputs = [l])"
   ]
  },
  {
   "cell_type": "code",
   "execution_count": 33,
   "id": "b193380e",
   "metadata": {
    "execution": {
     "iopub.execute_input": "2023-07-25T05:35:21.064440Z",
     "iopub.status.busy": "2023-07-25T05:35:21.063681Z",
     "iopub.status.idle": "2023-07-25T05:35:21.077075Z",
     "shell.execute_reply": "2023-07-25T05:35:21.075908Z"
    },
    "papermill": {
     "duration": 0.35928,
     "end_time": "2023-07-25T05:35:21.079354",
     "exception": false,
     "start_time": "2023-07-25T05:35:20.720074",
     "status": "completed"
    },
    "tags": []
   },
   "outputs": [],
   "source": [
    "model.compile(optimizer = tf.keras.optimizers.Adam(learning_rate = 0.001),\n",
    "              loss = tf.keras.losses.BinaryCrossentropy(),\n",
    "              metrics = ['accuracy'])"
   ]
  },
  {
   "cell_type": "code",
   "execution_count": 34,
   "id": "f509bd57",
   "metadata": {
    "execution": {
     "iopub.execute_input": "2023-07-25T05:35:21.757878Z",
     "iopub.status.busy": "2023-07-25T05:35:21.757506Z",
     "iopub.status.idle": "2023-07-25T05:40:21.051233Z",
     "shell.execute_reply": "2023-07-25T05:40:21.049974Z"
    },
    "papermill": {
     "duration": 300.125639,
     "end_time": "2023-07-25T05:40:21.546753",
     "exception": false,
     "start_time": "2023-07-25T05:35:21.421114",
     "status": "completed"
    },
    "tags": []
   },
   "outputs": [
    {
     "name": "stdout",
     "output_type": "stream",
     "text": [
      "Epoch 1/30\n",
      "150/150 [==============================] - ETA: 0s - loss: 0.6092 - accuracy: 0.6583\n",
      "Epoch 1: val_loss did not improve from 0.48259\n",
      "150/150 [==============================] - 35s 223ms/step - loss: 0.6092 - accuracy: 0.6583 - val_loss: 0.5396 - val_accuracy: 0.7567\n",
      "Epoch 2/30\n",
      "150/150 [==============================] - ETA: 0s - loss: 0.5387 - accuracy: 0.7412\n",
      "Epoch 2: val_loss did not improve from 0.48259\n",
      "150/150 [==============================] - 33s 220ms/step - loss: 0.5387 - accuracy: 0.7412 - val_loss: 0.5020 - val_accuracy: 0.7683\n",
      "Epoch 3/30\n",
      "150/150 [==============================] - ETA: 0s - loss: 0.5093 - accuracy: 0.7598\n",
      "Epoch 3: val_loss did not improve from 0.48259\n",
      "150/150 [==============================] - 33s 219ms/step - loss: 0.5093 - accuracy: 0.7598 - val_loss: 0.4959 - val_accuracy: 0.7708\n",
      "Epoch 4/30\n",
      "150/150 [==============================] - ETA: 0s - loss: 0.4994 - accuracy: 0.7710\n",
      "Epoch 4: val_loss did not improve from 0.48259\n",
      "150/150 [==============================] - 34s 225ms/step - loss: 0.4994 - accuracy: 0.7710 - val_loss: 0.5020 - val_accuracy: 0.7725\n",
      "Epoch 5/30\n",
      "150/150 [==============================] - ETA: 0s - loss: 0.4924 - accuracy: 0.7738\n",
      "Epoch 5: val_loss did not improve from 0.48259\n",
      "150/150 [==============================] - 33s 221ms/step - loss: 0.4924 - accuracy: 0.7738 - val_loss: 0.4930 - val_accuracy: 0.7642\n",
      "Epoch 6/30\n",
      "150/150 [==============================] - ETA: 0s - loss: 0.4874 - accuracy: 0.7773\n",
      "Epoch 6: val_loss did not improve from 0.48259\n",
      "150/150 [==============================] - 33s 220ms/step - loss: 0.4874 - accuracy: 0.7773 - val_loss: 0.4880 - val_accuracy: 0.7650\n",
      "Epoch 7/30\n",
      "150/150 [==============================] - ETA: 0s - loss: 0.4757 - accuracy: 0.7831\n",
      "Epoch 7: val_loss did not improve from 0.48259\n",
      "150/150 [==============================] - 33s 220ms/step - loss: 0.4757 - accuracy: 0.7831 - val_loss: 0.4873 - val_accuracy: 0.7725\n",
      "Epoch 8/30\n",
      "150/150 [==============================] - ETA: 0s - loss: 0.4748 - accuracy: 0.7892\n",
      "Epoch 8: val_loss did not improve from 0.48259\n",
      "150/150 [==============================] - 33s 218ms/step - loss: 0.4748 - accuracy: 0.7892 - val_loss: 0.4943 - val_accuracy: 0.7667\n",
      "Epoch 9/30\n",
      "150/150 [==============================] - ETA: 0s - loss: 0.4662 - accuracy: 0.7898\n",
      "Epoch 9: val_loss did not improve from 0.48259\n",
      "150/150 [==============================] - 33s 220ms/step - loss: 0.4662 - accuracy: 0.7898 - val_loss: 0.4885 - val_accuracy: 0.7658\n"
     ]
    }
   ],
   "source": [
    "history = model.fit(train_dataset,\n",
    "                    validation_data = val_dataset,\n",
    "                    epochs = 30, \n",
    "                    callbacks = [early_stopping, model_checkpoint_callback])"
   ]
  },
  {
   "cell_type": "code",
   "execution_count": 35,
   "id": "834514f4",
   "metadata": {
    "execution": {
     "iopub.execute_input": "2023-07-25T05:40:22.556968Z",
     "iopub.status.busy": "2023-07-25T05:40:22.556559Z",
     "iopub.status.idle": "2023-07-25T05:40:22.867580Z",
     "shell.execute_reply": "2023-07-25T05:40:22.866505Z"
    },
    "papermill": {
     "duration": 0.77825,
     "end_time": "2023-07-25T05:40:22.869975",
     "exception": false,
     "start_time": "2023-07-25T05:40:22.091725",
     "status": "completed"
    },
    "tags": []
   },
   "outputs": [
    {
     "data": {
      "image/png": "[encoded data removed]",
      "text/plain": [
       "<Figure size 640x480 with 1 Axes>"
      ]
     },
     "metadata": {},
     "output_type": "display_data"
    }
   ],
   "source": [
    "plt.plot(history.history['accuracy'])\n",
    "plt.plot(history.history['val_accuracy'])\n",
    "plt.legend(['training', 'validation'])\n",
    "plt.show()"
   ]
  },
  {
   "cell_type": "markdown",
   "id": "c37eb8a0",
   "metadata": {
    "papermill": {
     "duration": 0.463214,
     "end_time": "2023-07-25T05:40:23.804240",
     "exception": false,
     "start_time": "2023-07-25T05:40:23.341026",
     "status": "completed"
    },
    "tags": []
   },
   "source": [
    "The updated model returned a validation accuracy of .76. This was a regression in model performance from the previous one, and validation accuracy started to decrease from the second epoch while training accuracy continued to increase. This is indication that the model started over-fitting since the second epoch. Adding complexity was not the right way to go. "
   ]
  },
  {
   "cell_type": "markdown",
   "id": "b94a25d5",
   "metadata": {
    "papermill": {
     "duration": 0.459886,
     "end_time": "2023-07-25T05:40:24.729192",
     "exception": false,
     "start_time": "2023-07-25T05:40:24.269306",
     "status": "completed"
    },
    "tags": []
   },
   "source": [
    "## Define and Train Model - Third Model"
   ]
  },
  {
   "cell_type": "markdown",
   "id": "83b7a32d",
   "metadata": {
    "papermill": {
     "duration": 0.461909,
     "end_time": "2023-07-25T05:40:25.710600",
     "exception": false,
     "start_time": "2023-07-25T05:40:25.248691",
     "status": "completed"
    },
    "tags": []
   },
   "source": [
    "As the second model using the 'Small BERT' model performed considerably better than the first model using the 'bert-based-uncased' model, we are going to continue using the 'Small BERT' model for the new models that follow. This time, we are going to feed the sequential output of the BERT layer into Bidirectional LSTMs instead of immediately feeding the BERT embeddings to a Dense layer as we did in the first two models. "
   ]
  },
  {
   "cell_type": "code",
   "execution_count": 36,
   "id": "61f245b3",
   "metadata": {
    "execution": {
     "iopub.execute_input": "2023-07-25T05:40:26.640443Z",
     "iopub.status.busy": "2023-07-25T05:40:26.640040Z",
     "iopub.status.idle": "2023-07-25T05:40:27.371519Z",
     "shell.execute_reply": "2023-07-25T05:40:27.370510Z"
    },
    "papermill": {
     "duration": 1.198071,
     "end_time": "2023-07-25T05:40:27.374423",
     "exception": false,
     "start_time": "2023-07-25T05:40:26.176352",
     "status": "completed"
    },
    "tags": []
   },
   "outputs": [],
   "source": [
    "text_input = tf.keras.layers.Input(shape = (), dtype = tf.string)\n",
    "encoder_input = bert_preprocess(text_input)\n",
    "encoder_output = bert_encoder(encoder_input)\n",
    "\n",
    "l = tf.keras.layers.Dense(200, activation = 'relu')(encoder_output['sequence_output'])\n",
    "l = tf.keras.layers.Bidirectional(tf.keras.layers.LSTM(200, return_sequences = False, dropout = 0.3))(l)\n",
    "l = tf.keras.layers.Dense(50, activation = 'relu')(l)\n",
    "l = tf.keras.layers.Dropout(0.3)(l)\n",
    "l = tf.keras.layers.Dense(1, activation = 'sigmoid')(l)\n",
    "\n",
    "model = tf.keras.Model(inputs=[text_input], outputs = [l])"
   ]
  },
  {
   "cell_type": "code",
   "execution_count": 37,
   "id": "943e01f8",
   "metadata": {
    "execution": {
     "iopub.execute_input": "2023-07-25T05:40:28.421600Z",
     "iopub.status.busy": "2023-07-25T05:40:28.421219Z",
     "iopub.status.idle": "2023-07-25T05:40:28.434214Z",
     "shell.execute_reply": "2023-07-25T05:40:28.433175Z"
    },
    "papermill": {
     "duration": 0.488678,
     "end_time": "2023-07-25T05:40:28.436405",
     "exception": false,
     "start_time": "2023-07-25T05:40:27.947727",
     "status": "completed"
    },
    "tags": []
   },
   "outputs": [],
   "source": [
    "model.compile(optimizer = tf.keras.optimizers.Adam(learning_rate = 0.001),\n",
    "              loss = tf.keras.losses.BinaryCrossentropy(),\n",
    "              metrics = ['accuracy'])"
   ]
  },
  {
   "cell_type": "code",
   "execution_count": 38,
   "id": "81243c77",
   "metadata": {
    "execution": {
     "iopub.execute_input": "2023-07-25T05:40:29.371122Z",
     "iopub.status.busy": "2023-07-25T05:40:29.370286Z",
     "iopub.status.idle": "2023-07-25T05:46:20.544125Z",
     "shell.execute_reply": "2023-07-25T05:46:20.542718Z"
    },
    "papermill": {
     "duration": 352.1758,
     "end_time": "2023-07-25T05:46:21.080978",
     "exception": false,
     "start_time": "2023-07-25T05:40:28.905178",
     "status": "completed"
    },
    "tags": []
   },
   "outputs": [
    {
     "name": "stdout",
     "output_type": "stream",
     "text": [
      "Epoch 1/30\n",
      "150/150 [==============================] - ETA: 0s - loss: 0.5038 - accuracy: 0.7583\n",
      "Epoch 1: val_loss improved from 0.48259 to 0.47462, saving model to model/best_performed_model.ckpt\n",
      "150/150 [==============================] - 75s 470ms/step - loss: 0.5038 - accuracy: 0.7583 - val_loss: 0.4746 - val_accuracy: 0.7733\n",
      "Epoch 2/30\n",
      "150/150 [==============================] - ETA: 0s - loss: 0.4462 - accuracy: 0.7973\n",
      "Epoch 2: val_loss improved from 0.47462 to 0.47207, saving model to model/best_performed_model.ckpt\n",
      "150/150 [==============================] - 70s 464ms/step - loss: 0.4462 - accuracy: 0.7973 - val_loss: 0.4721 - val_accuracy: 0.7800\n",
      "Epoch 3/30\n",
      "150/150 [==============================] - ETA: 0s - loss: 0.4158 - accuracy: 0.8144\n",
      "Epoch 3: val_loss improved from 0.47207 to 0.46591, saving model to model/best_performed_model.ckpt\n",
      "150/150 [==============================] - 69s 464ms/step - loss: 0.4158 - accuracy: 0.8144 - val_loss: 0.4659 - val_accuracy: 0.7875\n",
      "Epoch 4/30\n",
      "150/150 [==============================] - ETA: 0s - loss: 0.3880 - accuracy: 0.8269\n",
      "Epoch 4: val_loss did not improve from 0.46591\n",
      "150/150 [==============================] - 68s 455ms/step - loss: 0.3880 - accuracy: 0.8269 - val_loss: 0.4948 - val_accuracy: 0.7733\n",
      "Epoch 5/30\n",
      "150/150 [==============================] - ETA: 0s - loss: 0.3334 - accuracy: 0.8521\n",
      "Epoch 5: val_loss did not improve from 0.46591\n",
      "150/150 [==============================] - 69s 459ms/step - loss: 0.3334 - accuracy: 0.8521 - val_loss: 0.5016 - val_accuracy: 0.7925\n"
     ]
    }
   ],
   "source": [
    "history = model.fit(train_dataset,\n",
    "                    validation_data = val_dataset,\n",
    "                    epochs = 30, \n",
    "                    callbacks = [early_stopping, model_checkpoint_callback])"
   ]
  },
  {
   "cell_type": "code",
   "execution_count": 39,
   "id": "f26fed87",
   "metadata": {
    "execution": {
     "iopub.execute_input": "2023-07-25T05:46:22.215769Z",
     "iopub.status.busy": "2023-07-25T05:46:22.215354Z",
     "iopub.status.idle": "2023-07-25T05:46:22.453252Z",
     "shell.execute_reply": "2023-07-25T05:46:22.452111Z"
    },
    "papermill": {
     "duration": 0.800945,
     "end_time": "2023-07-25T05:46:22.455633",
     "exception": false,
     "start_time": "2023-07-25T05:46:21.654688",
     "status": "completed"
    },
    "tags": []
   },
   "outputs": [
    {
     "data": {
      "image/png": "[encoded data removed]",
      "text/plain": [
       "<Figure size 640x480 with 1 Axes>"
      ]
     },
     "metadata": {},
     "output_type": "display_data"
    }
   ],
   "source": [
    "plt.plot(history.history['accuracy'])\n",
    "plt.plot(history.history['val_accuracy'])\n",
    "plt.legend(['training', 'validation'])\n",
    "plt.show()"
   ]
  },
  {
   "cell_type": "markdown",
   "id": "4f7b1e19",
   "metadata": {
    "papermill": {
     "duration": 0.543042,
     "end_time": "2023-07-25T05:46:23.539302",
     "exception": false,
     "start_time": "2023-07-25T05:46:22.996260",
     "status": "completed"
    },
    "tags": []
   },
   "source": [
    "The third model returned a validation accuracy of .78. This was a considerable improvement from the first model but not from the second model. We are going to resume working on this task in a new notebook. "
   ]
  },
  {
   "cell_type": "markdown",
   "id": "0363214e",
   "metadata": {
    "papermill": {
     "duration": 0.574383,
     "end_time": "2023-07-25T05:46:24.648415",
     "exception": false,
     "start_time": "2023-07-25T05:46:24.074032",
     "status": "completed"
    },
    "tags": []
   },
   "source": [
    "## Prepare for Submission"
   ]
  },
  {
   "cell_type": "code",
   "execution_count": 40,
   "id": "abccf801",
   "metadata": {
    "execution": {
     "iopub.execute_input": "2023-07-25T05:46:25.783430Z",
     "iopub.status.busy": "2023-07-25T05:46:25.782676Z",
     "iopub.status.idle": "2023-07-25T05:46:25.844852Z",
     "shell.execute_reply": "2023-07-25T05:46:25.843613Z"
    },
    "papermill": {
     "duration": 0.648896,
     "end_time": "2023-07-25T05:46:25.848252",
     "exception": false,
     "start_time": "2023-07-25T05:46:25.199356",
     "status": "completed"
    },
    "tags": []
   },
   "outputs": [],
   "source": [
    "cleaned_test = clean_text(test)"
   ]
  },
  {
   "cell_type": "code",
   "execution_count": 41,
   "id": "53161205",
   "metadata": {
    "execution": {
     "iopub.execute_input": "2023-07-25T05:46:26.995767Z",
     "iopub.status.busy": "2023-07-25T05:46:26.995142Z",
     "iopub.status.idle": "2023-07-25T05:46:53.935620Z",
     "shell.execute_reply": "2023-07-25T05:46:53.934403Z"
    },
    "papermill": {
     "duration": 27.525782,
     "end_time": "2023-07-25T05:46:53.938507",
     "exception": false,
     "start_time": "2023-07-25T05:46:26.412725",
     "status": "completed"
    },
    "tags": []
   },
   "outputs": [
    {
     "name": "stdout",
     "output_type": "stream",
     "text": [
      "102/102 [==============================] - 27s 251ms/step\n"
     ]
    }
   ],
   "source": [
    "predictions = model.predict(cleaned_test.text)\n",
    "pred_list = [np.mean(x) for x in predictions]"
   ]
  },
  {
   "cell_type": "code",
   "execution_count": 42,
   "id": "a87bdafd",
   "metadata": {
    "execution": {
     "iopub.execute_input": "2023-07-25T05:46:55.045064Z",
     "iopub.status.busy": "2023-07-25T05:46:55.044571Z",
     "iopub.status.idle": "2023-07-25T05:46:55.058588Z",
     "shell.execute_reply": "2023-07-25T05:46:55.057649Z"
    },
    "papermill": {
     "duration": 0.560196,
     "end_time": "2023-07-25T05:46:55.060930",
     "exception": false,
     "start_time": "2023-07-25T05:46:54.500734",
     "status": "completed"
    },
    "tags": []
   },
   "outputs": [],
   "source": [
    "final_predictions = [(x > 0.5).astype(int) for x in pred_list]"
   ]
  },
  {
   "cell_type": "code",
   "execution_count": 43,
   "id": "6ccec85c",
   "metadata": {
    "execution": {
     "iopub.execute_input": "2023-07-25T05:46:56.186949Z",
     "iopub.status.busy": "2023-07-25T05:46:56.186573Z",
     "iopub.status.idle": "2023-07-25T05:46:56.203146Z",
     "shell.execute_reply": "2023-07-25T05:46:56.202141Z"
    },
    "papermill": {
     "duration": 0.606643,
     "end_time": "2023-07-25T05:46:56.205246",
     "exception": false,
     "start_time": "2023-07-25T05:46:55.598603",
     "status": "completed"
    },
    "tags": []
   },
   "outputs": [],
   "source": [
    "predictions_df = pd.DataFrame(list(zip(test.id, final_predictions)),\n",
    "                              columns = ['id', 'target'])"
   ]
  },
  {
   "cell_type": "code",
   "execution_count": 44,
   "id": "beb04921",
   "metadata": {
    "execution": {
     "iopub.execute_input": "2023-07-25T05:46:57.291300Z",
     "iopub.status.busy": "2023-07-25T05:46:57.290902Z",
     "iopub.status.idle": "2023-07-25T05:46:57.303736Z",
     "shell.execute_reply": "2023-07-25T05:46:57.302762Z"
    },
    "papermill": {
     "duration": 0.558123,
     "end_time": "2023-07-25T05:46:57.305891",
     "exception": false,
     "start_time": "2023-07-25T05:46:56.747768",
     "status": "completed"
    },
    "tags": []
   },
   "outputs": [],
   "source": [
    "predictions_df.to_csv('predictions.csv', index = False)"
   ]
  }
 ],
 "metadata": {
  "kernelspec": {
   "display_name": "Python 3",
   "language": "python",
   "name": "python3"
  },
  "language_info": {
   "codemirror_mode": {
    "name": "ipython",
    "version": 3
   },
   "file_extension": ".py",
   "mimetype": "text/x-python",
   "name": "python",
   "nbconvert_exporter": "python",
   "pygments_lexer": "ipython3",
   "version": "3.8.17"
  },
  "papermill": {
   "default_parameters": {},
   "duration": 5970.357953,
   "end_time": "2023-07-25T05:47:04.694787",
   "environment_variables": {},
   "exception": null,
   "input_path": "__notebook__.ipynb",
   "output_path": "__notebook__.ipynb",
   "parameters": {},
   "start_time": "2023-07-25T04:07:34.336834",
   "version": "2.4.0"
  }
 },
 "nbformat": 4,
 "nbformat_minor": 5
}
