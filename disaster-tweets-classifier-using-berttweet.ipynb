{
 "cells": [
  {
   "cell_type": "code",
   "execution_count": 1,
   "id": "3cc41df0",
   "metadata": {
    "_cell_guid": "b1076dfc-b9ad-4769-8c92-a6c4dae69d19",
    "_uuid": "8f2839f25d086af736a60e9eeb907d3b93b6e0e5",
    "execution": {
     "iopub.execute_input": "2023-07-27T00:32:22.317408Z",
     "iopub.status.busy": "2023-07-27T00:32:22.316966Z",
     "iopub.status.idle": "2023-07-27T00:33:09.599959Z",
     "shell.execute_reply": "2023-07-27T00:33:09.598687Z"
    },
    "papermill": {
     "duration": 47.29401,
     "end_time": "2023-07-27T00:33:09.602557",
     "exception": false,
     "start_time": "2023-07-27T00:32:22.308547",
     "status": "completed"
    },
    "tags": []
   },
   "outputs": [],
   "source": [
    "!pip install tensorflow --quiet\n",
    "!pip install tensorflow-hub --quiet\n",
    "!pip install tensorflow-text --quiet\n",
    "!pip install transformers --quiet"
   ]
  },
  {
   "cell_type": "code",
   "execution_count": 2,
   "id": "630bbdf6",
   "metadata": {
    "execution": {
     "iopub.execute_input": "2023-07-27T00:33:09.618058Z",
     "iopub.status.busy": "2023-07-27T00:33:09.616388Z",
     "iopub.status.idle": "2023-07-27T00:33:23.685770Z",
     "shell.execute_reply": "2023-07-27T00:33:23.684808Z"
    },
    "papermill": {
     "duration": 14.079122,
     "end_time": "2023-07-27T00:33:23.688262",
     "exception": false,
     "start_time": "2023-07-27T00:33:09.609140",
     "status": "completed"
    },
    "tags": []
   },
   "outputs": [
    {
     "name": "stderr",
     "output_type": "stream",
     "text": [
      "/opt/conda/lib/python3.10/site-packages/scipy/__init__.py:146: UserWarning: A NumPy version >=1.16.5 and <1.23.0 is required for this version of SciPy (detected version 1.23.5\n",
      "  warnings.warn(f\"A NumPy version >={np_minversion} and <{np_maxversion}\"\n",
      "/opt/conda/lib/python3.10/site-packages/tensorflow_io/python/ops/__init__.py:98: UserWarning: unable to load libtensorflow_io_plugins.so: unable to open file: libtensorflow_io_plugins.so, from paths: ['/opt/conda/lib/python3.10/site-packages/tensorflow_io/python/ops/libtensorflow_io_plugins.so']\n",
      "caused by: ['/opt/conda/lib/python3.10/site-packages/tensorflow_io/python/ops/libtensorflow_io_plugins.so: undefined symbol: _ZN3tsl6StatusC1EN10tensorflow5error4CodeESt17basic_string_viewIcSt11char_traitsIcEENS_14SourceLocationE']\n",
      "  warnings.warn(f\"unable to load libtensorflow_io_plugins.so: {e}\")\n",
      "/opt/conda/lib/python3.10/site-packages/tensorflow_io/python/ops/__init__.py:104: UserWarning: file system plugins are not loaded: unable to open file: libtensorflow_io.so, from paths: ['/opt/conda/lib/python3.10/site-packages/tensorflow_io/python/ops/libtensorflow_io.so']\n",
      "caused by: ['/opt/conda/lib/python3.10/site-packages/tensorflow_io/python/ops/libtensorflow_io.so: undefined symbol: _ZTVN10tensorflow13GcsFileSystemE']\n",
      "  warnings.warn(f\"file system plugins are not loaded: {e}\")\n",
      "/opt/conda/lib/python3.10/site-packages/tensorflow_addons/utils/tfa_eol_msg.py:23: UserWarning: \n",
      "\n",
      "TensorFlow Addons (TFA) has ended development and introduction of new features.\n",
      "TFA has entered a minimal maintenance and release mode until a planned end of life in May 2024.\n",
      "Please modify downstream libraries to take dependencies from other repositories in our TensorFlow community (e.g. Keras, Keras-CV, and Keras-NLP). \n",
      "\n",
      "For more information see: https://github.com/tensorflow/addons/issues/2807 \n",
      "\n",
      "  warnings.warn(\n"
     ]
    }
   ],
   "source": [
    "import os, re, random\n",
    "import numpy as np\n",
    "import pandas as pd\n",
    "import tensorflow as tf\n",
    "import tensorflow_hub as hub\n",
    "import tensorflow_text as text\n",
    "import tensorflow_addons as tfa\n",
    "import matplotlib.pyplot as plt\n",
    "from sklearn.model_selection import train_test_split\n",
    "from transformers import AutoTokenizer,TFRobertaModel\n",
    "\n",
    "tf.get_logger().setLevel('ERROR')\n",
    "pd.set_option('display.max_colwidth', None)\n",
    "os.environ[\"TFHUB_MODEL_LOAD_FORMAT\"]=\"UNCOMPRESSED\""
   ]
  },
  {
   "cell_type": "code",
   "execution_count": 3,
   "id": "16e3471e",
   "metadata": {
    "execution": {
     "iopub.execute_input": "2023-07-27T00:33:23.702828Z",
     "iopub.status.busy": "2023-07-27T00:33:23.702214Z",
     "iopub.status.idle": "2023-07-27T00:33:23.764121Z",
     "shell.execute_reply": "2023-07-27T00:33:23.763193Z"
    },
    "papermill": {
     "duration": 0.071761,
     "end_time": "2023-07-27T00:33:23.766566",
     "exception": false,
     "start_time": "2023-07-27T00:33:23.694805",
     "status": "completed"
    },
    "tags": []
   },
   "outputs": [],
   "source": [
    "train = pd.read_csv(\"/kaggle/input/nlp-getting-started/train.csv\")\n",
    "test = pd.read_csv(\"/kaggle/input/nlp-getting-started/test.csv\")"
   ]
  },
  {
   "cell_type": "markdown",
   "id": "eff8ee2f",
   "metadata": {
    "papermill": {
     "duration": 0.006451,
     "end_time": "2023-07-27T00:33:23.779498",
     "exception": false,
     "start_time": "2023-07-27T00:33:23.773047",
     "status": "completed"
    },
    "tags": []
   },
   "source": [
    "## Preprocess the Dataset"
   ]
  },
  {
   "cell_type": "markdown",
   "id": "257e98ee",
   "metadata": {
    "papermill": {
     "duration": 0.006076,
     "end_time": "2023-07-27T00:33:23.791735",
     "exception": false,
     "start_time": "2023-07-27T00:33:23.785659",
     "status": "completed"
    },
    "tags": []
   },
   "source": [
    "Here, we are going to use the same set of pre-processing steps we used in [one of the previous notebooks](https://www.kaggle.com/code/l048596/disaster-tweets-classifier-using-bert). You can find a detailed explanation of the steps in the link."
   ]
  },
  {
   "cell_type": "code",
   "execution_count": 4,
   "id": "9be5462b",
   "metadata": {
    "execution": {
     "iopub.execute_input": "2023-07-27T00:33:23.805440Z",
     "iopub.status.busy": "2023-07-27T00:33:23.805143Z",
     "iopub.status.idle": "2023-07-27T00:33:23.937933Z",
     "shell.execute_reply": "2023-07-27T00:33:23.936845Z"
    },
    "papermill": {
     "duration": 0.142348,
     "end_time": "2023-07-27T00:33:23.940188",
     "exception": false,
     "start_time": "2023-07-27T00:33:23.797840",
     "status": "completed"
    },
    "tags": []
   },
   "outputs": [
    {
     "name": "stdout",
     "output_type": "stream",
     "text": [
      "[4, 7, 12, 15, 24, 26, 33, 34, 35, 36, 38, 39, 42, 44, 46, 51, 55, 58]\n"
     ]
    }
   ],
   "source": [
    "duplicates = train[train.duplicated('text')]\n",
    "problematic_duplicates = []\n",
    "\n",
    "for i in range(duplicates.text.nunique()):\n",
    "    duplicate_subset = train[train.text == duplicates.text.unique()[i]]\n",
    "    if len(duplicate_subset) > 1 and duplicate_subset.target.nunique() == 2:\n",
    "        problematic_duplicates.append(i)\n",
    "        \n",
    "print(problematic_duplicates)"
   ]
  },
  {
   "cell_type": "code",
   "execution_count": 5,
   "id": "2f264f9f",
   "metadata": {
    "execution": {
     "iopub.execute_input": "2023-07-27T00:33:23.953810Z",
     "iopub.status.busy": "2023-07-27T00:33:23.953516Z",
     "iopub.status.idle": "2023-07-27T00:33:23.988761Z",
     "shell.execute_reply": "2023-07-27T00:33:23.987819Z"
    },
    "papermill": {
     "duration": 0.044673,
     "end_time": "2023-07-27T00:33:23.990978",
     "exception": false,
     "start_time": "2023-07-27T00:33:23.946305",
     "status": "completed"
    },
    "tags": []
   },
   "outputs": [],
   "source": [
    "target_list = [0,0,0,0,1,0,0,0,1,0,0,0,0,0,1,1,0,0]\n",
    "\n",
    "for problematic_index in range(len(problematic_duplicates)): \n",
    "    train.target = np.where(train.text == duplicates.text.unique()[problematic_index], \n",
    "                            target_list[problematic_index], train.target)"
   ]
  },
  {
   "cell_type": "code",
   "execution_count": 6,
   "id": "5ca9f0f2",
   "metadata": {
    "execution": {
     "iopub.execute_input": "2023-07-27T00:33:24.005013Z",
     "iopub.status.busy": "2023-07-27T00:33:24.004464Z",
     "iopub.status.idle": "2023-07-27T00:33:24.011723Z",
     "shell.execute_reply": "2023-07-27T00:33:24.010795Z"
    },
    "papermill": {
     "duration": 0.016913,
     "end_time": "2023-07-27T00:33:24.014015",
     "exception": false,
     "start_time": "2023-07-27T00:33:23.997102",
     "status": "completed"
    },
    "tags": []
   },
   "outputs": [],
   "source": [
    "def clean_text(dataframe):\n",
    "    dataframe.text = dataframe.text.apply(lambda x: str.lower(x))\n",
    "    dataframe.text = dataframe.text.apply(lambda x: re.sub(r'http\\S+', '', x))\n",
    "    dataframe.text = dataframe.text.apply(lambda x: re.sub(r'#', '', x))\n",
    "    dataframe.text = dataframe.text.apply(lambda x: re.sub(r'@', '', x))\n",
    "    dataframe.text = dataframe.text.apply(lambda x: re.sub(r'\\n', '', x))\n",
    "    dataframe.text = dataframe.text.apply(lambda x: re.sub('[^a-zA-z0-9\\s]', '', x))\n",
    "    return(dataframe)"
   ]
  },
  {
   "cell_type": "code",
   "execution_count": 7,
   "id": "f3eff4e4",
   "metadata": {
    "execution": {
     "iopub.execute_input": "2023-07-27T00:33:24.027498Z",
     "iopub.status.busy": "2023-07-27T00:33:24.027242Z",
     "iopub.status.idle": "2023-07-27T00:33:24.133573Z",
     "shell.execute_reply": "2023-07-27T00:33:24.132633Z"
    },
    "papermill": {
     "duration": 0.115664,
     "end_time": "2023-07-27T00:33:24.135924",
     "exception": false,
     "start_time": "2023-07-27T00:33:24.020260",
     "status": "completed"
    },
    "tags": []
   },
   "outputs": [],
   "source": [
    "clean_train = clean_text(train)\n",
    "clean_train_balanced = clean_train.groupby('target').sample(3000, random_state = 1048596)"
   ]
  },
  {
   "cell_type": "code",
   "execution_count": 8,
   "id": "025cef20",
   "metadata": {
    "execution": {
     "iopub.execute_input": "2023-07-27T00:33:24.150517Z",
     "iopub.status.busy": "2023-07-27T00:33:24.149921Z",
     "iopub.status.idle": "2023-07-27T00:33:24.164260Z",
     "shell.execute_reply": "2023-07-27T00:33:24.163290Z"
    },
    "papermill": {
     "duration": 0.024224,
     "end_time": "2023-07-27T00:33:24.166874",
     "exception": false,
     "start_time": "2023-07-27T00:33:24.142650",
     "status": "completed"
    },
    "tags": []
   },
   "outputs": [
    {
     "data": {
      "text/html": [
       "<div>\n",
       "<style scoped>\n",
       "    .dataframe tbody tr th:only-of-type {\n",
       "        vertical-align: middle;\n",
       "    }\n",
       "\n",
       "    .dataframe tbody tr th {\n",
       "        vertical-align: top;\n",
       "    }\n",
       "\n",
       "    .dataframe thead th {\n",
       "        text-align: right;\n",
       "    }\n",
       "</style>\n",
       "<table border=\"1\" class=\"dataframe\">\n",
       "  <thead>\n",
       "    <tr style=\"text-align: right;\">\n",
       "      <th></th>\n",
       "      <th>id</th>\n",
       "      <th>keyword</th>\n",
       "      <th>location</th>\n",
       "      <th>text</th>\n",
       "      <th>target</th>\n",
       "    </tr>\n",
       "  </thead>\n",
       "  <tbody>\n",
       "    <tr>\n",
       "      <th>7342</th>\n",
       "      <td>10513</td>\n",
       "      <td>wildfire</td>\n",
       "      <td>Columbus, OH</td>\n",
       "      <td>i honestly wonder what it is that i had to do so wrong to lose everyone</td>\n",
       "      <td>0</td>\n",
       "    </tr>\n",
       "    <tr>\n",
       "      <th>4795</th>\n",
       "      <td>6821</td>\n",
       "      <td>loud%20bang</td>\n",
       "      <td>Wandsworth, London</td>\n",
       "      <td>sw_trains strange loud impact bang noises under train to epsom about to arrive wimbledon</td>\n",
       "      <td>0</td>\n",
       "    </tr>\n",
       "    <tr>\n",
       "      <th>1652</th>\n",
       "      <td>2387</td>\n",
       "      <td>collapsed</td>\n",
       "      <td>I'm standing behind you</td>\n",
       "      <td>rokiieee_ the game has officially collapsed</td>\n",
       "      <td>0</td>\n",
       "    </tr>\n",
       "    <tr>\n",
       "      <th>1435</th>\n",
       "      <td>2070</td>\n",
       "      <td>casualty</td>\n",
       "      <td>Santa Monica, CA</td>\n",
       "      <td>1st quality insurance group is hiring licensed property amp casualty insurance agent produc  jobs denver</td>\n",
       "      <td>0</td>\n",
       "    </tr>\n",
       "    <tr>\n",
       "      <th>1666</th>\n",
       "      <td>2408</td>\n",
       "      <td>collide</td>\n",
       "      <td>NaN</td>\n",
       "      <td>and when those waves shall ripple collide its on the tide of your love i will survive love lesleychappelle</td>\n",
       "      <td>0</td>\n",
       "    </tr>\n",
       "  </tbody>\n",
       "</table>\n",
       "</div>"
      ],
      "text/plain": [
       "         id      keyword                 location  \\\n",
       "7342  10513     wildfire             Columbus, OH   \n",
       "4795   6821  loud%20bang       Wandsworth, London   \n",
       "1652   2387    collapsed  I'm standing behind you   \n",
       "1435   2070     casualty         Santa Monica, CA   \n",
       "1666   2408      collide                      NaN   \n",
       "\n",
       "                                                                                                            text  \\\n",
       "7342                                     i honestly wonder what it is that i had to do so wrong to lose everyone   \n",
       "4795                    sw_trains strange loud impact bang noises under train to epsom about to arrive wimbledon   \n",
       "1652                                                                 rokiieee_ the game has officially collapsed   \n",
       "1435    1st quality insurance group is hiring licensed property amp casualty insurance agent produc  jobs denver   \n",
       "1666  and when those waves shall ripple collide its on the tide of your love i will survive love lesleychappelle   \n",
       "\n",
       "      target  \n",
       "7342       0  \n",
       "4795       0  \n",
       "1652       0  \n",
       "1435       0  \n",
       "1666       0  "
      ]
     },
     "execution_count": 8,
     "metadata": {},
     "output_type": "execute_result"
    }
   ],
   "source": [
    "clean_train_balanced.head(5)"
   ]
  },
  {
   "cell_type": "markdown",
   "id": "100b4fbc",
   "metadata": {
    "papermill": {
     "duration": 0.006397,
     "end_time": "2023-07-27T00:33:24.179838",
     "exception": false,
     "start_time": "2023-07-27T00:33:24.173441",
     "status": "completed"
    },
    "tags": []
   },
   "source": [
    "In this notebook, we are going to use **train_test_split** instead of **np.split** to split our dataset into training and validation datasets. This just helps us better reference the texts and labels to use when training the model. "
   ]
  },
  {
   "cell_type": "code",
   "execution_count": 9,
   "id": "5aea948e",
   "metadata": {
    "execution": {
     "iopub.execute_input": "2023-07-27T00:33:24.193651Z",
     "iopub.status.busy": "2023-07-27T00:33:24.193397Z",
     "iopub.status.idle": "2023-07-27T00:33:24.200023Z",
     "shell.execute_reply": "2023-07-27T00:33:24.199172Z"
    },
    "papermill": {
     "duration": 0.01584,
     "end_time": "2023-07-27T00:33:24.201921",
     "exception": false,
     "start_time": "2023-07-27T00:33:24.186081",
     "status": "completed"
    },
    "tags": []
   },
   "outputs": [],
   "source": [
    "x_train, x_val, y_train, y_val = train_test_split(clean_train_balanced.text, \n",
    "                                                  clean_train_balanced.target, \n",
    "                                                  train_size = 0.85, \n",
    "                                                  random_state = 1048596)"
   ]
  },
  {
   "cell_type": "markdown",
   "id": "71e7f842",
   "metadata": {
    "papermill": {
     "duration": 0.006337,
     "end_time": "2023-07-27T00:33:24.214632",
     "exception": false,
     "start_time": "2023-07-27T00:33:24.208295",
     "status": "completed"
    },
    "tags": []
   },
   "source": [
    "The biggest change in this iteration is the tokenizer and the BERT model we are going to fine-tune for the classification task. So far, we have been using BERT-base and Small-BERT models that are made available through tensorflow hub. However, given that we are attempting to classify tweets, there may be pre-trained models that are more appropriate for the purpose of classifying tweets. **BERTweet** is a pre-trained language model designed forr English tweets and have been shown to perform better compared to other state-of-the-art language models for many NLP tasks including text classification. "
   ]
  },
  {
   "cell_type": "code",
   "execution_count": 10,
   "id": "43589de4",
   "metadata": {
    "execution": {
     "iopub.execute_input": "2023-07-27T00:33:24.229058Z",
     "iopub.status.busy": "2023-07-27T00:33:24.228224Z",
     "iopub.status.idle": "2023-07-27T00:33:25.673591Z",
     "shell.execute_reply": "2023-07-27T00:33:25.672149Z"
    },
    "papermill": {
     "duration": 1.454634,
     "end_time": "2023-07-27T00:33:25.675718",
     "exception": false,
     "start_time": "2023-07-27T00:33:24.221084",
     "status": "completed"
    },
    "tags": []
   },
   "outputs": [
    {
     "data": {
      "application/vnd.jupyter.widget-view+json": {
       "model_id": "8445a2fc330247768186f26fa336ac9c",
       "version_major": 2,
       "version_minor": 0
      },
      "text/plain": [
       "Downloading (…)lve/main/config.json:   0%|          | 0.00/558 [00:00<?, ?B/s]"
      ]
     },
     "metadata": {},
     "output_type": "display_data"
    },
    {
     "data": {
      "application/vnd.jupyter.widget-view+json": {
       "model_id": "9c57a4ae8e5a4980bc53a32bba149f84",
       "version_major": 2,
       "version_minor": 0
      },
      "text/plain": [
       "Downloading (…)solve/main/vocab.txt:   0%|          | 0.00/843k [00:00<?, ?B/s]"
      ]
     },
     "metadata": {},
     "output_type": "display_data"
    },
    {
     "data": {
      "application/vnd.jupyter.widget-view+json": {
       "model_id": "859d381332864f69a1c57cfc3860741a",
       "version_major": 2,
       "version_minor": 0
      },
      "text/plain": [
       "Downloading (…)solve/main/bpe.codes:   0%|          | 0.00/1.08M [00:00<?, ?B/s]"
      ]
     },
     "metadata": {},
     "output_type": "display_data"
    },
    {
     "name": "stderr",
     "output_type": "stream",
     "text": [
      "Special tokens have been added in the vocabulary, make sure the associated word embeddings are fine-tuned or trained.\n"
     ]
    }
   ],
   "source": [
    "tokenizer = AutoTokenizer.from_pretrained('vinai/bertweet-base', \n",
    "                                          normalization = True, \n",
    "                                          use_fast = False,\n",
    "                                          add_special_tokens = True,\n",
    "                                          pad_to_max_length = True,\n",
    "                                          return_attention_mask = True)"
   ]
  },
  {
   "cell_type": "code",
   "execution_count": 11,
   "id": "46f051e2",
   "metadata": {
    "execution": {
     "iopub.execute_input": "2023-07-27T00:33:25.692001Z",
     "iopub.status.busy": "2023-07-27T00:33:25.691684Z",
     "iopub.status.idle": "2023-07-27T00:33:40.965408Z",
     "shell.execute_reply": "2023-07-27T00:33:40.964422Z"
    },
    "papermill": {
     "duration": 15.284349,
     "end_time": "2023-07-27T00:33:40.967808",
     "exception": false,
     "start_time": "2023-07-27T00:33:25.683459",
     "status": "completed"
    },
    "tags": []
   },
   "outputs": [],
   "source": [
    "train_token = tokenizer(x_train.tolist(), \n",
    "                        padding = \"max_length\", \n",
    "                        truncation = True).data\n",
    "\n",
    "val_token = tokenizer(x_val.tolist(),\n",
    "                      padding = \"max_length\", \n",
    "                      truncation = True).data\n",
    "\n",
    "train_features = {x: train_token[x] for x in tokenizer.model_input_names}\n",
    "train_features = tf.data.Dataset.from_tensor_slices((train_features, y_train))\n",
    "train_features = train_features.shuffle(len(x_train)).batch(32).prefetch(tf.data.AUTOTUNE)\n",
    "\n",
    "val_features = {x: val_token[x] for x in tokenizer.model_input_names}\n",
    "val_features = tf.data.Dataset.from_tensor_slices((val_features, y_val))\n",
    "val_features = val_features.shuffle(len(x_val)).batch(32).prefetch(tf.data.AUTOTUNE)"
   ]
  },
  {
   "cell_type": "code",
   "execution_count": 12,
   "id": "e0dc48ba",
   "metadata": {
    "execution": {
     "iopub.execute_input": "2023-07-27T00:33:40.984487Z",
     "iopub.status.busy": "2023-07-27T00:33:40.983672Z",
     "iopub.status.idle": "2023-07-27T00:33:54.801071Z",
     "shell.execute_reply": "2023-07-27T00:33:54.800115Z"
    },
    "papermill": {
     "duration": 13.82824,
     "end_time": "2023-07-27T00:33:54.803573",
     "exception": false,
     "start_time": "2023-07-27T00:33:40.975333",
     "status": "completed"
    },
    "tags": []
   },
   "outputs": [
    {
     "data": {
      "application/vnd.jupyter.widget-view+json": {
       "model_id": "bde7967bf4ec4cb29c36a134763ae7b9",
       "version_major": 2,
       "version_minor": 0
      },
      "text/plain": [
       "Downloading tf_model.h5:   0%|          | 0.00/740M [00:00<?, ?B/s]"
      ]
     },
     "metadata": {},
     "output_type": "display_data"
    },
    {
     "name": "stderr",
     "output_type": "stream",
     "text": [
      "Some layers from the model checkpoint at vinai/bertweet-base were not used when initializing TFRobertaModel: ['lm_head']\n",
      "- This IS expected if you are initializing TFRobertaModel from the checkpoint of a model trained on another task or with another architecture (e.g. initializing a BertForSequenceClassification model from a BertForPreTraining model).\n",
      "- This IS NOT expected if you are initializing TFRobertaModel from the checkpoint of a model that you expect to be exactly identical (initializing a BertForSequenceClassification model from a BertForSequenceClassification model).\n",
      "All the layers of TFRobertaModel were initialized from the model checkpoint at vinai/bertweet-base.\n",
      "If your task is similar to the task the model of the checkpoint was trained on, you can already use TFRobertaModel for predictions without further training.\n",
      "/opt/conda/lib/python3.10/site-packages/keras/optimizers/legacy/adam.py:117: UserWarning: The `lr` argument is deprecated, use `learning_rate` instead.\n",
      "  super().__init__(name, **kwargs)\n"
     ]
    }
   ],
   "source": [
    "bert_model = TFRobertaModel.from_pretrained(\"vinai/bertweet-base\")\n",
    "\n",
    "input_ids = tf.keras.Input(shape=(128,), dtype = 'int32', name = 'input_ids')\n",
    "attention_masks = tf.keras.Input(shape=(128,), dtype ='int32', name = 'attention_mask')\n",
    "\n",
    "output = bert_model([input_ids,attention_masks])[1]\n",
    "output = tf.keras.layers.Dense(1,activation='sigmoid')(output)\n",
    "\n",
    "model = tf.keras.models.Model(inputs = [input_ids,attention_masks], outputs = output)\n",
    "model.compile(optimizer=tfa.optimizers.AdamW(weight_decay = 1e-6, lr=1e-5), loss='binary_crossentropy',metrics = ['accuracy'])\n",
    "\n",
    "#only training last layer:\n",
    "model.layers[2].trainable = False"
   ]
  },
  {
   "cell_type": "code",
   "execution_count": 13,
   "id": "52dd0fd0",
   "metadata": {
    "execution": {
     "iopub.execute_input": "2023-07-27T00:33:54.820917Z",
     "iopub.status.busy": "2023-07-27T00:33:54.820596Z",
     "iopub.status.idle": "2023-07-27T00:33:54.825852Z",
     "shell.execute_reply": "2023-07-27T00:33:54.824833Z"
    },
    "papermill": {
     "duration": 0.016242,
     "end_time": "2023-07-27T00:33:54.828177",
     "exception": false,
     "start_time": "2023-07-27T00:33:54.811935",
     "status": "completed"
    },
    "tags": []
   },
   "outputs": [],
   "source": [
    "early_stopping = tf.keras.callbacks.EarlyStopping(monitor = 'val_loss', patience = 2)\n",
    "\n",
    "model_checkpoint_callback = tf.keras.callbacks.ModelCheckpoint(\n",
    "    filepath = 'model/best_performed_model.ckpt',\n",
    "    save_weights_only = True,\n",
    "    save_best_only = True,\n",
    "    monitor = 'val_loss',\n",
    "    verbose = 1\n",
    ")"
   ]
  },
  {
   "cell_type": "code",
   "execution_count": 14,
   "id": "dd712cc4",
   "metadata": {
    "execution": {
     "iopub.execute_input": "2023-07-27T00:33:54.844856Z",
     "iopub.status.busy": "2023-07-27T00:33:54.844500Z",
     "iopub.status.idle": "2023-07-27T00:38:29.353136Z",
     "shell.execute_reply": "2023-07-27T00:38:29.352153Z"
    },
    "papermill": {
     "duration": 274.519424,
     "end_time": "2023-07-27T00:38:29.355322",
     "exception": false,
     "start_time": "2023-07-27T00:33:54.835898",
     "status": "completed"
    },
    "tags": []
   },
   "outputs": [
    {
     "name": "stdout",
     "output_type": "stream",
     "text": [
      "Epoch 1/30\n"
     ]
    },
    {
     "name": "stderr",
     "output_type": "stream",
     "text": [
      "/opt/conda/lib/python3.10/site-packages/keras/engine/functional.py:639: UserWarning: Input dict contained keys ['token_type_ids'] which did not match any model input. They will be ignored by the model.\n",
      "  inputs = self._flatten_to_reference_inputs(inputs)\n"
     ]
    },
    {
     "name": "stdout",
     "output_type": "stream",
     "text": [
      "160/160 [==============================] - ETA: 0s - loss: 0.4739 - accuracy: 0.7829\n",
      "Epoch 1: val_loss improved from inf to 0.40178, saving model to model/best_performed_model.ckpt\n",
      "160/160 [==============================] - 111s 569ms/step - loss: 0.4739 - accuracy: 0.7829 - val_loss: 0.4018 - val_accuracy: 0.8222\n",
      "Epoch 2/30\n",
      "160/160 [==============================] - ETA: 0s - loss: 0.3605 - accuracy: 0.8541\n",
      "Epoch 2: val_loss did not improve from 0.40178\n",
      "160/160 [==============================] - 82s 512ms/step - loss: 0.3605 - accuracy: 0.8541 - val_loss: 0.4214 - val_accuracy: 0.8233\n",
      "Epoch 3/30\n",
      "160/160 [==============================] - ETA: 0s - loss: 0.3141 - accuracy: 0.8765\n",
      "Epoch 3: val_loss did not improve from 0.40178\n",
      "160/160 [==============================] - 82s 512ms/step - loss: 0.3141 - accuracy: 0.8765 - val_loss: 0.4306 - val_accuracy: 0.8311\n"
     ]
    }
   ],
   "source": [
    "history = model.fit(train_features, \n",
    "                    epochs = 30,\n",
    "                    validation_data = val_features,\n",
    "                    callbacks = [early_stopping, model_checkpoint_callback])"
   ]
  },
  {
   "cell_type": "code",
   "execution_count": 15,
   "id": "75630e4e",
   "metadata": {
    "execution": {
     "iopub.execute_input": "2023-07-27T00:38:29.474978Z",
     "iopub.status.busy": "2023-07-27T00:38:29.474525Z",
     "iopub.status.idle": "2023-07-27T00:38:29.791498Z",
     "shell.execute_reply": "2023-07-27T00:38:29.790550Z"
    },
    "papermill": {
     "duration": 0.393741,
     "end_time": "2023-07-27T00:38:29.793811",
     "exception": false,
     "start_time": "2023-07-27T00:38:29.400070",
     "status": "completed"
    },
    "tags": []
   },
   "outputs": [
    {
     "data": {
      "image/png": "[encoded data removed]",
      "text/plain": [
       "<Figure size 640x480 with 1 Axes>"
      ]
     },
     "metadata": {},
     "output_type": "display_data"
    }
   ],
   "source": [
    "plt.plot(history.history['accuracy'])\n",
    "plt.plot(history.history['val_accuracy'])\n",
    "plt.legend(['training', 'validation'])\n",
    "plt.show()"
   ]
  },
  {
   "cell_type": "code",
   "execution_count": 16,
   "id": "0fbeb842",
   "metadata": {
    "execution": {
     "iopub.execute_input": "2023-07-27T00:38:29.886490Z",
     "iopub.status.busy": "2023-07-27T00:38:29.885506Z",
     "iopub.status.idle": "2023-07-27T00:38:31.193808Z",
     "shell.execute_reply": "2023-07-27T00:38:31.192762Z"
    },
    "papermill": {
     "duration": 1.35673,
     "end_time": "2023-07-27T00:38:31.196183",
     "exception": false,
     "start_time": "2023-07-27T00:38:29.839453",
     "status": "completed"
    },
    "tags": []
   },
   "outputs": [],
   "source": [
    "clean_test = clean_text(test)\n",
    "\n",
    "test_token = tokenizer(clean_test.text.tolist(), \n",
    "                       padding = \"max_length\", \n",
    "                       truncation = True,\n",
    "                       return_tensors='tf').data"
   ]
  },
  {
   "cell_type": "code",
   "execution_count": 17,
   "id": "9db0945c",
   "metadata": {
    "execution": {
     "iopub.execute_input": "2023-07-27T00:38:31.288941Z",
     "iopub.status.busy": "2023-07-27T00:38:31.288564Z",
     "iopub.status.idle": "2023-07-27T00:38:54.724622Z",
     "shell.execute_reply": "2023-07-27T00:38:54.723544Z"
    },
    "papermill": {
     "duration": 23.485072,
     "end_time": "2023-07-27T00:38:54.727416",
     "exception": false,
     "start_time": "2023-07-27T00:38:31.242344",
     "status": "completed"
    },
    "tags": []
   },
   "outputs": [
    {
     "name": "stdout",
     "output_type": "stream",
     "text": [
      "102/102 [==============================] - 20s 168ms/step\n"
     ]
    }
   ],
   "source": [
    "predictions = model.predict(test_token)"
   ]
  },
  {
   "cell_type": "code",
   "execution_count": 18,
   "id": "1f7da1fd",
   "metadata": {
    "execution": {
     "iopub.execute_input": "2023-07-27T00:38:54.835621Z",
     "iopub.status.busy": "2023-07-27T00:38:54.835270Z",
     "iopub.status.idle": "2023-07-27T00:38:54.881858Z",
     "shell.execute_reply": "2023-07-27T00:38:54.880918Z"
    },
    "papermill": {
     "duration": 0.102748,
     "end_time": "2023-07-27T00:38:54.883948",
     "exception": false,
     "start_time": "2023-07-27T00:38:54.781200",
     "status": "completed"
    },
    "tags": []
   },
   "outputs": [],
   "source": [
    "final_predictions = [(x > 0.5).astype(int)[0] for x in predictions]\n",
    "predictions_df = pd.DataFrame(list(zip(test.id, final_predictions)),\n",
    "                              columns = ['id', 'target'])\n",
    "\n",
    "predictions_df.to_csv('predictions.csv', index = False)"
   ]
  }
 ],
 "metadata": {
  "kernelspec": {
   "display_name": "Python 3",
   "language": "python",
   "name": "python3"
  },
  "language_info": {
   "codemirror_mode": {
    "name": "ipython",
    "version": 3
   },
   "file_extension": ".py",
   "mimetype": "text/x-python",
   "name": "python",
   "nbconvert_exporter": "python",
   "pygments_lexer": "ipython3",
   "version": "3.10.12"
  },
  "papermill": {
   "default_parameters": {},
   "duration": 405.906186,
   "end_time": "2023-07-27T00:38:58.051234",
   "environment_variables": {},
   "exception": null,
   "input_path": "__notebook__.ipynb",
   "output_path": "__notebook__.ipynb",
   "parameters": {},
   "start_time": "2023-07-27T00:32:12.145048",
   "version": "2.4.0"
  },
  "widgets": {
   "application/vnd.jupyter.widget-state+json": {
    "state": {
     "0bbc4b2680014eb4a307f727e03d3b74": {
      "model_module": "@jupyter-widgets/base",
      "model_module_version": "1.2.0",
      "model_name": "LayoutModel",
      "state": {
       "_model_module": "@jupyter-widgets/base",
       "_model_module_version": "1.2.0",
       "_model_name": "LayoutModel",
       "_view_count": null,
       "_view_module": "@jupyter-widgets/base",
       "_view_module_version": "1.2.0",
       "_view_name": "LayoutView",
       "align_content": null,
       "align_items": null,
       "align_self": null,
       "border": null,
       "bottom": null,
       "display": null,
       "flex": null,
       "flex_flow": null,
       "grid_area": null,
       "grid_auto_columns": null,
       "grid_auto_flow": null,
       "grid_auto_rows": null,
       "grid_column": null,
       "grid_gap": null,
       "grid_row": null,
       "grid_template_areas": null,
       "grid_template_columns": null,
       "grid_template_rows": null,
       "height": null,
       "justify_content": null,
       "justify_items": null,
       "left": null,
       "margin": null,
       "max_height": null,
       "max_width": null,
       "min_height": null,
       "min_width": null,
       "object_fit": null,
       "object_position": null,
       "order": null,
       "overflow": null,
       "overflow_x": null,
       "overflow_y": null,
       "padding": null,
       "right": null,
       "top": null,
       "visibility": null,
       "width": null
      }
     },
     "0d420c5f505a4614a0a45155971874e6": {
      "model_module": "@jupyter-widgets/base",
      "model_module_version": "1.2.0",
      "model_name": "LayoutModel",
      "state": {
       "_model_module": "@jupyter-widgets/base",
       "_model_module_version": "1.2.0",
       "_model_name": "LayoutModel",
       "_view_count": null,
       "_view_module": "@jupyter-widgets/base",
       "_view_module_version": "1.2.0",
       "_view_name": "LayoutView",
       "align_content": null,
       "align_items": null,
       "align_self": null,
       "border": null,
       "bottom": null,
       "display": null,
       "flex": null,
       "flex_flow": null,
       "grid_area": null,
       "grid_auto_columns": null,
       "grid_auto_flow": null,
       "grid_auto_rows": null,
       "grid_column": null,
       "grid_gap": null,
       "grid_row": null,
       "grid_template_areas": null,
       "grid_template_columns": null,
       "grid_template_rows": null,
       "height": null,
       "justify_content": null,
       "justify_items": null,
       "left": null,
       "margin": null,
       "max_height": null,
       "max_width": null,
       "min_height": null,
       "min_width": null,
       "object_fit": null,
       "object_position": null,
       "order": null,
       "overflow": null,
       "overflow_x": null,
       "overflow_y": null,
       "padding": null,
       "right": null,
       "top": null,
       "visibility": null,
       "width": null
      }
     },
     "0fe16b979bf24e189bde2b6cf9bd5051": {
      "model_module": "@jupyter-widgets/controls",
      "model_module_version": "1.5.0",
      "model_name": "DescriptionStyleModel",
      "state": {
       "_model_module": "@jupyter-widgets/controls",
       "_model_module_version": "1.5.0",
       "_model_name": "DescriptionStyleModel",
       "_view_count": null,
       "_view_module": "@jupyter-widgets/base",
       "_view_module_version": "1.2.0",
       "_view_name": "StyleView",
       "description_width": ""
      }
     },
     "1e27c93bab26479d8c12c0396bd25fd2": {
      "model_module": "@jupyter-widgets/base",
      "model_module_version": "1.2.0",
      "model_name": "LayoutModel",
      "state": {
       "_model_module": "@jupyter-widgets/base",
       "_model_module_version": "1.2.0",
       "_model_name": "LayoutModel",
       "_view_count": null,
       "_view_module": "@jupyter-widgets/base",
       "_view_module_version": "1.2.0",
       "_view_name": "LayoutView",
       "align_content": null,
       "align_items": null,
       "align_self": null,
       "border": null,
       "bottom": null,
       "display": null,
       "flex": null,
       "flex_flow": null,
       "grid_area": null,
       "grid_auto_columns": null,
       "grid_auto_flow": null,
       "grid_auto_rows": null,
       "grid_column": null,
       "grid_gap": null,
       "grid_row": null,
       "grid_template_areas": null,
       "grid_template_columns": null,
       "grid_template_rows": null,
       "height": null,
       "justify_content": null,
       "justify_items": null,
       "left": null,
       "margin": null,
       "max_height": null,
       "max_width": null,
       "min_height": null,
       "min_width": null,
       "object_fit": null,
       "object_position": null,
       "order": null,
       "overflow": null,
       "overflow_x": null,
       "overflow_y": null,
       "padding": null,
       "right": null,
       "top": null,
       "visibility": null,
       "width": null
      }
     },
     "1f094a26ec524152afa15844a333867d": {
      "model_module": "@jupyter-widgets/controls",
      "model_module_version": "1.5.0",
      "model_name": "DescriptionStyleModel",
      "state": {
       "_model_module": "@jupyter-widgets/controls",
       "_model_module_version": "1.5.0",
       "_model_name": "DescriptionStyleModel",
       "_view_count": null,
       "_view_module": "@jupyter-widgets/base",
       "_view_module_version": "1.2.0",
       "_view_name": "StyleView",
       "description_width": ""
      }
     },
     "22a3704b71fa43fd9cd7ef040159645e": {
      "model_module": "@jupyter-widgets/controls",
      "model_module_version": "1.5.0",
      "model_name": "DescriptionStyleModel",
      "state": {
       "_model_module": "@jupyter-widgets/controls",
       "_model_module_version": "1.5.0",
       "_model_name": "DescriptionStyleModel",
       "_view_count": null,
       "_view_module": "@jupyter-widgets/base",
       "_view_module_version": "1.2.0",
       "_view_name": "StyleView",
       "description_width": ""
      }
     },
     "28e2274888654c3d9c333cb14594d48f": {
      "model_module": "@jupyter-widgets/base",
      "model_module_version": "1.2.0",
      "model_name": "LayoutModel",
      "state": {
       "_model_module": "@jupyter-widgets/base",
       "_model_module_version": "1.2.0",
       "_model_name": "LayoutModel",
       "_view_count": null,
       "_view_module": "@jupyter-widgets/base",
       "_view_module_version": "1.2.0",
       "_view_name": "LayoutView",
       "align_content": null,
       "align_items": null,
       "align_self": null,
       "border": null,
       "bottom": null,
       "display": null,
       "flex": null,
       "flex_flow": null,
       "grid_area": null,
       "grid_auto_columns": null,
       "grid_auto_flow": null,
       "grid_auto_rows": null,
       "grid_column": null,
       "grid_gap": null,
       "grid_row": null,
       "grid_template_areas": null,
       "grid_template_columns": null,
       "grid_template_rows": null,
       "height": null,
       "justify_content": null,
       "justify_items": null,
       "left": null,
       "margin": null,
       "max_height": null,
       "max_width": null,
       "min_height": null,
       "min_width": null,
       "object_fit": null,
       "object_position": null,
       "order": null,
       "overflow": null,
       "overflow_x": null,
       "overflow_y": null,
       "padding": null,
       "right": null,
       "top": null,
       "visibility": null,
       "width": null
      }
     },
     "2b448fe24cad4694bb772a547ad81b1c": {
      "model_module": "@jupyter-widgets/controls",
      "model_module_version": "1.5.0",
      "model_name": "HTMLModel",
      "state": {
       "_dom_classes": [],
       "_model_module": "@jupyter-widgets/controls",
       "_model_module_version": "1.5.0",
       "_model_name": "HTMLModel",
       "_view_count": null,
       "_view_module": "@jupyter-widgets/controls",
       "_view_module_version": "1.5.0",
       "_view_name": "HTMLView",
       "description": "",
       "description_tooltip": null,
       "layout": "IPY_MODEL_9b445a51bfeb4d2395777adbe5ffa1b9",
       "placeholder": "​",
       "style": "IPY_MODEL_d52e27cb687246db9b0839780cc2280d",
       "value": " 558/558 [00:00&lt;00:00, 37.3kB/s]"
      }
     },
     "431a38894513433187bba3f70366bcbc": {
      "model_module": "@jupyter-widgets/base",
      "model_module_version": "1.2.0",
      "model_name": "LayoutModel",
      "state": {
       "_model_module": "@jupyter-widgets/base",
       "_model_module_version": "1.2.0",
       "_model_name": "LayoutModel",
       "_view_count": null,
       "_view_module": "@jupyter-widgets/base",
       "_view_module_version": "1.2.0",
       "_view_name": "LayoutView",
       "align_content": null,
       "align_items": null,
       "align_self": null,
       "border": null,
       "bottom": null,
       "display": null,
       "flex": null,
       "flex_flow": null,
       "grid_area": null,
       "grid_auto_columns": null,
       "grid_auto_flow": null,
       "grid_auto_rows": null,
       "grid_column": null,
       "grid_gap": null,
       "grid_row": null,
       "grid_template_areas": null,
       "grid_template_columns": null,
       "grid_template_rows": null,
       "height": null,
       "justify_content": null,
       "justify_items": null,
       "left": null,
       "margin": null,
       "max_height": null,
       "max_width": null,
       "min_height": null,
       "min_width": null,
       "object_fit": null,
       "object_position": null,
       "order": null,
       "overflow": null,
       "overflow_x": null,
       "overflow_y": null,
       "padding": null,
       "right": null,
       "top": null,
       "visibility": null,
       "width": null
      }
     },
     "4369e0f756e04c0ba77bad380ee724f3": {
      "model_module": "@jupyter-widgets/base",
      "model_module_version": "1.2.0",
      "model_name": "LayoutModel",
      "state": {
       "_model_module": "@jupyter-widgets/base",
       "_model_module_version": "1.2.0",
       "_model_name": "LayoutModel",
       "_view_count": null,
       "_view_module": "@jupyter-widgets/base",
       "_view_module_version": "1.2.0",
       "_view_name": "LayoutView",
       "align_content": null,
       "align_items": null,
       "align_self": null,
       "border": null,
       "bottom": null,
       "display": null,
       "flex": null,
       "flex_flow": null,
       "grid_area": null,
       "grid_auto_columns": null,
       "grid_auto_flow": null,
       "grid_auto_rows": null,
       "grid_column": null,
       "grid_gap": null,
       "grid_row": null,
       "grid_template_areas": null,
       "grid_template_columns": null,
       "grid_template_rows": null,
       "height": null,
       "justify_content": null,
       "justify_items": null,
       "left": null,
       "margin": null,
       "max_height": null,
       "max_width": null,
       "min_height": null,
       "min_width": null,
       "object_fit": null,
       "object_position": null,
       "order": null,
       "overflow": null,
       "overflow_x": null,
       "overflow_y": null,
       "padding": null,
       "right": null,
       "top": null,
       "visibility": null,
       "width": null
      }
     },
     "4b9e390de1a1468b9182d43cf9e4d7fc": {
      "model_module": "@jupyter-widgets/controls",
      "model_module_version": "1.5.0",
      "model_name": "HTMLModel",
      "state": {
       "_dom_classes": [],
       "_model_module": "@jupyter-widgets/controls",
       "_model_module_version": "1.5.0",
       "_model_name": "HTMLModel",
       "_view_count": null,
       "_view_module": "@jupyter-widgets/controls",
       "_view_module_version": "1.5.0",
       "_view_name": "HTMLView",
       "description": "",
       "description_tooltip": null,
       "layout": "IPY_MODEL_d7fa61409b0e41cebce19456d548a60f",
       "placeholder": "​",
       "style": "IPY_MODEL_0fe16b979bf24e189bde2b6cf9bd5051",
       "value": "Downloading (…)lve/main/config.json: 100%"
      }
     },
     "57a0f74b5952454f9aba07fa1cce9b42": {
      "model_module": "@jupyter-widgets/controls",
      "model_module_version": "1.5.0",
      "model_name": "HTMLModel",
      "state": {
       "_dom_classes": [],
       "_model_module": "@jupyter-widgets/controls",
       "_model_module_version": "1.5.0",
       "_model_name": "HTMLModel",
       "_view_count": null,
       "_view_module": "@jupyter-widgets/controls",
       "_view_module_version": "1.5.0",
       "_view_name": "HTMLView",
       "description": "",
       "description_tooltip": null,
       "layout": "IPY_MODEL_0d420c5f505a4614a0a45155971874e6",
       "placeholder": "​",
       "style": "IPY_MODEL_ef2b9e35bdaf425d8fd50947b3e3d848",
       "value": "Downloading (…)solve/main/bpe.codes: 100%"
      }
     },
     "57e1b73272a84a84a203fe9dfdb3b3b5": {
      "model_module": "@jupyter-widgets/controls",
      "model_module_version": "1.5.0",
      "model_name": "FloatProgressModel",
      "state": {
       "_dom_classes": [],
       "_model_module": "@jupyter-widgets/controls",
       "_model_module_version": "1.5.0",
       "_model_name": "FloatProgressModel",
       "_view_count": null,
       "_view_module": "@jupyter-widgets/controls",
       "_view_module_version": "1.5.0",
       "_view_name": "ProgressView",
       "bar_style": "success",
       "description": "",
       "description_tooltip": null,
       "layout": "IPY_MODEL_1e27c93bab26479d8c12c0396bd25fd2",
       "max": 1078931.0,
       "min": 0.0,
       "orientation": "horizontal",
       "style": "IPY_MODEL_f8dc36789d7242cba6beaec634de50b1",
       "value": 1078931.0
      }
     },
     "598c908b22a2428988c6d0d69a8d4f47": {
      "model_module": "@jupyter-widgets/base",
      "model_module_version": "1.2.0",
      "model_name": "LayoutModel",
      "state": {
       "_model_module": "@jupyter-widgets/base",
       "_model_module_version": "1.2.0",
       "_model_name": "LayoutModel",
       "_view_count": null,
       "_view_module": "@jupyter-widgets/base",
       "_view_module_version": "1.2.0",
       "_view_name": "LayoutView",
       "align_content": null,
       "align_items": null,
       "align_self": null,
       "border": null,
       "bottom": null,
       "display": null,
       "flex": null,
       "flex_flow": null,
       "grid_area": null,
       "grid_auto_columns": null,
       "grid_auto_flow": null,
       "grid_auto_rows": null,
       "grid_column": null,
       "grid_gap": null,
       "grid_row": null,
       "grid_template_areas": null,
       "grid_template_columns": null,
       "grid_template_rows": null,
       "height": null,
       "justify_content": null,
       "justify_items": null,
       "left": null,
       "margin": null,
       "max_height": null,
       "max_width": null,
       "min_height": null,
       "min_width": null,
       "object_fit": null,
       "object_position": null,
       "order": null,
       "overflow": null,
       "overflow_x": null,
       "overflow_y": null,
       "padding": null,
       "right": null,
       "top": null,
       "visibility": null,
       "width": null
      }
     },
     "66965fae396b42ffaa9f43f80d9ff3ed": {
      "model_module": "@jupyter-widgets/base",
      "model_module_version": "1.2.0",
      "model_name": "LayoutModel",
      "state": {
       "_model_module": "@jupyter-widgets/base",
       "_model_module_version": "1.2.0",
       "_model_name": "LayoutModel",
       "_view_count": null,
       "_view_module": "@jupyter-widgets/base",
       "_view_module_version": "1.2.0",
       "_view_name": "LayoutView",
       "align_content": null,
       "align_items": null,
       "align_self": null,
       "border": null,
       "bottom": null,
       "display": null,
       "flex": null,
       "flex_flow": null,
       "grid_area": null,
       "grid_auto_columns": null,
       "grid_auto_flow": null,
       "grid_auto_rows": null,
       "grid_column": null,
       "grid_gap": null,
       "grid_row": null,
       "grid_template_areas": null,
       "grid_template_columns": null,
       "grid_template_rows": null,
       "height": null,
       "justify_content": null,
       "justify_items": null,
       "left": null,
       "margin": null,
       "max_height": null,
       "max_width": null,
       "min_height": null,
       "min_width": null,
       "object_fit": null,
       "object_position": null,
       "order": null,
       "overflow": null,
       "overflow_x": null,
       "overflow_y": null,
       "padding": null,
       "right": null,
       "top": null,
       "visibility": null,
       "width": null
      }
     },
     "6889a77b74ba4d179ea742c38034085a": {
      "model_module": "@jupyter-widgets/base",
      "model_module_version": "1.2.0",
      "model_name": "LayoutModel",
      "state": {
       "_model_module": "@jupyter-widgets/base",
       "_model_module_version": "1.2.0",
       "_model_name": "LayoutModel",
       "_view_count": null,
       "_view_module": "@jupyter-widgets/base",
       "_view_module_version": "1.2.0",
       "_view_name": "LayoutView",
       "align_content": null,
       "align_items": null,
       "align_self": null,
       "border": null,
       "bottom": null,
       "display": null,
       "flex": null,
       "flex_flow": null,
       "grid_area": null,
       "grid_auto_columns": null,
       "grid_auto_flow": null,
       "grid_auto_rows": null,
       "grid_column": null,
       "grid_gap": null,
       "grid_row": null,
       "grid_template_areas": null,
       "grid_template_columns": null,
       "grid_template_rows": null,
       "height": null,
       "justify_content": null,
       "justify_items": null,
       "left": null,
       "margin": null,
       "max_height": null,
       "max_width": null,
       "min_height": null,
       "min_width": null,
       "object_fit": null,
       "object_position": null,
       "order": null,
       "overflow": null,
       "overflow_x": null,
       "overflow_y": null,
       "padding": null,
       "right": null,
       "top": null,
       "visibility": null,
       "width": null
      }
     },
     "727136b943d042529848a639795a4121": {
      "model_module": "@jupyter-widgets/base",
      "model_module_version": "1.2.0",
      "model_name": "LayoutModel",
      "state": {
       "_model_module": "@jupyter-widgets/base",
       "_model_module_version": "1.2.0",
       "_model_name": "LayoutModel",
       "_view_count": null,
       "_view_module": "@jupyter-widgets/base",
       "_view_module_version": "1.2.0",
       "_view_name": "LayoutView",
       "align_content": null,
       "align_items": null,
       "align_self": null,
       "border": null,
       "bottom": null,
       "display": null,
       "flex": null,
       "flex_flow": null,
       "grid_area": null,
       "grid_auto_columns": null,
       "grid_auto_flow": null,
       "grid_auto_rows": null,
       "grid_column": null,
       "grid_gap": null,
       "grid_row": null,
       "grid_template_areas": null,
       "grid_template_columns": null,
       "grid_template_rows": null,
       "height": null,
       "justify_content": null,
       "justify_items": null,
       "left": null,
       "margin": null,
       "max_height": null,
       "max_width": null,
       "min_height": null,
       "min_width": null,
       "object_fit": null,
       "object_position": null,
       "order": null,
       "overflow": null,
       "overflow_x": null,
       "overflow_y": null,
       "padding": null,
       "right": null,
       "top": null,
       "visibility": null,
       "width": null
      }
     },
     "75ab36c07306459898e473beaa69eae4": {
      "model_module": "@jupyter-widgets/base",
      "model_module_version": "1.2.0",
      "model_name": "LayoutModel",
      "state": {
       "_model_module": "@jupyter-widgets/base",
       "_model_module_version": "1.2.0",
       "_model_name": "LayoutModel",
       "_view_count": null,
       "_view_module": "@jupyter-widgets/base",
       "_view_module_version": "1.2.0",
       "_view_name": "LayoutView",
       "align_content": null,
       "align_items": null,
       "align_self": null,
       "border": null,
       "bottom": null,
       "display": null,
       "flex": null,
       "flex_flow": null,
       "grid_area": null,
       "grid_auto_columns": null,
       "grid_auto_flow": null,
       "grid_auto_rows": null,
       "grid_column": null,
       "grid_gap": null,
       "grid_row": null,
       "grid_template_areas": null,
       "grid_template_columns": null,
       "grid_template_rows": null,
       "height": null,
       "justify_content": null,
       "justify_items": null,
       "left": null,
       "margin": null,
       "max_height": null,
       "max_width": null,
       "min_height": null,
       "min_width": null,
       "object_fit": null,
       "object_position": null,
       "order": null,
       "overflow": null,
       "overflow_x": null,
       "overflow_y": null,
       "padding": null,
       "right": null,
       "top": null,
       "visibility": null,
       "width": null
      }
     },
     "79248a1433924888a354ac258907ee3f": {
      "model_module": "@jupyter-widgets/controls",
      "model_module_version": "1.5.0",
      "model_name": "ProgressStyleModel",
      "state": {
       "_model_module": "@jupyter-widgets/controls",
       "_model_module_version": "1.5.0",
       "_model_name": "ProgressStyleModel",
       "_view_count": null,
       "_view_module": "@jupyter-widgets/base",
       "_view_module_version": "1.2.0",
       "_view_name": "StyleView",
       "bar_color": null,
       "description_width": ""
      }
     },
     "7f9568f43ca8486ca7e83a37869b669a": {
      "model_module": "@jupyter-widgets/controls",
      "model_module_version": "1.5.0",
      "model_name": "DescriptionStyleModel",
      "state": {
       "_model_module": "@jupyter-widgets/controls",
       "_model_module_version": "1.5.0",
       "_model_name": "DescriptionStyleModel",
       "_view_count": null,
       "_view_module": "@jupyter-widgets/base",
       "_view_module_version": "1.2.0",
       "_view_name": "StyleView",
       "description_width": ""
      }
     },
     "8445a2fc330247768186f26fa336ac9c": {
      "model_module": "@jupyter-widgets/controls",
      "model_module_version": "1.5.0",
      "model_name": "HBoxModel",
      "state": {
       "_dom_classes": [],
       "_model_module": "@jupyter-widgets/controls",
       "_model_module_version": "1.5.0",
       "_model_name": "HBoxModel",
       "_view_count": null,
       "_view_module": "@jupyter-widgets/controls",
       "_view_module_version": "1.5.0",
       "_view_name": "HBoxView",
       "box_style": "",
       "children": [
        "IPY_MODEL_4b9e390de1a1468b9182d43cf9e4d7fc",
        "IPY_MODEL_c58e4ffc448c4e18bafa0b45f33fd65a",
        "IPY_MODEL_2b448fe24cad4694bb772a547ad81b1c"
       ],
       "layout": "IPY_MODEL_727136b943d042529848a639795a4121"
      }
     },
     "847f7020683743e19179ca7f8462b3e0": {
      "model_module": "@jupyter-widgets/controls",
      "model_module_version": "1.5.0",
      "model_name": "HTMLModel",
      "state": {
       "_dom_classes": [],
       "_model_module": "@jupyter-widgets/controls",
       "_model_module_version": "1.5.0",
       "_model_name": "HTMLModel",
       "_view_count": null,
       "_view_module": "@jupyter-widgets/controls",
       "_view_module_version": "1.5.0",
       "_view_name": "HTMLView",
       "description": "",
       "description_tooltip": null,
       "layout": "IPY_MODEL_6889a77b74ba4d179ea742c38034085a",
       "placeholder": "​",
       "style": "IPY_MODEL_8c536f6c87ef4736b3eb189c72c9471f",
       "value": "Downloading (…)solve/main/vocab.txt: 100%"
      }
     },
     "859d381332864f69a1c57cfc3860741a": {
      "model_module": "@jupyter-widgets/controls",
      "model_module_version": "1.5.0",
      "model_name": "HBoxModel",
      "state": {
       "_dom_classes": [],
       "_model_module": "@jupyter-widgets/controls",
       "_model_module_version": "1.5.0",
       "_model_name": "HBoxModel",
       "_view_count": null,
       "_view_module": "@jupyter-widgets/controls",
       "_view_module_version": "1.5.0",
       "_view_name": "HBoxView",
       "box_style": "",
       "children": [
        "IPY_MODEL_57a0f74b5952454f9aba07fa1cce9b42",
        "IPY_MODEL_57e1b73272a84a84a203fe9dfdb3b3b5",
        "IPY_MODEL_c7882f2eff9e44cdb69cf45f091a4841"
       ],
       "layout": "IPY_MODEL_4369e0f756e04c0ba77bad380ee724f3"
      }
     },
     "8c536f6c87ef4736b3eb189c72c9471f": {
      "model_module": "@jupyter-widgets/controls",
      "model_module_version": "1.5.0",
      "model_name": "DescriptionStyleModel",
      "state": {
       "_model_module": "@jupyter-widgets/controls",
       "_model_module_version": "1.5.0",
       "_model_name": "DescriptionStyleModel",
       "_view_count": null,
       "_view_module": "@jupyter-widgets/base",
       "_view_module_version": "1.2.0",
       "_view_name": "StyleView",
       "description_width": ""
      }
     },
     "985be7ccb9f741e9b4f21b7d4a45d871": {
      "model_module": "@jupyter-widgets/base",
      "model_module_version": "1.2.0",
      "model_name": "LayoutModel",
      "state": {
       "_model_module": "@jupyter-widgets/base",
       "_model_module_version": "1.2.0",
       "_model_name": "LayoutModel",
       "_view_count": null,
       "_view_module": "@jupyter-widgets/base",
       "_view_module_version": "1.2.0",
       "_view_name": "LayoutView",
       "align_content": null,
       "align_items": null,
       "align_self": null,
       "border": null,
       "bottom": null,
       "display": null,
       "flex": null,
       "flex_flow": null,
       "grid_area": null,
       "grid_auto_columns": null,
       "grid_auto_flow": null,
       "grid_auto_rows": null,
       "grid_column": null,
       "grid_gap": null,
       "grid_row": null,
       "grid_template_areas": null,
       "grid_template_columns": null,
       "grid_template_rows": null,
       "height": null,
       "justify_content": null,
       "justify_items": null,
       "left": null,
       "margin": null,
       "max_height": null,
       "max_width": null,
       "min_height": null,
       "min_width": null,
       "object_fit": null,
       "object_position": null,
       "order": null,
       "overflow": null,
       "overflow_x": null,
       "overflow_y": null,
       "padding": null,
       "right": null,
       "top": null,
       "visibility": null,
       "width": null
      }
     },
     "9b445a51bfeb4d2395777adbe5ffa1b9": {
      "model_module": "@jupyter-widgets/base",
      "model_module_version": "1.2.0",
      "model_name": "LayoutModel",
      "state": {
       "_model_module": "@jupyter-widgets/base",
       "_model_module_version": "1.2.0",
       "_model_name": "LayoutModel",
       "_view_count": null,
       "_view_module": "@jupyter-widgets/base",
       "_view_module_version": "1.2.0",
       "_view_name": "LayoutView",
       "align_content": null,
       "align_items": null,
       "align_self": null,
       "border": null,
       "bottom": null,
       "display": null,
       "flex": null,
       "flex_flow": null,
       "grid_area": null,
       "grid_auto_columns": null,
       "grid_auto_flow": null,
       "grid_auto_rows": null,
       "grid_column": null,
       "grid_gap": null,
       "grid_row": null,
       "grid_template_areas": null,
       "grid_template_columns": null,
       "grid_template_rows": null,
       "height": null,
       "justify_content": null,
       "justify_items": null,
       "left": null,
       "margin": null,
       "max_height": null,
       "max_width": null,
       "min_height": null,
       "min_width": null,
       "object_fit": null,
       "object_position": null,
       "order": null,
       "overflow": null,
       "overflow_x": null,
       "overflow_y": null,
       "padding": null,
       "right": null,
       "top": null,
       "visibility": null,
       "width": null
      }
     },
     "9c57a4ae8e5a4980bc53a32bba149f84": {
      "model_module": "@jupyter-widgets/controls",
      "model_module_version": "1.5.0",
      "model_name": "HBoxModel",
      "state": {
       "_dom_classes": [],
       "_model_module": "@jupyter-widgets/controls",
       "_model_module_version": "1.5.0",
       "_model_name": "HBoxModel",
       "_view_count": null,
       "_view_module": "@jupyter-widgets/controls",
       "_view_module_version": "1.5.0",
       "_view_name": "HBoxView",
       "box_style": "",
       "children": [
        "IPY_MODEL_847f7020683743e19179ca7f8462b3e0",
        "IPY_MODEL_cd19362ff56747feb8565cca3e0718c3",
        "IPY_MODEL_fb68e828359b4c969dd323a946a4bc4c"
       ],
       "layout": "IPY_MODEL_0bbc4b2680014eb4a307f727e03d3b74"
      }
     },
     "9f806c47471c47b3ad5e62f256b3754e": {
      "model_module": "@jupyter-widgets/controls",
      "model_module_version": "1.5.0",
      "model_name": "DescriptionStyleModel",
      "state": {
       "_model_module": "@jupyter-widgets/controls",
       "_model_module_version": "1.5.0",
       "_model_name": "DescriptionStyleModel",
       "_view_count": null,
       "_view_module": "@jupyter-widgets/base",
       "_view_module_version": "1.2.0",
       "_view_name": "StyleView",
       "description_width": ""
      }
     },
     "b259dd2546dc4c438a46ea38a5689c6c": {
      "model_module": "@jupyter-widgets/base",
      "model_module_version": "1.2.0",
      "model_name": "LayoutModel",
      "state": {
       "_model_module": "@jupyter-widgets/base",
       "_model_module_version": "1.2.0",
       "_model_name": "LayoutModel",
       "_view_count": null,
       "_view_module": "@jupyter-widgets/base",
       "_view_module_version": "1.2.0",
       "_view_name": "LayoutView",
       "align_content": null,
       "align_items": null,
       "align_self": null,
       "border": null,
       "bottom": null,
       "display": null,
       "flex": null,
       "flex_flow": null,
       "grid_area": null,
       "grid_auto_columns": null,
       "grid_auto_flow": null,
       "grid_auto_rows": null,
       "grid_column": null,
       "grid_gap": null,
       "grid_row": null,
       "grid_template_areas": null,
       "grid_template_columns": null,
       "grid_template_rows": null,
       "height": null,
       "justify_content": null,
       "justify_items": null,
       "left": null,
       "margin": null,
       "max_height": null,
       "max_width": null,
       "min_height": null,
       "min_width": null,
       "object_fit": null,
       "object_position": null,
       "order": null,
       "overflow": null,
       "overflow_x": null,
       "overflow_y": null,
       "padding": null,
       "right": null,
       "top": null,
       "visibility": null,
       "width": null
      }
     },
     "b5ca5529286b4864befd3c10cde77f66": {
      "model_module": "@jupyter-widgets/controls",
      "model_module_version": "1.5.0",
      "model_name": "FloatProgressModel",
      "state": {
       "_dom_classes": [],
       "_model_module": "@jupyter-widgets/controls",
       "_model_module_version": "1.5.0",
       "_model_name": "FloatProgressModel",
       "_view_count": null,
       "_view_module": "@jupyter-widgets/controls",
       "_view_module_version": "1.5.0",
       "_view_name": "ProgressView",
       "bar_style": "success",
       "description": "",
       "description_tooltip": null,
       "layout": "IPY_MODEL_b259dd2546dc4c438a46ea38a5689c6c",
       "max": 739523780.0,
       "min": 0.0,
       "orientation": "horizontal",
       "style": "IPY_MODEL_79248a1433924888a354ac258907ee3f",
       "value": 739523780.0
      }
     },
     "bde7967bf4ec4cb29c36a134763ae7b9": {
      "model_module": "@jupyter-widgets/controls",
      "model_module_version": "1.5.0",
      "model_name": "HBoxModel",
      "state": {
       "_dom_classes": [],
       "_model_module": "@jupyter-widgets/controls",
       "_model_module_version": "1.5.0",
       "_model_name": "HBoxModel",
       "_view_count": null,
       "_view_module": "@jupyter-widgets/controls",
       "_view_module_version": "1.5.0",
       "_view_name": "HBoxView",
       "box_style": "",
       "children": [
        "IPY_MODEL_ebfac04631ef4502bcc6426e4fa2868b",
        "IPY_MODEL_b5ca5529286b4864befd3c10cde77f66",
        "IPY_MODEL_e2bf44945fea45e4b6989392cfc183e5"
       ],
       "layout": "IPY_MODEL_e226d1f216014d2b9ac1738bb9d1788a"
      }
     },
     "be16b168d50946a68e478f957a8d74b9": {
      "model_module": "@jupyter-widgets/controls",
      "model_module_version": "1.5.0",
      "model_name": "ProgressStyleModel",
      "state": {
       "_model_module": "@jupyter-widgets/controls",
       "_model_module_version": "1.5.0",
       "_model_name": "ProgressStyleModel",
       "_view_count": null,
       "_view_module": "@jupyter-widgets/base",
       "_view_module_version": "1.2.0",
       "_view_name": "StyleView",
       "bar_color": null,
       "description_width": ""
      }
     },
     "c58e4ffc448c4e18bafa0b45f33fd65a": {
      "model_module": "@jupyter-widgets/controls",
      "model_module_version": "1.5.0",
      "model_name": "FloatProgressModel",
      "state": {
       "_dom_classes": [],
       "_model_module": "@jupyter-widgets/controls",
       "_model_module_version": "1.5.0",
       "_model_name": "FloatProgressModel",
       "_view_count": null,
       "_view_module": "@jupyter-widgets/controls",
       "_view_module_version": "1.5.0",
       "_view_name": "ProgressView",
       "bar_style": "success",
       "description": "",
       "description_tooltip": null,
       "layout": "IPY_MODEL_75ab36c07306459898e473beaa69eae4",
       "max": 558.0,
       "min": 0.0,
       "orientation": "horizontal",
       "style": "IPY_MODEL_fc6a417a2773487e9048f860e5fc131c",
       "value": 558.0
      }
     },
     "c7882f2eff9e44cdb69cf45f091a4841": {
      "model_module": "@jupyter-widgets/controls",
      "model_module_version": "1.5.0",
      "model_name": "HTMLModel",
      "state": {
       "_dom_classes": [],
       "_model_module": "@jupyter-widgets/controls",
       "_model_module_version": "1.5.0",
       "_model_name": "HTMLModel",
       "_view_count": null,
       "_view_module": "@jupyter-widgets/controls",
       "_view_module_version": "1.5.0",
       "_view_name": "HTMLView",
       "description": "",
       "description_tooltip": null,
       "layout": "IPY_MODEL_66965fae396b42ffaa9f43f80d9ff3ed",
       "placeholder": "​",
       "style": "IPY_MODEL_22a3704b71fa43fd9cd7ef040159645e",
       "value": " 1.08M/1.08M [00:00&lt;00:00, 5.22MB/s]"
      }
     },
     "cd19362ff56747feb8565cca3e0718c3": {
      "model_module": "@jupyter-widgets/controls",
      "model_module_version": "1.5.0",
      "model_name": "FloatProgressModel",
      "state": {
       "_dom_classes": [],
       "_model_module": "@jupyter-widgets/controls",
       "_model_module_version": "1.5.0",
       "_model_name": "FloatProgressModel",
       "_view_count": null,
       "_view_module": "@jupyter-widgets/controls",
       "_view_module_version": "1.5.0",
       "_view_name": "ProgressView",
       "bar_style": "success",
       "description": "",
       "description_tooltip": null,
       "layout": "IPY_MODEL_598c908b22a2428988c6d0d69a8d4f47",
       "max": 843438.0,
       "min": 0.0,
       "orientation": "horizontal",
       "style": "IPY_MODEL_be16b168d50946a68e478f957a8d74b9",
       "value": 843438.0
      }
     },
     "d52e27cb687246db9b0839780cc2280d": {
      "model_module": "@jupyter-widgets/controls",
      "model_module_version": "1.5.0",
      "model_name": "DescriptionStyleModel",
      "state": {
       "_model_module": "@jupyter-widgets/controls",
       "_model_module_version": "1.5.0",
       "_model_name": "DescriptionStyleModel",
       "_view_count": null,
       "_view_module": "@jupyter-widgets/base",
       "_view_module_version": "1.2.0",
       "_view_name": "StyleView",
       "description_width": ""
      }
     },
     "d7fa61409b0e41cebce19456d548a60f": {
      "model_module": "@jupyter-widgets/base",
      "model_module_version": "1.2.0",
      "model_name": "LayoutModel",
      "state": {
       "_model_module": "@jupyter-widgets/base",
       "_model_module_version": "1.2.0",
       "_model_name": "LayoutModel",
       "_view_count": null,
       "_view_module": "@jupyter-widgets/base",
       "_view_module_version": "1.2.0",
       "_view_name": "LayoutView",
       "align_content": null,
       "align_items": null,
       "align_self": null,
       "border": null,
       "bottom": null,
       "display": null,
       "flex": null,
       "flex_flow": null,
       "grid_area": null,
       "grid_auto_columns": null,
       "grid_auto_flow": null,
       "grid_auto_rows": null,
       "grid_column": null,
       "grid_gap": null,
       "grid_row": null,
       "grid_template_areas": null,
       "grid_template_columns": null,
       "grid_template_rows": null,
       "height": null,
       "justify_content": null,
       "justify_items": null,
       "left": null,
       "margin": null,
       "max_height": null,
       "max_width": null,
       "min_height": null,
       "min_width": null,
       "object_fit": null,
       "object_position": null,
       "order": null,
       "overflow": null,
       "overflow_x": null,
       "overflow_y": null,
       "padding": null,
       "right": null,
       "top": null,
       "visibility": null,
       "width": null
      }
     },
     "e226d1f216014d2b9ac1738bb9d1788a": {
      "model_module": "@jupyter-widgets/base",
      "model_module_version": "1.2.0",
      "model_name": "LayoutModel",
      "state": {
       "_model_module": "@jupyter-widgets/base",
       "_model_module_version": "1.2.0",
       "_model_name": "LayoutModel",
       "_view_count": null,
       "_view_module": "@jupyter-widgets/base",
       "_view_module_version": "1.2.0",
       "_view_name": "LayoutView",
       "align_content": null,
       "align_items": null,
       "align_self": null,
       "border": null,
       "bottom": null,
       "display": null,
       "flex": null,
       "flex_flow": null,
       "grid_area": null,
       "grid_auto_columns": null,
       "grid_auto_flow": null,
       "grid_auto_rows": null,
       "grid_column": null,
       "grid_gap": null,
       "grid_row": null,
       "grid_template_areas": null,
       "grid_template_columns": null,
       "grid_template_rows": null,
       "height": null,
       "justify_content": null,
       "justify_items": null,
       "left": null,
       "margin": null,
       "max_height": null,
       "max_width": null,
       "min_height": null,
       "min_width": null,
       "object_fit": null,
       "object_position": null,
       "order": null,
       "overflow": null,
       "overflow_x": null,
       "overflow_y": null,
       "padding": null,
       "right": null,
       "top": null,
       "visibility": null,
       "width": null
      }
     },
     "e2bf44945fea45e4b6989392cfc183e5": {
      "model_module": "@jupyter-widgets/controls",
      "model_module_version": "1.5.0",
      "model_name": "HTMLModel",
      "state": {
       "_dom_classes": [],
       "_model_module": "@jupyter-widgets/controls",
       "_model_module_version": "1.5.0",
       "_model_name": "HTMLModel",
       "_view_count": null,
       "_view_module": "@jupyter-widgets/controls",
       "_view_module_version": "1.5.0",
       "_view_name": "HTMLView",
       "description": "",
       "description_tooltip": null,
       "layout": "IPY_MODEL_431a38894513433187bba3f70366bcbc",
       "placeholder": "​",
       "style": "IPY_MODEL_7f9568f43ca8486ca7e83a37869b669a",
       "value": " 740M/740M [00:02&lt;00:00, 309MB/s]"
      }
     },
     "ebfac04631ef4502bcc6426e4fa2868b": {
      "model_module": "@jupyter-widgets/controls",
      "model_module_version": "1.5.0",
      "model_name": "HTMLModel",
      "state": {
       "_dom_classes": [],
       "_model_module": "@jupyter-widgets/controls",
       "_model_module_version": "1.5.0",
       "_model_name": "HTMLModel",
       "_view_count": null,
       "_view_module": "@jupyter-widgets/controls",
       "_view_module_version": "1.5.0",
       "_view_name": "HTMLView",
       "description": "",
       "description_tooltip": null,
       "layout": "IPY_MODEL_28e2274888654c3d9c333cb14594d48f",
       "placeholder": "​",
       "style": "IPY_MODEL_1f094a26ec524152afa15844a333867d",
       "value": "Downloading tf_model.h5: 100%"
      }
     },
     "ef2b9e35bdaf425d8fd50947b3e3d848": {
      "model_module": "@jupyter-widgets/controls",
      "model_module_version": "1.5.0",
      "model_name": "DescriptionStyleModel",
      "state": {
       "_model_module": "@jupyter-widgets/controls",
       "_model_module_version": "1.5.0",
       "_model_name": "DescriptionStyleModel",
       "_view_count": null,
       "_view_module": "@jupyter-widgets/base",
       "_view_module_version": "1.2.0",
       "_view_name": "StyleView",
       "description_width": ""
      }
     },
     "f8dc36789d7242cba6beaec634de50b1": {
      "model_module": "@jupyter-widgets/controls",
      "model_module_version": "1.5.0",
      "model_name": "ProgressStyleModel",
      "state": {
       "_model_module": "@jupyter-widgets/controls",
       "_model_module_version": "1.5.0",
       "_model_name": "ProgressStyleModel",
       "_view_count": null,
       "_view_module": "@jupyter-widgets/base",
       "_view_module_version": "1.2.0",
       "_view_name": "StyleView",
       "bar_color": null,
       "description_width": ""
      }
     },
     "fb68e828359b4c969dd323a946a4bc4c": {
      "model_module": "@jupyter-widgets/controls",
      "model_module_version": "1.5.0",
      "model_name": "HTMLModel",
      "state": {
       "_dom_classes": [],
       "_model_module": "@jupyter-widgets/controls",
       "_model_module_version": "1.5.0",
       "_model_name": "HTMLModel",
       "_view_count": null,
       "_view_module": "@jupyter-widgets/controls",
       "_view_module_version": "1.5.0",
       "_view_name": "HTMLView",
       "description": "",
       "description_tooltip": null,
       "layout": "IPY_MODEL_985be7ccb9f741e9b4f21b7d4a45d871",
       "placeholder": "​",
       "style": "IPY_MODEL_9f806c47471c47b3ad5e62f256b3754e",
       "value": " 843k/843k [00:00&lt;00:00, 4.48MB/s]"
      }
     },
     "fc6a417a2773487e9048f860e5fc131c": {
      "model_module": "@jupyter-widgets/controls",
      "model_module_version": "1.5.0",
      "model_name": "ProgressStyleModel",
      "state": {
       "_model_module": "@jupyter-widgets/controls",
       "_model_module_version": "1.5.0",
       "_model_name": "ProgressStyleModel",
       "_view_count": null,
       "_view_module": "@jupyter-widgets/base",
       "_view_module_version": "1.2.0",
       "_view_name": "StyleView",
       "bar_color": null,
       "description_width": ""
      }
     }
    },
    "version_major": 2,
    "version_minor": 0
   }
  }
 },
 "nbformat": 4,
 "nbformat_minor": 5
}
