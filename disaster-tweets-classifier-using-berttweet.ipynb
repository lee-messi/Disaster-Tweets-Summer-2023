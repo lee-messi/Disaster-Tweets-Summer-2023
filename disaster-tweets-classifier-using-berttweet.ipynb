{
 "cells": [
  {
   "cell_type": "code",
   "execution_count": 1,
   "id": "3e57c584",
   "metadata": {
    "_cell_guid": "b1076dfc-b9ad-4769-8c92-a6c4dae69d19",
    "_uuid": "8f2839f25d086af736a60e9eeb907d3b93b6e0e5",
    "execution": {
     "iopub.execute_input": "2023-07-27T00:27:15.293034Z",
     "iopub.status.busy": "2023-07-27T00:27:15.292239Z",
     "iopub.status.idle": "2023-07-27T00:28:01.077148Z",
     "shell.execute_reply": "2023-07-27T00:28:01.075848Z"
    },
    "papermill": {
     "duration": 45.796019,
     "end_time": "2023-07-27T00:28:01.080063",
     "exception": false,
     "start_time": "2023-07-27T00:27:15.284044",
     "status": "completed"
    },
    "tags": []
   },
   "outputs": [],
   "source": [
    "!pip install tensorflow --quiet\n",
    "!pip install tensorflow-hub --quiet\n",
    "!pip install tensorflow-text --quiet\n",
    "!pip install transformers --quiet"
   ]
  },
  {
   "cell_type": "code",
   "execution_count": 2,
   "id": "9e68f6a4",
   "metadata": {
    "execution": {
     "iopub.execute_input": "2023-07-27T00:28:01.093860Z",
     "iopub.status.busy": "2023-07-27T00:28:01.093543Z",
     "iopub.status.idle": "2023-07-27T00:28:15.058860Z",
     "shell.execute_reply": "2023-07-27T00:28:15.057883Z"
    },
    "papermill": {
     "duration": 13.974853,
     "end_time": "2023-07-27T00:28:15.061329",
     "exception": false,
     "start_time": "2023-07-27T00:28:01.086476",
     "status": "completed"
    },
    "tags": []
   },
   "outputs": [
    {
     "name": "stderr",
     "output_type": "stream",
     "text": [
      "/opt/conda/lib/python3.10/site-packages/scipy/__init__.py:146: UserWarning: A NumPy version >=1.16.5 and <1.23.0 is required for this version of SciPy (detected version 1.23.5\n",
      "  warnings.warn(f\"A NumPy version >={np_minversion} and <{np_maxversion}\"\n",
      "/opt/conda/lib/python3.10/site-packages/tensorflow_io/python/ops/__init__.py:98: UserWarning: unable to load libtensorflow_io_plugins.so: unable to open file: libtensorflow_io_plugins.so, from paths: ['/opt/conda/lib/python3.10/site-packages/tensorflow_io/python/ops/libtensorflow_io_plugins.so']\n",
      "caused by: ['/opt/conda/lib/python3.10/site-packages/tensorflow_io/python/ops/libtensorflow_io_plugins.so: undefined symbol: _ZN3tsl6StatusC1EN10tensorflow5error4CodeESt17basic_string_viewIcSt11char_traitsIcEENS_14SourceLocationE']\n",
      "  warnings.warn(f\"unable to load libtensorflow_io_plugins.so: {e}\")\n",
      "/opt/conda/lib/python3.10/site-packages/tensorflow_io/python/ops/__init__.py:104: UserWarning: file system plugins are not loaded: unable to open file: libtensorflow_io.so, from paths: ['/opt/conda/lib/python3.10/site-packages/tensorflow_io/python/ops/libtensorflow_io.so']\n",
      "caused by: ['/opt/conda/lib/python3.10/site-packages/tensorflow_io/python/ops/libtensorflow_io.so: undefined symbol: _ZTVN10tensorflow13GcsFileSystemE']\n",
      "  warnings.warn(f\"file system plugins are not loaded: {e}\")\n",
      "/opt/conda/lib/python3.10/site-packages/tensorflow_addons/utils/tfa_eol_msg.py:23: UserWarning: \n",
      "\n",
      "TensorFlow Addons (TFA) has ended development and introduction of new features.\n",
      "TFA has entered a minimal maintenance and release mode until a planned end of life in May 2024.\n",
      "Please modify downstream libraries to take dependencies from other repositories in our TensorFlow community (e.g. Keras, Keras-CV, and Keras-NLP). \n",
      "\n",
      "For more information see: https://github.com/tensorflow/addons/issues/2807 \n",
      "\n",
      "  warnings.warn(\n"
     ]
    }
   ],
   "source": [
    "import os, re, random\n",
    "import numpy as np\n",
    "import pandas as pd\n",
    "import tensorflow as tf\n",
    "import tensorflow_hub as hub\n",
    "import tensorflow_text as text\n",
    "import tensorflow_addons as tfa\n",
    "import matplotlib.pyplot as plt\n",
    "from sklearn.model_selection import train_test_split\n",
    "from transformers import AutoTokenizer,TFRobertaModel\n",
    "\n",
    "tf.get_logger().setLevel('ERROR')\n",
    "pd.set_option('display.max_colwidth', None)\n",
    "os.environ[\"TFHUB_MODEL_LOAD_FORMAT\"]=\"UNCOMPRESSED\""
   ]
  },
  {
   "cell_type": "code",
   "execution_count": 3,
   "id": "dd6f62d2",
   "metadata": {
    "execution": {
     "iopub.execute_input": "2023-07-27T00:28:15.076602Z",
     "iopub.status.busy": "2023-07-27T00:28:15.075176Z",
     "iopub.status.idle": "2023-07-27T00:28:15.142281Z",
     "shell.execute_reply": "2023-07-27T00:28:15.141387Z"
    },
    "papermill": {
     "duration": 0.076517,
     "end_time": "2023-07-27T00:28:15.144276",
     "exception": false,
     "start_time": "2023-07-27T00:28:15.067759",
     "status": "completed"
    },
    "tags": []
   },
   "outputs": [],
   "source": [
    "train = pd.read_csv(\"/kaggle/input/nlp-getting-started/train.csv\")\n",
    "test = pd.read_csv(\"/kaggle/input/nlp-getting-started/test.csv\")"
   ]
  },
  {
   "cell_type": "markdown",
   "id": "3d667d51",
   "metadata": {
    "papermill": {
     "duration": 0.005925,
     "end_time": "2023-07-27T00:28:15.156717",
     "exception": false,
     "start_time": "2023-07-27T00:28:15.150792",
     "status": "completed"
    },
    "tags": []
   },
   "source": [
    "## Preprocess the Dataset"
   ]
  },
  {
   "cell_type": "markdown",
   "id": "3e351fb3",
   "metadata": {
    "papermill": {
     "duration": 0.005897,
     "end_time": "2023-07-27T00:28:15.168811",
     "exception": false,
     "start_time": "2023-07-27T00:28:15.162914",
     "status": "completed"
    },
    "tags": []
   },
   "source": [
    "Here, we are going to use the same set of pre-processing steps we used in [one of the previous notebooks](https://www.kaggle.com/code/l048596/disaster-tweets-classifier-using-bert). You can find a detailed explanation of the steps in the link."
   ]
  },
  {
   "cell_type": "code",
   "execution_count": 4,
   "id": "510e676a",
   "metadata": {
    "execution": {
     "iopub.execute_input": "2023-07-27T00:28:15.182449Z",
     "iopub.status.busy": "2023-07-27T00:28:15.182127Z",
     "iopub.status.idle": "2023-07-27T00:28:15.309744Z",
     "shell.execute_reply": "2023-07-27T00:28:15.308379Z"
    },
    "papermill": {
     "duration": 0.13698,
     "end_time": "2023-07-27T00:28:15.311939",
     "exception": false,
     "start_time": "2023-07-27T00:28:15.174959",
     "status": "completed"
    },
    "tags": []
   },
   "outputs": [
    {
     "name": "stdout",
     "output_type": "stream",
     "text": [
      "[4, 7, 12, 15, 24, 26, 33, 34, 35, 36, 38, 39, 42, 44, 46, 51, 55, 58]\n"
     ]
    }
   ],
   "source": [
    "duplicates = train[train.duplicated('text')]\n",
    "problematic_duplicates = []\n",
    "\n",
    "for i in range(duplicates.text.nunique()):\n",
    "    duplicate_subset = train[train.text == duplicates.text.unique()[i]]\n",
    "    if len(duplicate_subset) > 1 and duplicate_subset.target.nunique() == 2:\n",
    "        problematic_duplicates.append(i)\n",
    "        \n",
    "print(problematic_duplicates)"
   ]
  },
  {
   "cell_type": "code",
   "execution_count": 5,
   "id": "d6b6e796",
   "metadata": {
    "execution": {
     "iopub.execute_input": "2023-07-27T00:28:15.325906Z",
     "iopub.status.busy": "2023-07-27T00:28:15.325608Z",
     "iopub.status.idle": "2023-07-27T00:28:15.359031Z",
     "shell.execute_reply": "2023-07-27T00:28:15.358145Z"
    },
    "papermill": {
     "duration": 0.042872,
     "end_time": "2023-07-27T00:28:15.361179",
     "exception": false,
     "start_time": "2023-07-27T00:28:15.318307",
     "status": "completed"
    },
    "tags": []
   },
   "outputs": [],
   "source": [
    "target_list = [0,0,0,0,1,0,0,0,1,0,0,0,0,0,1,1,0,0]\n",
    "\n",
    "for problematic_index in range(len(problematic_duplicates)): \n",
    "    train.target = np.where(train.text == duplicates.text.unique()[problematic_index], \n",
    "                            target_list[problematic_index], train.target)"
   ]
  },
  {
   "cell_type": "code",
   "execution_count": 6,
   "id": "95b97da2",
   "metadata": {
    "execution": {
     "iopub.execute_input": "2023-07-27T00:28:15.374956Z",
     "iopub.status.busy": "2023-07-27T00:28:15.374682Z",
     "iopub.status.idle": "2023-07-27T00:28:15.382566Z",
     "shell.execute_reply": "2023-07-27T00:28:15.381719Z"
    },
    "papermill": {
     "duration": 0.017097,
     "end_time": "2023-07-27T00:28:15.384602",
     "exception": false,
     "start_time": "2023-07-27T00:28:15.367505",
     "status": "completed"
    },
    "tags": []
   },
   "outputs": [],
   "source": [
    "def clean_text(dataframe):\n",
    "    dataframe.text = dataframe.text.apply(lambda x: str.lower(x))\n",
    "    dataframe.text = dataframe.text.apply(lambda x: re.sub(r'http\\S+', '', x))\n",
    "    dataframe.text = dataframe.text.apply(lambda x: re.sub(r'#', '', x))\n",
    "    dataframe.text = dataframe.text.apply(lambda x: re.sub(r'@', '', x))\n",
    "    dataframe.text = dataframe.text.apply(lambda x: re.sub(r'\\n', '', x))\n",
    "    dataframe.text = dataframe.text.apply(lambda x: re.sub('[^a-zA-z0-9\\s]', '', x))\n",
    "    return(dataframe)"
   ]
  },
  {
   "cell_type": "code",
   "execution_count": 7,
   "id": "9ae2537b",
   "metadata": {
    "execution": {
     "iopub.execute_input": "2023-07-27T00:28:15.398510Z",
     "iopub.status.busy": "2023-07-27T00:28:15.397711Z",
     "iopub.status.idle": "2023-07-27T00:28:15.501916Z",
     "shell.execute_reply": "2023-07-27T00:28:15.500961Z"
    },
    "papermill": {
     "duration": 0.113719,
     "end_time": "2023-07-27T00:28:15.504372",
     "exception": false,
     "start_time": "2023-07-27T00:28:15.390653",
     "status": "completed"
    },
    "tags": []
   },
   "outputs": [],
   "source": [
    "clean_train = clean_text(train)\n",
    "clean_train_balanced = clean_train.groupby('target').sample(3000, random_state = 1048596)"
   ]
  },
  {
   "cell_type": "code",
   "execution_count": 8,
   "id": "517feafb",
   "metadata": {
    "execution": {
     "iopub.execute_input": "2023-07-27T00:28:15.518520Z",
     "iopub.status.busy": "2023-07-27T00:28:15.518192Z",
     "iopub.status.idle": "2023-07-27T00:28:15.533973Z",
     "shell.execute_reply": "2023-07-27T00:28:15.533085Z"
    },
    "papermill": {
     "duration": 0.025091,
     "end_time": "2023-07-27T00:28:15.536010",
     "exception": false,
     "start_time": "2023-07-27T00:28:15.510919",
     "status": "completed"
    },
    "tags": []
   },
   "outputs": [
    {
     "data": {
      "text/html": [
       "<div>\n",
       "<style scoped>\n",
       "    .dataframe tbody tr th:only-of-type {\n",
       "        vertical-align: middle;\n",
       "    }\n",
       "\n",
       "    .dataframe tbody tr th {\n",
       "        vertical-align: top;\n",
       "    }\n",
       "\n",
       "    .dataframe thead th {\n",
       "        text-align: right;\n",
       "    }\n",
       "</style>\n",
       "<table border=\"1\" class=\"dataframe\">\n",
       "  <thead>\n",
       "    <tr style=\"text-align: right;\">\n",
       "      <th></th>\n",
       "      <th>id</th>\n",
       "      <th>keyword</th>\n",
       "      <th>location</th>\n",
       "      <th>text</th>\n",
       "      <th>target</th>\n",
       "    </tr>\n",
       "  </thead>\n",
       "  <tbody>\n",
       "    <tr>\n",
       "      <th>7342</th>\n",
       "      <td>10513</td>\n",
       "      <td>wildfire</td>\n",
       "      <td>Columbus, OH</td>\n",
       "      <td>i honestly wonder what it is that i had to do so wrong to lose everyone</td>\n",
       "      <td>0</td>\n",
       "    </tr>\n",
       "    <tr>\n",
       "      <th>4795</th>\n",
       "      <td>6821</td>\n",
       "      <td>loud%20bang</td>\n",
       "      <td>Wandsworth, London</td>\n",
       "      <td>sw_trains strange loud impact bang noises under train to epsom about to arrive wimbledon</td>\n",
       "      <td>0</td>\n",
       "    </tr>\n",
       "    <tr>\n",
       "      <th>1652</th>\n",
       "      <td>2387</td>\n",
       "      <td>collapsed</td>\n",
       "      <td>I'm standing behind you</td>\n",
       "      <td>rokiieee_ the game has officially collapsed</td>\n",
       "      <td>0</td>\n",
       "    </tr>\n",
       "    <tr>\n",
       "      <th>1435</th>\n",
       "      <td>2070</td>\n",
       "      <td>casualty</td>\n",
       "      <td>Santa Monica, CA</td>\n",
       "      <td>1st quality insurance group is hiring licensed property amp casualty insurance agent produc  jobs denver</td>\n",
       "      <td>0</td>\n",
       "    </tr>\n",
       "    <tr>\n",
       "      <th>1666</th>\n",
       "      <td>2408</td>\n",
       "      <td>collide</td>\n",
       "      <td>NaN</td>\n",
       "      <td>and when those waves shall ripple collide its on the tide of your love i will survive love lesleychappelle</td>\n",
       "      <td>0</td>\n",
       "    </tr>\n",
       "  </tbody>\n",
       "</table>\n",
       "</div>"
      ],
      "text/plain": [
       "         id      keyword                 location  \\\n",
       "7342  10513     wildfire             Columbus, OH   \n",
       "4795   6821  loud%20bang       Wandsworth, London   \n",
       "1652   2387    collapsed  I'm standing behind you   \n",
       "1435   2070     casualty         Santa Monica, CA   \n",
       "1666   2408      collide                      NaN   \n",
       "\n",
       "                                                                                                            text  \\\n",
       "7342                                     i honestly wonder what it is that i had to do so wrong to lose everyone   \n",
       "4795                    sw_trains strange loud impact bang noises under train to epsom about to arrive wimbledon   \n",
       "1652                                                                 rokiieee_ the game has officially collapsed   \n",
       "1435    1st quality insurance group is hiring licensed property amp casualty insurance agent produc  jobs denver   \n",
       "1666  and when those waves shall ripple collide its on the tide of your love i will survive love lesleychappelle   \n",
       "\n",
       "      target  \n",
       "7342       0  \n",
       "4795       0  \n",
       "1652       0  \n",
       "1435       0  \n",
       "1666       0  "
      ]
     },
     "execution_count": 8,
     "metadata": {},
     "output_type": "execute_result"
    }
   ],
   "source": [
    "clean_train_balanced.head(5)"
   ]
  },
  {
   "cell_type": "markdown",
   "id": "7d375529",
   "metadata": {
    "papermill": {
     "duration": 0.006169,
     "end_time": "2023-07-27T00:28:15.548647",
     "exception": false,
     "start_time": "2023-07-27T00:28:15.542478",
     "status": "completed"
    },
    "tags": []
   },
   "source": [
    "In this notebook, we are going to use **train_test_split** instead of **np.split** to split our dataset into training and validation datasets. This just helps us better reference the texts and labels to use when training the model. "
   ]
  },
  {
   "cell_type": "code",
   "execution_count": 9,
   "id": "7afbdedc",
   "metadata": {
    "execution": {
     "iopub.execute_input": "2023-07-27T00:28:15.562398Z",
     "iopub.status.busy": "2023-07-27T00:28:15.562128Z",
     "iopub.status.idle": "2023-07-27T00:28:15.569704Z",
     "shell.execute_reply": "2023-07-27T00:28:15.568855Z"
    },
    "papermill": {
     "duration": 0.016825,
     "end_time": "2023-07-27T00:28:15.571765",
     "exception": false,
     "start_time": "2023-07-27T00:28:15.554940",
     "status": "completed"
    },
    "tags": []
   },
   "outputs": [],
   "source": [
    "x_train, x_val, y_train, y_val = train_test_split(clean_train_balanced.text, \n",
    "                                                  clean_train_balanced.target, \n",
    "                                                  train_size = 0.85, \n",
    "                                                  random_state = 1048596)"
   ]
  },
  {
   "cell_type": "markdown",
   "id": "69bc1c1b",
   "metadata": {
    "papermill": {
     "duration": 0.006137,
     "end_time": "2023-07-27T00:28:15.584233",
     "exception": false,
     "start_time": "2023-07-27T00:28:15.578096",
     "status": "completed"
    },
    "tags": []
   },
   "source": [
    "The biggest change in this iteration is the tokenizer and the BERT model we are going to fine-tune for the classification task. So far, we have been using BERT-base and Small-BERT models that are made available through tensorflow hub. However, given that we are attempting to classify tweets, there may be pre-trained models that are more appropriate for the purpose of classifying tweets. **BERTweet** is a pre-trained language model designed forr English tweets and have been shown to perform better compared to other state-of-the-art language models for many NLP tasks including text classification. "
   ]
  },
  {
   "cell_type": "code",
   "execution_count": 10,
   "id": "cca96625",
   "metadata": {
    "execution": {
     "iopub.execute_input": "2023-07-27T00:28:15.598616Z",
     "iopub.status.busy": "2023-07-27T00:28:15.597722Z",
     "iopub.status.idle": "2023-07-27T00:28:17.000831Z",
     "shell.execute_reply": "2023-07-27T00:28:16.999808Z"
    },
    "papermill": {
     "duration": 1.412525,
     "end_time": "2023-07-27T00:28:17.003153",
     "exception": false,
     "start_time": "2023-07-27T00:28:15.590628",
     "status": "completed"
    },
    "tags": []
   },
   "outputs": [
    {
     "data": {
      "application/vnd.jupyter.widget-view+json": {
       "model_id": "fa7df5770363483d80fa8e396c126b67",
       "version_major": 2,
       "version_minor": 0
      },
      "text/plain": [
       "Downloading (…)lve/main/config.json:   0%|          | 0.00/558 [00:00<?, ?B/s]"
      ]
     },
     "metadata": {},
     "output_type": "display_data"
    },
    {
     "data": {
      "application/vnd.jupyter.widget-view+json": {
       "model_id": "9f84237d79ab4b999916d573a0ce6e0a",
       "version_major": 2,
       "version_minor": 0
      },
      "text/plain": [
       "Downloading (…)solve/main/vocab.txt:   0%|          | 0.00/843k [00:00<?, ?B/s]"
      ]
     },
     "metadata": {},
     "output_type": "display_data"
    },
    {
     "data": {
      "application/vnd.jupyter.widget-view+json": {
       "model_id": "aa2d2614c2c848c398fea2b128cd902e",
       "version_major": 2,
       "version_minor": 0
      },
      "text/plain": [
       "Downloading (…)solve/main/bpe.codes:   0%|          | 0.00/1.08M [00:00<?, ?B/s]"
      ]
     },
     "metadata": {},
     "output_type": "display_data"
    },
    {
     "name": "stderr",
     "output_type": "stream",
     "text": [
      "Special tokens have been added in the vocabulary, make sure the associated word embeddings are fine-tuned or trained.\n"
     ]
    }
   ],
   "source": [
    "tokenizer = AutoTokenizer.from_pretrained('vinai/bertweet-base', \n",
    "                                          normalization = True, \n",
    "                                          use_fast = False,\n",
    "                                          add_special_tokens = True,\n",
    "                                          pad_to_max_length = True,\n",
    "                                          return_attention_mask = True)"
   ]
  },
  {
   "cell_type": "code",
   "execution_count": 11,
   "id": "56f215d2",
   "metadata": {
    "execution": {
     "iopub.execute_input": "2023-07-27T00:28:17.019896Z",
     "iopub.status.busy": "2023-07-27T00:28:17.018750Z",
     "iopub.status.idle": "2023-07-27T00:28:31.886243Z",
     "shell.execute_reply": "2023-07-27T00:28:31.885248Z"
    },
    "papermill": {
     "duration": 14.878216,
     "end_time": "2023-07-27T00:28:31.888759",
     "exception": false,
     "start_time": "2023-07-27T00:28:17.010543",
     "status": "completed"
    },
    "tags": []
   },
   "outputs": [],
   "source": [
    "train_token = tokenizer(x_train.tolist(), \n",
    "                        padding = \"max_length\", \n",
    "                        truncation = True).data\n",
    "\n",
    "val_token = tokenizer(x_val.tolist(),\n",
    "                      padding = \"max_length\", \n",
    "                      truncation = True).data\n",
    "\n",
    "train_features = {x: train_token[x] for x in tokenizer.model_input_names}\n",
    "train_features = tf.data.Dataset.from_tensor_slices((train_features, y_train))\n",
    "train_features = train_features.shuffle(len(x_train)).batch(32).prefetch(tf.data.AUTOTUNE)\n",
    "\n",
    "val_features = {x: val_token[x] for x in tokenizer.model_input_names}\n",
    "val_features = tf.data.Dataset.from_tensor_slices((val_features, y_val))\n",
    "val_features = val_features.shuffle(len(x_val)).batch(32).prefetch(tf.data.AUTOTUNE)"
   ]
  },
  {
   "cell_type": "code",
   "execution_count": 12,
   "id": "67bb2db5",
   "metadata": {
    "execution": {
     "iopub.execute_input": "2023-07-27T00:28:31.905178Z",
     "iopub.status.busy": "2023-07-27T00:28:31.904210Z",
     "iopub.status.idle": "2023-07-27T00:28:45.624894Z",
     "shell.execute_reply": "2023-07-27T00:28:45.622617Z"
    },
    "papermill": {
     "duration": 13.731034,
     "end_time": "2023-07-27T00:28:45.627105",
     "exception": false,
     "start_time": "2023-07-27T00:28:31.896071",
     "status": "completed"
    },
    "tags": []
   },
   "outputs": [
    {
     "data": {
      "application/vnd.jupyter.widget-view+json": {
       "model_id": "0ab71a4eed264d70a679b061599be9ec",
       "version_major": 2,
       "version_minor": 0
      },
      "text/plain": [
       "Downloading tf_model.h5:   0%|          | 0.00/740M [00:00<?, ?B/s]"
      ]
     },
     "metadata": {},
     "output_type": "display_data"
    },
    {
     "name": "stderr",
     "output_type": "stream",
     "text": [
      "Some layers from the model checkpoint at vinai/bertweet-base were not used when initializing TFRobertaModel: ['lm_head']\n",
      "- This IS expected if you are initializing TFRobertaModel from the checkpoint of a model trained on another task or with another architecture (e.g. initializing a BertForSequenceClassification model from a BertForPreTraining model).\n",
      "- This IS NOT expected if you are initializing TFRobertaModel from the checkpoint of a model that you expect to be exactly identical (initializing a BertForSequenceClassification model from a BertForSequenceClassification model).\n",
      "All the layers of TFRobertaModel were initialized from the model checkpoint at vinai/bertweet-base.\n",
      "If your task is similar to the task the model of the checkpoint was trained on, you can already use TFRobertaModel for predictions without further training.\n",
      "/opt/conda/lib/python3.10/site-packages/keras/optimizers/legacy/adam.py:117: UserWarning: The `lr` argument is deprecated, use `learning_rate` instead.\n",
      "  super().__init__(name, **kwargs)\n"
     ]
    }
   ],
   "source": [
    "bert_model = TFRobertaModel.from_pretrained(\"vinai/bertweet-base\")\n",
    "\n",
    "input_ids = tf.keras.Input(shape=(128,), dtype = 'int32', name = 'input_ids')\n",
    "attention_masks = tf.keras.Input(shape=(128,), dtype ='int32', name = 'attention_mask')\n",
    "\n",
    "output = bert_model([input_ids,attention_masks])[1]\n",
    "output = tf.keras.layers.Dense(1,activation='sigmoid')(output)\n",
    "\n",
    "model = tf.keras.models.Model(inputs = [input_ids,attention_masks], outputs = output)\n",
    "model.compile(optimizer=tfa.optimizers.AdamW(weight_decay = 1e-6, lr=1e-5), loss='binary_crossentropy',metrics = ['accuracy'])\n",
    "\n",
    "#only training last layer:\n",
    "model.layers[2].trainable = False"
   ]
  },
  {
   "cell_type": "code",
   "execution_count": 13,
   "id": "c94ee339",
   "metadata": {
    "execution": {
     "iopub.execute_input": "2023-07-27T00:28:45.645196Z",
     "iopub.status.busy": "2023-07-27T00:28:45.643795Z",
     "iopub.status.idle": "2023-07-27T00:28:45.650072Z",
     "shell.execute_reply": "2023-07-27T00:28:45.649226Z"
    },
    "papermill": {
     "duration": 0.016861,
     "end_time": "2023-07-27T00:28:45.652050",
     "exception": false,
     "start_time": "2023-07-27T00:28:45.635189",
     "status": "completed"
    },
    "tags": []
   },
   "outputs": [],
   "source": [
    "early_stopping = tf.keras.callbacks.EarlyStopping(monitor = 'val_loss', patience = 2)\n",
    "\n",
    "model_checkpoint_callback = tf.keras.callbacks.ModelCheckpoint(\n",
    "    filepath = 'model/best_performed_model.ckpt',\n",
    "    save_weights_only = True,\n",
    "    save_best_only = True,\n",
    "    monitor = 'val_loss',\n",
    "    verbose = 1\n",
    ")"
   ]
  },
  {
   "cell_type": "code",
   "execution_count": 14,
   "id": "867a1480",
   "metadata": {
    "execution": {
     "iopub.execute_input": "2023-07-27T00:28:45.669052Z",
     "iopub.status.busy": "2023-07-27T00:28:45.667654Z",
     "iopub.status.idle": "2023-07-27T00:34:44.717222Z",
     "shell.execute_reply": "2023-07-27T00:34:44.716171Z"
    },
    "papermill": {
     "duration": 359.060253,
     "end_time": "2023-07-27T00:34:44.719589",
     "exception": false,
     "start_time": "2023-07-27T00:28:45.659336",
     "status": "completed"
    },
    "tags": []
   },
   "outputs": [
    {
     "name": "stdout",
     "output_type": "stream",
     "text": [
      "Epoch 1/30\n"
     ]
    },
    {
     "name": "stderr",
     "output_type": "stream",
     "text": [
      "/opt/conda/lib/python3.10/site-packages/keras/engine/functional.py:639: UserWarning: Input dict contained keys ['token_type_ids'] which did not match any model input. They will be ignored by the model.\n",
      "  inputs = self._flatten_to_reference_inputs(inputs)\n"
     ]
    },
    {
     "name": "stdout",
     "output_type": "stream",
     "text": [
      "160/160 [==============================] - ETA: 0s - loss: 0.4756 - accuracy: 0.7800\n",
      "Epoch 1: val_loss improved from inf to 0.41598, saving model to model/best_performed_model.ckpt\n",
      "160/160 [==============================] - 109s 565ms/step - loss: 0.4756 - accuracy: 0.7800 - val_loss: 0.4160 - val_accuracy: 0.8244\n",
      "Epoch 2/30\n",
      "160/160 [==============================] - ETA: 0s - loss: 0.3691 - accuracy: 0.8453\n",
      "Epoch 2: val_loss improved from 0.41598 to 0.40703, saving model to model/best_performed_model.ckpt\n",
      "160/160 [==============================] - 87s 543ms/step - loss: 0.3691 - accuracy: 0.8453 - val_loss: 0.4070 - val_accuracy: 0.8233\n",
      "Epoch 3/30\n",
      "160/160 [==============================] - ETA: 0s - loss: 0.3133 - accuracy: 0.8765\n",
      "Epoch 3: val_loss did not improve from 0.40703\n",
      "160/160 [==============================] - 82s 510ms/step - loss: 0.3133 - accuracy: 0.8765 - val_loss: 0.4456 - val_accuracy: 0.8089\n",
      "Epoch 4/30\n",
      "160/160 [==============================] - ETA: 0s - loss: 0.2748 - accuracy: 0.8937\n",
      "Epoch 4: val_loss did not improve from 0.40703\n",
      "160/160 [==============================] - 82s 510ms/step - loss: 0.2748 - accuracy: 0.8937 - val_loss: 0.4478 - val_accuracy: 0.8211\n"
     ]
    }
   ],
   "source": [
    "history = model.fit(train_features, \n",
    "                    epochs = 30,\n",
    "                    validation_data = val_features,\n",
    "                    callbacks = [early_stopping, model_checkpoint_callback])"
   ]
  },
  {
   "cell_type": "code",
   "execution_count": 15,
   "id": "a295bf02",
   "metadata": {
    "execution": {
     "iopub.execute_input": "2023-07-27T00:34:44.834059Z",
     "iopub.status.busy": "2023-07-27T00:34:44.833721Z",
     "iopub.status.idle": "2023-07-27T00:34:45.114304Z",
     "shell.execute_reply": "2023-07-27T00:34:45.113377Z"
    },
    "papermill": {
     "duration": 0.340331,
     "end_time": "2023-07-27T00:34:45.116360",
     "exception": false,
     "start_time": "2023-07-27T00:34:44.776029",
     "status": "completed"
    },
    "tags": []
   },
   "outputs": [
    {
     "data": {
      "image/png": "[encoded data removed]",
      "text/plain": [
       "<Figure size 640x480 with 1 Axes>"
      ]
     },
     "metadata": {},
     "output_type": "display_data"
    }
   ],
   "source": [
    "plt.plot(history.history['accuracy'])\n",
    "plt.plot(history.history['val_accuracy'])\n",
    "plt.legend(['training', 'validation'])\n",
    "plt.show()"
   ]
  },
  {
   "cell_type": "code",
   "execution_count": 16,
   "id": "bd915e85",
   "metadata": {
    "execution": {
     "iopub.execute_input": "2023-07-27T00:34:45.231723Z",
     "iopub.status.busy": "2023-07-27T00:34:45.231330Z",
     "iopub.status.idle": "2023-07-27T00:34:46.517799Z",
     "shell.execute_reply": "2023-07-27T00:34:46.516793Z"
    },
    "papermill": {
     "duration": 1.347608,
     "end_time": "2023-07-27T00:34:46.520403",
     "exception": false,
     "start_time": "2023-07-27T00:34:45.172795",
     "status": "completed"
    },
    "tags": []
   },
   "outputs": [],
   "source": [
    "clean_test = clean_text(test)\n",
    "\n",
    "test_token = tokenizer(clean_test.text.tolist(), \n",
    "                       padding = \"max_length\", \n",
    "                       truncation = True,\n",
    "                       return_tensors='tf').data"
   ]
  },
  {
   "cell_type": "code",
   "execution_count": 17,
   "id": "613f021b",
   "metadata": {
    "execution": {
     "iopub.execute_input": "2023-07-27T00:34:46.637683Z",
     "iopub.status.busy": "2023-07-27T00:34:46.637295Z",
     "iopub.status.idle": "2023-07-27T00:35:10.065318Z",
     "shell.execute_reply": "2023-07-27T00:35:10.064268Z"
    },
    "papermill": {
     "duration": 23.488321,
     "end_time": "2023-07-27T00:35:10.067921",
     "exception": false,
     "start_time": "2023-07-27T00:34:46.579600",
     "status": "completed"
    },
    "tags": []
   },
   "outputs": [
    {
     "name": "stdout",
     "output_type": "stream",
     "text": [
      "102/102 [==============================] - 20s 166ms/step\n"
     ]
    }
   ],
   "source": [
    "predictions = model.predict(test_token)"
   ]
  },
  {
   "cell_type": "code",
   "execution_count": 18,
   "id": "94aff175",
   "metadata": {
    "execution": {
     "iopub.execute_input": "2023-07-27T00:35:10.197775Z",
     "iopub.status.busy": "2023-07-27T00:35:10.196824Z",
     "iopub.status.idle": "2023-07-27T00:35:10.358217Z",
     "shell.execute_reply": "2023-07-27T00:35:10.357289Z"
    },
    "papermill": {
     "duration": 0.228507,
     "end_time": "2023-07-27T00:35:10.360598",
     "exception": false,
     "start_time": "2023-07-27T00:35:10.132091",
     "status": "completed"
    },
    "tags": []
   },
   "outputs": [],
   "source": [
    "final_predictions = [(x > 0.5).astype(int) for x in predictions]\n",
    "predictions_df = pd.DataFrame(list(zip(test.id, final_predictions)),\n",
    "                              columns = ['id', 'target'])\n",
    "\n",
    "predictions_df.to_csv('predictions.csv', index = False)"
   ]
  }
 ],
 "metadata": {
  "kernelspec": {
   "display_name": "Python 3",
   "language": "python",
   "name": "python3"
  },
  "language_info": {
   "codemirror_mode": {
    "name": "ipython",
    "version": 3
   },
   "file_extension": ".py",
   "mimetype": "text/x-python",
   "name": "python",
   "nbconvert_exporter": "python",
   "pygments_lexer": "ipython3",
   "version": "3.10.12"
  },
  "papermill": {
   "default_parameters": {},
   "duration": 488.972256,
   "end_time": "2023-07-27T00:35:14.220042",
   "environment_variables": {},
   "exception": null,
   "input_path": "__notebook__.ipynb",
   "output_path": "__notebook__.ipynb",
   "parameters": {},
   "start_time": "2023-07-27T00:27:05.247786",
   "version": "2.4.0"
  },
  "widgets": {
   "application/vnd.jupyter.widget-state+json": {
    "state": {
     "0366b068926c46a79324372fdda0d3fe": {
      "model_module": "@jupyter-widgets/controls",
      "model_module_version": "1.5.0",
      "model_name": "ProgressStyleModel",
      "state": {
       "_model_module": "@jupyter-widgets/controls",
       "_model_module_version": "1.5.0",
       "_model_name": "ProgressStyleModel",
       "_view_count": null,
       "_view_module": "@jupyter-widgets/base",
       "_view_module_version": "1.2.0",
       "_view_name": "StyleView",
       "bar_color": null,
       "description_width": ""
      }
     },
     "054fecc8b43e4ef79eea77bade21d7a0": {
      "model_module": "@jupyter-widgets/base",
      "model_module_version": "1.2.0",
      "model_name": "LayoutModel",
      "state": {
       "_model_module": "@jupyter-widgets/base",
       "_model_module_version": "1.2.0",
       "_model_name": "LayoutModel",
       "_view_count": null,
       "_view_module": "@jupyter-widgets/base",
       "_view_module_version": "1.2.0",
       "_view_name": "LayoutView",
       "align_content": null,
       "align_items": null,
       "align_self": null,
       "border": null,
       "bottom": null,
       "display": null,
       "flex": null,
       "flex_flow": null,
       "grid_area": null,
       "grid_auto_columns": null,
       "grid_auto_flow": null,
       "grid_auto_rows": null,
       "grid_column": null,
       "grid_gap": null,
       "grid_row": null,
       "grid_template_areas": null,
       "grid_template_columns": null,
       "grid_template_rows": null,
       "height": null,
       "justify_content": null,
       "justify_items": null,
       "left": null,
       "margin": null,
       "max_height": null,
       "max_width": null,
       "min_height": null,
       "min_width": null,
       "object_fit": null,
       "object_position": null,
       "order": null,
       "overflow": null,
       "overflow_x": null,
       "overflow_y": null,
       "padding": null,
       "right": null,
       "top": null,
       "visibility": null,
       "width": null
      }
     },
     "05a894a52af44c09bd1a69d86d2e7ea9": {
      "model_module": "@jupyter-widgets/base",
      "model_module_version": "1.2.0",
      "model_name": "LayoutModel",
      "state": {
       "_model_module": "@jupyter-widgets/base",
       "_model_module_version": "1.2.0",
       "_model_name": "LayoutModel",
       "_view_count": null,
       "_view_module": "@jupyter-widgets/base",
       "_view_module_version": "1.2.0",
       "_view_name": "LayoutView",
       "align_content": null,
       "align_items": null,
       "align_self": null,
       "border": null,
       "bottom": null,
       "display": null,
       "flex": null,
       "flex_flow": null,
       "grid_area": null,
       "grid_auto_columns": null,
       "grid_auto_flow": null,
       "grid_auto_rows": null,
       "grid_column": null,
       "grid_gap": null,
       "grid_row": null,
       "grid_template_areas": null,
       "grid_template_columns": null,
       "grid_template_rows": null,
       "height": null,
       "justify_content": null,
       "justify_items": null,
       "left": null,
       "margin": null,
       "max_height": null,
       "max_width": null,
       "min_height": null,
       "min_width": null,
       "object_fit": null,
       "object_position": null,
       "order": null,
       "overflow": null,
       "overflow_x": null,
       "overflow_y": null,
       "padding": null,
       "right": null,
       "top": null,
       "visibility": null,
       "width": null
      }
     },
     "0ab71a4eed264d70a679b061599be9ec": {
      "model_module": "@jupyter-widgets/controls",
      "model_module_version": "1.5.0",
      "model_name": "HBoxModel",
      "state": {
       "_dom_classes": [],
       "_model_module": "@jupyter-widgets/controls",
       "_model_module_version": "1.5.0",
       "_model_name": "HBoxModel",
       "_view_count": null,
       "_view_module": "@jupyter-widgets/controls",
       "_view_module_version": "1.5.0",
       "_view_name": "HBoxView",
       "box_style": "",
       "children": [
        "IPY_MODEL_7f63bd8dde004b7393aefa5f716308ab",
        "IPY_MODEL_c95d8878126e474faa388f13dbe465c7",
        "IPY_MODEL_3f1be4aa01a34d4bb02964bab4399c14"
       ],
       "layout": "IPY_MODEL_725b9aa46457457d89743cfb90d006bd"
      }
     },
     "164f363d29ac400db4b91cf020963486": {
      "model_module": "@jupyter-widgets/base",
      "model_module_version": "1.2.0",
      "model_name": "LayoutModel",
      "state": {
       "_model_module": "@jupyter-widgets/base",
       "_model_module_version": "1.2.0",
       "_model_name": "LayoutModel",
       "_view_count": null,
       "_view_module": "@jupyter-widgets/base",
       "_view_module_version": "1.2.0",
       "_view_name": "LayoutView",
       "align_content": null,
       "align_items": null,
       "align_self": null,
       "border": null,
       "bottom": null,
       "display": null,
       "flex": null,
       "flex_flow": null,
       "grid_area": null,
       "grid_auto_columns": null,
       "grid_auto_flow": null,
       "grid_auto_rows": null,
       "grid_column": null,
       "grid_gap": null,
       "grid_row": null,
       "grid_template_areas": null,
       "grid_template_columns": null,
       "grid_template_rows": null,
       "height": null,
       "justify_content": null,
       "justify_items": null,
       "left": null,
       "margin": null,
       "max_height": null,
       "max_width": null,
       "min_height": null,
       "min_width": null,
       "object_fit": null,
       "object_position": null,
       "order": null,
       "overflow": null,
       "overflow_x": null,
       "overflow_y": null,
       "padding": null,
       "right": null,
       "top": null,
       "visibility": null,
       "width": null
      }
     },
     "1dd4efb07de8454784c875645114e4c0": {
      "model_module": "@jupyter-widgets/base",
      "model_module_version": "1.2.0",
      "model_name": "LayoutModel",
      "state": {
       "_model_module": "@jupyter-widgets/base",
       "_model_module_version": "1.2.0",
       "_model_name": "LayoutModel",
       "_view_count": null,
       "_view_module": "@jupyter-widgets/base",
       "_view_module_version": "1.2.0",
       "_view_name": "LayoutView",
       "align_content": null,
       "align_items": null,
       "align_self": null,
       "border": null,
       "bottom": null,
       "display": null,
       "flex": null,
       "flex_flow": null,
       "grid_area": null,
       "grid_auto_columns": null,
       "grid_auto_flow": null,
       "grid_auto_rows": null,
       "grid_column": null,
       "grid_gap": null,
       "grid_row": null,
       "grid_template_areas": null,
       "grid_template_columns": null,
       "grid_template_rows": null,
       "height": null,
       "justify_content": null,
       "justify_items": null,
       "left": null,
       "margin": null,
       "max_height": null,
       "max_width": null,
       "min_height": null,
       "min_width": null,
       "object_fit": null,
       "object_position": null,
       "order": null,
       "overflow": null,
       "overflow_x": null,
       "overflow_y": null,
       "padding": null,
       "right": null,
       "top": null,
       "visibility": null,
       "width": null
      }
     },
     "258408ae263c4c88ab34c1cfb825eef8": {
      "model_module": "@jupyter-widgets/base",
      "model_module_version": "1.2.0",
      "model_name": "LayoutModel",
      "state": {
       "_model_module": "@jupyter-widgets/base",
       "_model_module_version": "1.2.0",
       "_model_name": "LayoutModel",
       "_view_count": null,
       "_view_module": "@jupyter-widgets/base",
       "_view_module_version": "1.2.0",
       "_view_name": "LayoutView",
       "align_content": null,
       "align_items": null,
       "align_self": null,
       "border": null,
       "bottom": null,
       "display": null,
       "flex": null,
       "flex_flow": null,
       "grid_area": null,
       "grid_auto_columns": null,
       "grid_auto_flow": null,
       "grid_auto_rows": null,
       "grid_column": null,
       "grid_gap": null,
       "grid_row": null,
       "grid_template_areas": null,
       "grid_template_columns": null,
       "grid_template_rows": null,
       "height": null,
       "justify_content": null,
       "justify_items": null,
       "left": null,
       "margin": null,
       "max_height": null,
       "max_width": null,
       "min_height": null,
       "min_width": null,
       "object_fit": null,
       "object_position": null,
       "order": null,
       "overflow": null,
       "overflow_x": null,
       "overflow_y": null,
       "padding": null,
       "right": null,
       "top": null,
       "visibility": null,
       "width": null
      }
     },
     "2b31ba4ff05246ebaf205fc436232579": {
      "model_module": "@jupyter-widgets/base",
      "model_module_version": "1.2.0",
      "model_name": "LayoutModel",
      "state": {
       "_model_module": "@jupyter-widgets/base",
       "_model_module_version": "1.2.0",
       "_model_name": "LayoutModel",
       "_view_count": null,
       "_view_module": "@jupyter-widgets/base",
       "_view_module_version": "1.2.0",
       "_view_name": "LayoutView",
       "align_content": null,
       "align_items": null,
       "align_self": null,
       "border": null,
       "bottom": null,
       "display": null,
       "flex": null,
       "flex_flow": null,
       "grid_area": null,
       "grid_auto_columns": null,
       "grid_auto_flow": null,
       "grid_auto_rows": null,
       "grid_column": null,
       "grid_gap": null,
       "grid_row": null,
       "grid_template_areas": null,
       "grid_template_columns": null,
       "grid_template_rows": null,
       "height": null,
       "justify_content": null,
       "justify_items": null,
       "left": null,
       "margin": null,
       "max_height": null,
       "max_width": null,
       "min_height": null,
       "min_width": null,
       "object_fit": null,
       "object_position": null,
       "order": null,
       "overflow": null,
       "overflow_x": null,
       "overflow_y": null,
       "padding": null,
       "right": null,
       "top": null,
       "visibility": null,
       "width": null
      }
     },
     "3820be86256f4bb1a25caa2bb709192d": {
      "model_module": "@jupyter-widgets/controls",
      "model_module_version": "1.5.0",
      "model_name": "HTMLModel",
      "state": {
       "_dom_classes": [],
       "_model_module": "@jupyter-widgets/controls",
       "_model_module_version": "1.5.0",
       "_model_name": "HTMLModel",
       "_view_count": null,
       "_view_module": "@jupyter-widgets/controls",
       "_view_module_version": "1.5.0",
       "_view_name": "HTMLView",
       "description": "",
       "description_tooltip": null,
       "layout": "IPY_MODEL_ead1019a2117402d9bd52ca8819ed033",
       "placeholder": "​",
       "style": "IPY_MODEL_c80ca0d1488a4539b0979cc618750197",
       "value": " 843k/843k [00:00&lt;00:00, 6.93MB/s]"
      }
     },
     "3f1be4aa01a34d4bb02964bab4399c14": {
      "model_module": "@jupyter-widgets/controls",
      "model_module_version": "1.5.0",
      "model_name": "HTMLModel",
      "state": {
       "_dom_classes": [],
       "_model_module": "@jupyter-widgets/controls",
       "_model_module_version": "1.5.0",
       "_model_name": "HTMLModel",
       "_view_count": null,
       "_view_module": "@jupyter-widgets/controls",
       "_view_module_version": "1.5.0",
       "_view_name": "HTMLView",
       "description": "",
       "description_tooltip": null,
       "layout": "IPY_MODEL_2b31ba4ff05246ebaf205fc436232579",
       "placeholder": "​",
       "style": "IPY_MODEL_832c9228e8d24171a60e6dec1f01bb9b",
       "value": " 740M/740M [00:02&lt;00:00, 276MB/s]"
      }
     },
     "40b7cfb1c6d147bba6b5c56025ea8ef2": {
      "model_module": "@jupyter-widgets/base",
      "model_module_version": "1.2.0",
      "model_name": "LayoutModel",
      "state": {
       "_model_module": "@jupyter-widgets/base",
       "_model_module_version": "1.2.0",
       "_model_name": "LayoutModel",
       "_view_count": null,
       "_view_module": "@jupyter-widgets/base",
       "_view_module_version": "1.2.0",
       "_view_name": "LayoutView",
       "align_content": null,
       "align_items": null,
       "align_self": null,
       "border": null,
       "bottom": null,
       "display": null,
       "flex": null,
       "flex_flow": null,
       "grid_area": null,
       "grid_auto_columns": null,
       "grid_auto_flow": null,
       "grid_auto_rows": null,
       "grid_column": null,
       "grid_gap": null,
       "grid_row": null,
       "grid_template_areas": null,
       "grid_template_columns": null,
       "grid_template_rows": null,
       "height": null,
       "justify_content": null,
       "justify_items": null,
       "left": null,
       "margin": null,
       "max_height": null,
       "max_width": null,
       "min_height": null,
       "min_width": null,
       "object_fit": null,
       "object_position": null,
       "order": null,
       "overflow": null,
       "overflow_x": null,
       "overflow_y": null,
       "padding": null,
       "right": null,
       "top": null,
       "visibility": null,
       "width": null
      }
     },
     "442f0785aac145528e3d56c53993831e": {
      "model_module": "@jupyter-widgets/controls",
      "model_module_version": "1.5.0",
      "model_name": "HTMLModel",
      "state": {
       "_dom_classes": [],
       "_model_module": "@jupyter-widgets/controls",
       "_model_module_version": "1.5.0",
       "_model_name": "HTMLModel",
       "_view_count": null,
       "_view_module": "@jupyter-widgets/controls",
       "_view_module_version": "1.5.0",
       "_view_name": "HTMLView",
       "description": "",
       "description_tooltip": null,
       "layout": "IPY_MODEL_54d4c74fe4bb4e39a3b30fcd089f338e",
       "placeholder": "​",
       "style": "IPY_MODEL_ea70bc9bb87142afac5ff995399c9e6f",
       "value": " 1.08M/1.08M [00:00&lt;00:00, 4.23MB/s]"
      }
     },
     "54d4c74fe4bb4e39a3b30fcd089f338e": {
      "model_module": "@jupyter-widgets/base",
      "model_module_version": "1.2.0",
      "model_name": "LayoutModel",
      "state": {
       "_model_module": "@jupyter-widgets/base",
       "_model_module_version": "1.2.0",
       "_model_name": "LayoutModel",
       "_view_count": null,
       "_view_module": "@jupyter-widgets/base",
       "_view_module_version": "1.2.0",
       "_view_name": "LayoutView",
       "align_content": null,
       "align_items": null,
       "align_self": null,
       "border": null,
       "bottom": null,
       "display": null,
       "flex": null,
       "flex_flow": null,
       "grid_area": null,
       "grid_auto_columns": null,
       "grid_auto_flow": null,
       "grid_auto_rows": null,
       "grid_column": null,
       "grid_gap": null,
       "grid_row": null,
       "grid_template_areas": null,
       "grid_template_columns": null,
       "grid_template_rows": null,
       "height": null,
       "justify_content": null,
       "justify_items": null,
       "left": null,
       "margin": null,
       "max_height": null,
       "max_width": null,
       "min_height": null,
       "min_width": null,
       "object_fit": null,
       "object_position": null,
       "order": null,
       "overflow": null,
       "overflow_x": null,
       "overflow_y": null,
       "padding": null,
       "right": null,
       "top": null,
       "visibility": null,
       "width": null
      }
     },
     "557c95ea6aa84dcab438f433c7f390fc": {
      "model_module": "@jupyter-widgets/base",
      "model_module_version": "1.2.0",
      "model_name": "LayoutModel",
      "state": {
       "_model_module": "@jupyter-widgets/base",
       "_model_module_version": "1.2.0",
       "_model_name": "LayoutModel",
       "_view_count": null,
       "_view_module": "@jupyter-widgets/base",
       "_view_module_version": "1.2.0",
       "_view_name": "LayoutView",
       "align_content": null,
       "align_items": null,
       "align_self": null,
       "border": null,
       "bottom": null,
       "display": null,
       "flex": null,
       "flex_flow": null,
       "grid_area": null,
       "grid_auto_columns": null,
       "grid_auto_flow": null,
       "grid_auto_rows": null,
       "grid_column": null,
       "grid_gap": null,
       "grid_row": null,
       "grid_template_areas": null,
       "grid_template_columns": null,
       "grid_template_rows": null,
       "height": null,
       "justify_content": null,
       "justify_items": null,
       "left": null,
       "margin": null,
       "max_height": null,
       "max_width": null,
       "min_height": null,
       "min_width": null,
       "object_fit": null,
       "object_position": null,
       "order": null,
       "overflow": null,
       "overflow_x": null,
       "overflow_y": null,
       "padding": null,
       "right": null,
       "top": null,
       "visibility": null,
       "width": null
      }
     },
     "638f7d0c975445eb8bfe8cec80a66b30": {
      "model_module": "@jupyter-widgets/controls",
      "model_module_version": "1.5.0",
      "model_name": "FloatProgressModel",
      "state": {
       "_dom_classes": [],
       "_model_module": "@jupyter-widgets/controls",
       "_model_module_version": "1.5.0",
       "_model_name": "FloatProgressModel",
       "_view_count": null,
       "_view_module": "@jupyter-widgets/controls",
       "_view_module_version": "1.5.0",
       "_view_name": "ProgressView",
       "bar_style": "success",
       "description": "",
       "description_tooltip": null,
       "layout": "IPY_MODEL_e33b40173f8f4c9b9984260f65b5b07c",
       "max": 558.0,
       "min": 0.0,
       "orientation": "horizontal",
       "style": "IPY_MODEL_0366b068926c46a79324372fdda0d3fe",
       "value": 558.0
      }
     },
     "63cf1916a79a45168ec07fbec03b70b4": {
      "model_module": "@jupyter-widgets/base",
      "model_module_version": "1.2.0",
      "model_name": "LayoutModel",
      "state": {
       "_model_module": "@jupyter-widgets/base",
       "_model_module_version": "1.2.0",
       "_model_name": "LayoutModel",
       "_view_count": null,
       "_view_module": "@jupyter-widgets/base",
       "_view_module_version": "1.2.0",
       "_view_name": "LayoutView",
       "align_content": null,
       "align_items": null,
       "align_self": null,
       "border": null,
       "bottom": null,
       "display": null,
       "flex": null,
       "flex_flow": null,
       "grid_area": null,
       "grid_auto_columns": null,
       "grid_auto_flow": null,
       "grid_auto_rows": null,
       "grid_column": null,
       "grid_gap": null,
       "grid_row": null,
       "grid_template_areas": null,
       "grid_template_columns": null,
       "grid_template_rows": null,
       "height": null,
       "justify_content": null,
       "justify_items": null,
       "left": null,
       "margin": null,
       "max_height": null,
       "max_width": null,
       "min_height": null,
       "min_width": null,
       "object_fit": null,
       "object_position": null,
       "order": null,
       "overflow": null,
       "overflow_x": null,
       "overflow_y": null,
       "padding": null,
       "right": null,
       "top": null,
       "visibility": null,
       "width": null
      }
     },
     "725b9aa46457457d89743cfb90d006bd": {
      "model_module": "@jupyter-widgets/base",
      "model_module_version": "1.2.0",
      "model_name": "LayoutModel",
      "state": {
       "_model_module": "@jupyter-widgets/base",
       "_model_module_version": "1.2.0",
       "_model_name": "LayoutModel",
       "_view_count": null,
       "_view_module": "@jupyter-widgets/base",
       "_view_module_version": "1.2.0",
       "_view_name": "LayoutView",
       "align_content": null,
       "align_items": null,
       "align_self": null,
       "border": null,
       "bottom": null,
       "display": null,
       "flex": null,
       "flex_flow": null,
       "grid_area": null,
       "grid_auto_columns": null,
       "grid_auto_flow": null,
       "grid_auto_rows": null,
       "grid_column": null,
       "grid_gap": null,
       "grid_row": null,
       "grid_template_areas": null,
       "grid_template_columns": null,
       "grid_template_rows": null,
       "height": null,
       "justify_content": null,
       "justify_items": null,
       "left": null,
       "margin": null,
       "max_height": null,
       "max_width": null,
       "min_height": null,
       "min_width": null,
       "object_fit": null,
       "object_position": null,
       "order": null,
       "overflow": null,
       "overflow_x": null,
       "overflow_y": null,
       "padding": null,
       "right": null,
       "top": null,
       "visibility": null,
       "width": null
      }
     },
     "74240b5fb72e45c9863b10491b9ea5a2": {
      "model_module": "@jupyter-widgets/controls",
      "model_module_version": "1.5.0",
      "model_name": "HTMLModel",
      "state": {
       "_dom_classes": [],
       "_model_module": "@jupyter-widgets/controls",
       "_model_module_version": "1.5.0",
       "_model_name": "HTMLModel",
       "_view_count": null,
       "_view_module": "@jupyter-widgets/controls",
       "_view_module_version": "1.5.0",
       "_view_name": "HTMLView",
       "description": "",
       "description_tooltip": null,
       "layout": "IPY_MODEL_63cf1916a79a45168ec07fbec03b70b4",
       "placeholder": "​",
       "style": "IPY_MODEL_f449810dc58a444f839c1ad8d0974a35",
       "value": " 558/558 [00:00&lt;00:00, 39.7kB/s]"
      }
     },
     "7f63bd8dde004b7393aefa5f716308ab": {
      "model_module": "@jupyter-widgets/controls",
      "model_module_version": "1.5.0",
      "model_name": "HTMLModel",
      "state": {
       "_dom_classes": [],
       "_model_module": "@jupyter-widgets/controls",
       "_model_module_version": "1.5.0",
       "_model_name": "HTMLModel",
       "_view_count": null,
       "_view_module": "@jupyter-widgets/controls",
       "_view_module_version": "1.5.0",
       "_view_name": "HTMLView",
       "description": "",
       "description_tooltip": null,
       "layout": "IPY_MODEL_05a894a52af44c09bd1a69d86d2e7ea9",
       "placeholder": "​",
       "style": "IPY_MODEL_d743211ac5614cddbb6f031cbb674289",
       "value": "Downloading tf_model.h5: 100%"
      }
     },
     "832c9228e8d24171a60e6dec1f01bb9b": {
      "model_module": "@jupyter-widgets/controls",
      "model_module_version": "1.5.0",
      "model_name": "DescriptionStyleModel",
      "state": {
       "_model_module": "@jupyter-widgets/controls",
       "_model_module_version": "1.5.0",
       "_model_name": "DescriptionStyleModel",
       "_view_count": null,
       "_view_module": "@jupyter-widgets/base",
       "_view_module_version": "1.2.0",
       "_view_name": "StyleView",
       "description_width": ""
      }
     },
     "8fc695aead5343b080e62bc085a1bc8b": {
      "model_module": "@jupyter-widgets/controls",
      "model_module_version": "1.5.0",
      "model_name": "ProgressStyleModel",
      "state": {
       "_model_module": "@jupyter-widgets/controls",
       "_model_module_version": "1.5.0",
       "_model_name": "ProgressStyleModel",
       "_view_count": null,
       "_view_module": "@jupyter-widgets/base",
       "_view_module_version": "1.2.0",
       "_view_name": "StyleView",
       "bar_color": null,
       "description_width": ""
      }
     },
     "92f811085bba45f0912f3a8f1f52c945": {
      "model_module": "@jupyter-widgets/controls",
      "model_module_version": "1.5.0",
      "model_name": "DescriptionStyleModel",
      "state": {
       "_model_module": "@jupyter-widgets/controls",
       "_model_module_version": "1.5.0",
       "_model_name": "DescriptionStyleModel",
       "_view_count": null,
       "_view_module": "@jupyter-widgets/base",
       "_view_module_version": "1.2.0",
       "_view_name": "StyleView",
       "description_width": ""
      }
     },
     "980cd37263f248f29412d7e3c112feb2": {
      "model_module": "@jupyter-widgets/controls",
      "model_module_version": "1.5.0",
      "model_name": "HTMLModel",
      "state": {
       "_dom_classes": [],
       "_model_module": "@jupyter-widgets/controls",
       "_model_module_version": "1.5.0",
       "_model_name": "HTMLModel",
       "_view_count": null,
       "_view_module": "@jupyter-widgets/controls",
       "_view_module_version": "1.5.0",
       "_view_name": "HTMLView",
       "description": "",
       "description_tooltip": null,
       "layout": "IPY_MODEL_a94d228b90bb4afd9dee1f9fd511ca63",
       "placeholder": "​",
       "style": "IPY_MODEL_da6fab4117814efdaf026226dd222d80",
       "value": "Downloading (…)lve/main/config.json: 100%"
      }
     },
     "9f84237d79ab4b999916d573a0ce6e0a": {
      "model_module": "@jupyter-widgets/controls",
      "model_module_version": "1.5.0",
      "model_name": "HBoxModel",
      "state": {
       "_dom_classes": [],
       "_model_module": "@jupyter-widgets/controls",
       "_model_module_version": "1.5.0",
       "_model_name": "HBoxModel",
       "_view_count": null,
       "_view_module": "@jupyter-widgets/controls",
       "_view_module_version": "1.5.0",
       "_view_name": "HBoxView",
       "box_style": "",
       "children": [
        "IPY_MODEL_b85697145c5c456a9cc9a7285ae78da0",
        "IPY_MODEL_ce9b7dbac7ab49df953f521fdda303f9",
        "IPY_MODEL_3820be86256f4bb1a25caa2bb709192d"
       ],
       "layout": "IPY_MODEL_258408ae263c4c88ab34c1cfb825eef8"
      }
     },
     "a27e377a55244f37902fbacaa2603e90": {
      "model_module": "@jupyter-widgets/controls",
      "model_module_version": "1.5.0",
      "model_name": "FloatProgressModel",
      "state": {
       "_dom_classes": [],
       "_model_module": "@jupyter-widgets/controls",
       "_model_module_version": "1.5.0",
       "_model_name": "FloatProgressModel",
       "_view_count": null,
       "_view_module": "@jupyter-widgets/controls",
       "_view_module_version": "1.5.0",
       "_view_name": "ProgressView",
       "bar_style": "success",
       "description": "",
       "description_tooltip": null,
       "layout": "IPY_MODEL_1dd4efb07de8454784c875645114e4c0",
       "max": 1078931.0,
       "min": 0.0,
       "orientation": "horizontal",
       "style": "IPY_MODEL_ee3c12f7bd3a42229a75218af89ba35e",
       "value": 1078931.0
      }
     },
     "a94d228b90bb4afd9dee1f9fd511ca63": {
      "model_module": "@jupyter-widgets/base",
      "model_module_version": "1.2.0",
      "model_name": "LayoutModel",
      "state": {
       "_model_module": "@jupyter-widgets/base",
       "_model_module_version": "1.2.0",
       "_model_name": "LayoutModel",
       "_view_count": null,
       "_view_module": "@jupyter-widgets/base",
       "_view_module_version": "1.2.0",
       "_view_name": "LayoutView",
       "align_content": null,
       "align_items": null,
       "align_self": null,
       "border": null,
       "bottom": null,
       "display": null,
       "flex": null,
       "flex_flow": null,
       "grid_area": null,
       "grid_auto_columns": null,
       "grid_auto_flow": null,
       "grid_auto_rows": null,
       "grid_column": null,
       "grid_gap": null,
       "grid_row": null,
       "grid_template_areas": null,
       "grid_template_columns": null,
       "grid_template_rows": null,
       "height": null,
       "justify_content": null,
       "justify_items": null,
       "left": null,
       "margin": null,
       "max_height": null,
       "max_width": null,
       "min_height": null,
       "min_width": null,
       "object_fit": null,
       "object_position": null,
       "order": null,
       "overflow": null,
       "overflow_x": null,
       "overflow_y": null,
       "padding": null,
       "right": null,
       "top": null,
       "visibility": null,
       "width": null
      }
     },
     "a954e4b4296d4b80a993b3fc18a70752": {
      "model_module": "@jupyter-widgets/base",
      "model_module_version": "1.2.0",
      "model_name": "LayoutModel",
      "state": {
       "_model_module": "@jupyter-widgets/base",
       "_model_module_version": "1.2.0",
       "_model_name": "LayoutModel",
       "_view_count": null,
       "_view_module": "@jupyter-widgets/base",
       "_view_module_version": "1.2.0",
       "_view_name": "LayoutView",
       "align_content": null,
       "align_items": null,
       "align_self": null,
       "border": null,
       "bottom": null,
       "display": null,
       "flex": null,
       "flex_flow": null,
       "grid_area": null,
       "grid_auto_columns": null,
       "grid_auto_flow": null,
       "grid_auto_rows": null,
       "grid_column": null,
       "grid_gap": null,
       "grid_row": null,
       "grid_template_areas": null,
       "grid_template_columns": null,
       "grid_template_rows": null,
       "height": null,
       "justify_content": null,
       "justify_items": null,
       "left": null,
       "margin": null,
       "max_height": null,
       "max_width": null,
       "min_height": null,
       "min_width": null,
       "object_fit": null,
       "object_position": null,
       "order": null,
       "overflow": null,
       "overflow_x": null,
       "overflow_y": null,
       "padding": null,
       "right": null,
       "top": null,
       "visibility": null,
       "width": null
      }
     },
     "aa2d2614c2c848c398fea2b128cd902e": {
      "model_module": "@jupyter-widgets/controls",
      "model_module_version": "1.5.0",
      "model_name": "HBoxModel",
      "state": {
       "_dom_classes": [],
       "_model_module": "@jupyter-widgets/controls",
       "_model_module_version": "1.5.0",
       "_model_name": "HBoxModel",
       "_view_count": null,
       "_view_module": "@jupyter-widgets/controls",
       "_view_module_version": "1.5.0",
       "_view_name": "HBoxView",
       "box_style": "",
       "children": [
        "IPY_MODEL_bda09e6fb0954ed099e1e12a705c574f",
        "IPY_MODEL_a27e377a55244f37902fbacaa2603e90",
        "IPY_MODEL_442f0785aac145528e3d56c53993831e"
       ],
       "layout": "IPY_MODEL_40b7cfb1c6d147bba6b5c56025ea8ef2"
      }
     },
     "affde32c3e744d93b1136f48865f70cd": {
      "model_module": "@jupyter-widgets/base",
      "model_module_version": "1.2.0",
      "model_name": "LayoutModel",
      "state": {
       "_model_module": "@jupyter-widgets/base",
       "_model_module_version": "1.2.0",
       "_model_name": "LayoutModel",
       "_view_count": null,
       "_view_module": "@jupyter-widgets/base",
       "_view_module_version": "1.2.0",
       "_view_name": "LayoutView",
       "align_content": null,
       "align_items": null,
       "align_self": null,
       "border": null,
       "bottom": null,
       "display": null,
       "flex": null,
       "flex_flow": null,
       "grid_area": null,
       "grid_auto_columns": null,
       "grid_auto_flow": null,
       "grid_auto_rows": null,
       "grid_column": null,
       "grid_gap": null,
       "grid_row": null,
       "grid_template_areas": null,
       "grid_template_columns": null,
       "grid_template_rows": null,
       "height": null,
       "justify_content": null,
       "justify_items": null,
       "left": null,
       "margin": null,
       "max_height": null,
       "max_width": null,
       "min_height": null,
       "min_width": null,
       "object_fit": null,
       "object_position": null,
       "order": null,
       "overflow": null,
       "overflow_x": null,
       "overflow_y": null,
       "padding": null,
       "right": null,
       "top": null,
       "visibility": null,
       "width": null
      }
     },
     "b85697145c5c456a9cc9a7285ae78da0": {
      "model_module": "@jupyter-widgets/controls",
      "model_module_version": "1.5.0",
      "model_name": "HTMLModel",
      "state": {
       "_dom_classes": [],
       "_model_module": "@jupyter-widgets/controls",
       "_model_module_version": "1.5.0",
       "_model_name": "HTMLModel",
       "_view_count": null,
       "_view_module": "@jupyter-widgets/controls",
       "_view_module_version": "1.5.0",
       "_view_name": "HTMLView",
       "description": "",
       "description_tooltip": null,
       "layout": "IPY_MODEL_a954e4b4296d4b80a993b3fc18a70752",
       "placeholder": "​",
       "style": "IPY_MODEL_f1c0ef3272f446ceb1066189d0dcb059",
       "value": "Downloading (…)solve/main/vocab.txt: 100%"
      }
     },
     "b9501134db764070813470ce553a94e3": {
      "model_module": "@jupyter-widgets/controls",
      "model_module_version": "1.5.0",
      "model_name": "ProgressStyleModel",
      "state": {
       "_model_module": "@jupyter-widgets/controls",
       "_model_module_version": "1.5.0",
       "_model_name": "ProgressStyleModel",
       "_view_count": null,
       "_view_module": "@jupyter-widgets/base",
       "_view_module_version": "1.2.0",
       "_view_name": "StyleView",
       "bar_color": null,
       "description_width": ""
      }
     },
     "bda09e6fb0954ed099e1e12a705c574f": {
      "model_module": "@jupyter-widgets/controls",
      "model_module_version": "1.5.0",
      "model_name": "HTMLModel",
      "state": {
       "_dom_classes": [],
       "_model_module": "@jupyter-widgets/controls",
       "_model_module_version": "1.5.0",
       "_model_name": "HTMLModel",
       "_view_count": null,
       "_view_module": "@jupyter-widgets/controls",
       "_view_module_version": "1.5.0",
       "_view_name": "HTMLView",
       "description": "",
       "description_tooltip": null,
       "layout": "IPY_MODEL_affde32c3e744d93b1136f48865f70cd",
       "placeholder": "​",
       "style": "IPY_MODEL_92f811085bba45f0912f3a8f1f52c945",
       "value": "Downloading (…)solve/main/bpe.codes: 100%"
      }
     },
     "c80ca0d1488a4539b0979cc618750197": {
      "model_module": "@jupyter-widgets/controls",
      "model_module_version": "1.5.0",
      "model_name": "DescriptionStyleModel",
      "state": {
       "_model_module": "@jupyter-widgets/controls",
       "_model_module_version": "1.5.0",
       "_model_name": "DescriptionStyleModel",
       "_view_count": null,
       "_view_module": "@jupyter-widgets/base",
       "_view_module_version": "1.2.0",
       "_view_name": "StyleView",
       "description_width": ""
      }
     },
     "c95d8878126e474faa388f13dbe465c7": {
      "model_module": "@jupyter-widgets/controls",
      "model_module_version": "1.5.0",
      "model_name": "FloatProgressModel",
      "state": {
       "_dom_classes": [],
       "_model_module": "@jupyter-widgets/controls",
       "_model_module_version": "1.5.0",
       "_model_name": "FloatProgressModel",
       "_view_count": null,
       "_view_module": "@jupyter-widgets/controls",
       "_view_module_version": "1.5.0",
       "_view_name": "ProgressView",
       "bar_style": "success",
       "description": "",
       "description_tooltip": null,
       "layout": "IPY_MODEL_557c95ea6aa84dcab438f433c7f390fc",
       "max": 739523780.0,
       "min": 0.0,
       "orientation": "horizontal",
       "style": "IPY_MODEL_b9501134db764070813470ce553a94e3",
       "value": 739523780.0
      }
     },
     "ce9b7dbac7ab49df953f521fdda303f9": {
      "model_module": "@jupyter-widgets/controls",
      "model_module_version": "1.5.0",
      "model_name": "FloatProgressModel",
      "state": {
       "_dom_classes": [],
       "_model_module": "@jupyter-widgets/controls",
       "_model_module_version": "1.5.0",
       "_model_name": "FloatProgressModel",
       "_view_count": null,
       "_view_module": "@jupyter-widgets/controls",
       "_view_module_version": "1.5.0",
       "_view_name": "ProgressView",
       "bar_style": "success",
       "description": "",
       "description_tooltip": null,
       "layout": "IPY_MODEL_164f363d29ac400db4b91cf020963486",
       "max": 843438.0,
       "min": 0.0,
       "orientation": "horizontal",
       "style": "IPY_MODEL_8fc695aead5343b080e62bc085a1bc8b",
       "value": 843438.0
      }
     },
     "d743211ac5614cddbb6f031cbb674289": {
      "model_module": "@jupyter-widgets/controls",
      "model_module_version": "1.5.0",
      "model_name": "DescriptionStyleModel",
      "state": {
       "_model_module": "@jupyter-widgets/controls",
       "_model_module_version": "1.5.0",
       "_model_name": "DescriptionStyleModel",
       "_view_count": null,
       "_view_module": "@jupyter-widgets/base",
       "_view_module_version": "1.2.0",
       "_view_name": "StyleView",
       "description_width": ""
      }
     },
     "da6fab4117814efdaf026226dd222d80": {
      "model_module": "@jupyter-widgets/controls",
      "model_module_version": "1.5.0",
      "model_name": "DescriptionStyleModel",
      "state": {
       "_model_module": "@jupyter-widgets/controls",
       "_model_module_version": "1.5.0",
       "_model_name": "DescriptionStyleModel",
       "_view_count": null,
       "_view_module": "@jupyter-widgets/base",
       "_view_module_version": "1.2.0",
       "_view_name": "StyleView",
       "description_width": ""
      }
     },
     "e33b40173f8f4c9b9984260f65b5b07c": {
      "model_module": "@jupyter-widgets/base",
      "model_module_version": "1.2.0",
      "model_name": "LayoutModel",
      "state": {
       "_model_module": "@jupyter-widgets/base",
       "_model_module_version": "1.2.0",
       "_model_name": "LayoutModel",
       "_view_count": null,
       "_view_module": "@jupyter-widgets/base",
       "_view_module_version": "1.2.0",
       "_view_name": "LayoutView",
       "align_content": null,
       "align_items": null,
       "align_self": null,
       "border": null,
       "bottom": null,
       "display": null,
       "flex": null,
       "flex_flow": null,
       "grid_area": null,
       "grid_auto_columns": null,
       "grid_auto_flow": null,
       "grid_auto_rows": null,
       "grid_column": null,
       "grid_gap": null,
       "grid_row": null,
       "grid_template_areas": null,
       "grid_template_columns": null,
       "grid_template_rows": null,
       "height": null,
       "justify_content": null,
       "justify_items": null,
       "left": null,
       "margin": null,
       "max_height": null,
       "max_width": null,
       "min_height": null,
       "min_width": null,
       "object_fit": null,
       "object_position": null,
       "order": null,
       "overflow": null,
       "overflow_x": null,
       "overflow_y": null,
       "padding": null,
       "right": null,
       "top": null,
       "visibility": null,
       "width": null
      }
     },
     "ea70bc9bb87142afac5ff995399c9e6f": {
      "model_module": "@jupyter-widgets/controls",
      "model_module_version": "1.5.0",
      "model_name": "DescriptionStyleModel",
      "state": {
       "_model_module": "@jupyter-widgets/controls",
       "_model_module_version": "1.5.0",
       "_model_name": "DescriptionStyleModel",
       "_view_count": null,
       "_view_module": "@jupyter-widgets/base",
       "_view_module_version": "1.2.0",
       "_view_name": "StyleView",
       "description_width": ""
      }
     },
     "ead1019a2117402d9bd52ca8819ed033": {
      "model_module": "@jupyter-widgets/base",
      "model_module_version": "1.2.0",
      "model_name": "LayoutModel",
      "state": {
       "_model_module": "@jupyter-widgets/base",
       "_model_module_version": "1.2.0",
       "_model_name": "LayoutModel",
       "_view_count": null,
       "_view_module": "@jupyter-widgets/base",
       "_view_module_version": "1.2.0",
       "_view_name": "LayoutView",
       "align_content": null,
       "align_items": null,
       "align_self": null,
       "border": null,
       "bottom": null,
       "display": null,
       "flex": null,
       "flex_flow": null,
       "grid_area": null,
       "grid_auto_columns": null,
       "grid_auto_flow": null,
       "grid_auto_rows": null,
       "grid_column": null,
       "grid_gap": null,
       "grid_row": null,
       "grid_template_areas": null,
       "grid_template_columns": null,
       "grid_template_rows": null,
       "height": null,
       "justify_content": null,
       "justify_items": null,
       "left": null,
       "margin": null,
       "max_height": null,
       "max_width": null,
       "min_height": null,
       "min_width": null,
       "object_fit": null,
       "object_position": null,
       "order": null,
       "overflow": null,
       "overflow_x": null,
       "overflow_y": null,
       "padding": null,
       "right": null,
       "top": null,
       "visibility": null,
       "width": null
      }
     },
     "ee3c12f7bd3a42229a75218af89ba35e": {
      "model_module": "@jupyter-widgets/controls",
      "model_module_version": "1.5.0",
      "model_name": "ProgressStyleModel",
      "state": {
       "_model_module": "@jupyter-widgets/controls",
       "_model_module_version": "1.5.0",
       "_model_name": "ProgressStyleModel",
       "_view_count": null,
       "_view_module": "@jupyter-widgets/base",
       "_view_module_version": "1.2.0",
       "_view_name": "StyleView",
       "bar_color": null,
       "description_width": ""
      }
     },
     "f1c0ef3272f446ceb1066189d0dcb059": {
      "model_module": "@jupyter-widgets/controls",
      "model_module_version": "1.5.0",
      "model_name": "DescriptionStyleModel",
      "state": {
       "_model_module": "@jupyter-widgets/controls",
       "_model_module_version": "1.5.0",
       "_model_name": "DescriptionStyleModel",
       "_view_count": null,
       "_view_module": "@jupyter-widgets/base",
       "_view_module_version": "1.2.0",
       "_view_name": "StyleView",
       "description_width": ""
      }
     },
     "f449810dc58a444f839c1ad8d0974a35": {
      "model_module": "@jupyter-widgets/controls",
      "model_module_version": "1.5.0",
      "model_name": "DescriptionStyleModel",
      "state": {
       "_model_module": "@jupyter-widgets/controls",
       "_model_module_version": "1.5.0",
       "_model_name": "DescriptionStyleModel",
       "_view_count": null,
       "_view_module": "@jupyter-widgets/base",
       "_view_module_version": "1.2.0",
       "_view_name": "StyleView",
       "description_width": ""
      }
     },
     "fa7df5770363483d80fa8e396c126b67": {
      "model_module": "@jupyter-widgets/controls",
      "model_module_version": "1.5.0",
      "model_name": "HBoxModel",
      "state": {
       "_dom_classes": [],
       "_model_module": "@jupyter-widgets/controls",
       "_model_module_version": "1.5.0",
       "_model_name": "HBoxModel",
       "_view_count": null,
       "_view_module": "@jupyter-widgets/controls",
       "_view_module_version": "1.5.0",
       "_view_name": "HBoxView",
       "box_style": "",
       "children": [
        "IPY_MODEL_980cd37263f248f29412d7e3c112feb2",
        "IPY_MODEL_638f7d0c975445eb8bfe8cec80a66b30",
        "IPY_MODEL_74240b5fb72e45c9863b10491b9ea5a2"
       ],
       "layout": "IPY_MODEL_054fecc8b43e4ef79eea77bade21d7a0"
      }
     }
    },
    "version_major": 2,
    "version_minor": 0
   }
  }
 },
 "nbformat": 4,
 "nbformat_minor": 5
}
